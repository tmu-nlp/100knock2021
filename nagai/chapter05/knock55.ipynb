{
 "cells": [
  {
   "cell_type": "code",
   "execution_count": 5,
   "id": "a7daee44-d177-431e-8f36-c7b0c83f356d",
   "metadata": {},
   "outputs": [
    {
     "name": "stdout",
     "output_type": "stream",
     "text": [
      "train:\n",
      " [[4276  146   12   72]\n",
      " [  80 4144    5   10]\n",
      " [  95  146  445   14]\n",
      " [ 206  176   10  847]]\n",
      "test:\n",
      " [[517  33   1  17]\n",
      " [ 21 490   3   0]\n",
      " [ 22  27  54   3]\n",
      " [ 34  30   2  82]]\n"
     ]
    }
   ],
   "source": [
    "import pandas as pd\n",
    "from sklearn.linear_model import LogisticRegression\n",
    "from sklearn.metrics import confusion_matrix\n",
    "\n",
    "LR=LogisticRegression(random_state=100,max_iter=50000)\n",
    "df_train=pd.read_table(\"train.txt\",header=None,names=[\"CATEGORY\",\"TITLE\"])\n",
    "df_test=pd.read_table(\"test.txt\",header=None,names=[\"CATEGORY\",\"TITLE\"])\n",
    "X_train=pd.read_table(\"X_train.txt\")\n",
    "X_test=pd.read_table(\"X_test.txt\")\n",
    "LR.fit(X_train, df_train[\"CATEGORY\"])\n",
    "\n",
    "#55\n",
    "train_confusion_matrix=confusion_matrix(df_train[\"CATEGORY\"],LR.predict(X_train))\n",
    "print(\"train:\\n\",train_confusion_matrix)\n",
    "test_confusion_matrix=confusion_matrix(df_test[\"CATEGORY\"],LR.predict(X_test))\n",
    "print(\"test:\\n\",test_confusion_matrix)"
   ]
  },
  {
   "cell_type": "code",
   "execution_count": null,
   "id": "bf477fc6-8d00-45b7-ac17-ca007f4745ac",
   "metadata": {},
   "outputs": [],
   "source": []
  }
 ],
 "metadata": {
  "kernelspec": {
   "display_name": "Python 3",
   "language": "python",
   "name": "python3"
  },
  "language_info": {
   "codemirror_mode": {
    "name": "ipython",
    "version": 3
   },
   "file_extension": ".py",
   "mimetype": "text/x-python",
   "name": "python",
   "nbconvert_exporter": "python",
   "pygments_lexer": "ipython3",
   "version": "3.9.4"
  }
 },
 "nbformat": 4,
 "nbformat_minor": 5
}
