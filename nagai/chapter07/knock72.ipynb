{
 "cells": [
  {
   "cell_type": "code",
   "execution_count": 2,
   "id": "438dde0d-8577-4766-8e39-eb2b06728e1d",
   "metadata": {},
   "outputs": [
    {
     "name": "stdout",
     "output_type": "stream",
     "text": [
      "x1:\n",
      "損失：1.3775981664657593\n",
      "勾配:\n",
      "tensor([[ 0.0051, -0.0056, -0.0214,  ..., -0.0277, -0.1146,  0.0250],\n",
      "        [-0.0018,  0.0020,  0.0076,  ...,  0.0098,  0.0405, -0.0088],\n",
      "        [-0.0017,  0.0019,  0.0074,  ...,  0.0095,  0.0394, -0.0086],\n",
      "        [-0.0015,  0.0017,  0.0065,  ...,  0.0084,  0.0347, -0.0076]])\n",
      "x1-4:\n",
      "損失：1.3805497884750366\n",
      "勾配:\n",
      "tensor([[ 2.6658e-02,  1.0099e-02, -3.5468e-03,  ..., -2.1808e-02,\n",
      "         -3.8252e-02,  1.7479e-02],\n",
      "        [-1.2781e-02, -9.2935e-03,  2.0578e-02,  ...,  1.3815e-02,\n",
      "          9.7533e-03,  6.4637e-04],\n",
      "        [-7.0025e-03, -8.4300e-04, -7.8382e-03,  ...,  4.5594e-03,\n",
      "          1.4666e-02, -9.1652e-03],\n",
      "        [-6.8743e-03,  3.7900e-05, -9.1932e-03,  ...,  3.4345e-03,\n",
      "          1.3833e-02, -8.9602e-03]])\n"
     ]
    }
   ],
   "source": [
    "from torch import nn\n",
    "import pickle\n",
    "import torch\n",
    "\n",
    "class neural_net(nn.Module):\n",
    "    def __init__(self,inp,out):\n",
    "        super().__init__()\n",
    "        self.fc=nn.Linear(inp,out,bias=False)\n",
    "        nn.init.xavier_normal_(self.fc.weight)\n",
    "    \n",
    "    def forward(self,x):\n",
    "        x=self.fc(x)\n",
    "        return x\n",
    "\n",
    "def loss_grad(x_v,y_v,model):\n",
    "    ave_loss=nn.CrossEntropyLoss()\n",
    "    loss=ave_loss(model(x_v),y_v)\n",
    "    print(\"損失：{}\".format(loss.item()))\n",
    "    model.zero_grad()\n",
    "    loss.backward()\n",
    "    print(\"勾配:\\n{}\".format(model.fc.weight.grad))\n",
    "  \n",
    "\n",
    "model=neural_net(300,4)\n",
    "with open(\"train.pickle\",\"rb\") as tp:\n",
    "    X_train=pickle.load(tp)\n",
    "with open(\"train.label.pickle\",\"rb\") as tlp:\n",
    "    Y_train=pickle.load(tlp)\n",
    "  \n",
    "print(\"x1:\")\n",
    "loss_grad(X_train[:1],Y_train[:1],model)\n",
    "print(\"x1-4:\")\n",
    "loss_grad(X_train[:4],Y_train[:4],model)\n",
    "\n",
    "    "
   ]
  },
  {
   "cell_type": "code",
   "execution_count": null,
   "id": "cdf998ba-a0ac-41d7-8f1c-c129a4d7ac41",
   "metadata": {},
   "outputs": [],
   "source": []
  }
 ],
 "metadata": {
  "kernelspec": {
   "display_name": "Python 3",
   "language": "python",
   "name": "python3"
  },
  "language_info": {
   "codemirror_mode": {
    "name": "ipython",
    "version": 3
   },
   "file_extension": ".py",
   "mimetype": "text/x-python",
   "name": "python",
   "nbconvert_exporter": "python",
   "pygments_lexer": "ipython3",
   "version": "3.9.4"
  }
 },
 "nbformat": 4,
 "nbformat_minor": 5
}
