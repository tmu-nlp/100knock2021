{
 "cells": [
  {
   "cell_type": "code",
   "execution_count": 15,
   "id": "1b429d63-e89d-4bdd-b428-d47666738686",
   "metadata": {
    "tags": []
   },
   "outputs": [
    {
     "name": "stdout",
     "output_type": "stream",
     "text": [
      "           precision    recall        F1\n",
      "b           0.870370  0.910211  0.889845\n",
      "e           0.844828  0.953307  0.895795\n",
      "m           0.900000  0.509434  0.650602\n",
      "t           0.803922  0.554054  0.656000\n",
      "micro_ave   0.855539  0.855539  0.855539\n",
      "macro_ave   0.854780  0.731752  0.773061\n"
     ]
    }
   ],
   "source": [
    "import pandas as pd\n",
    "import numpy as np\n",
    "from sklearn.linear_model import LogisticRegression\n",
    "from sklearn.metrics import precision_score,recall_score,f1_score\n",
    "\n",
    "LR=LogisticRegression(random_state=100,max_iter=50000)\n",
    "df_train=pd.read_table(\"train.txt\",header=None,names=[\"CATEGORY\",\"TITLE\"])\n",
    "df_test=pd.read_table(\"test.txt\",header=None,names=[\"CATEGORY\",\"TITLE\"])\n",
    "X_train=pd.read_table(\"X_train.txt\")\n",
    "X_test=pd.read_table(\"X_test.txt\")\n",
    "LR.fit(X_train, df_train[\"CATEGORY\"])\n",
    "\n",
    "#56\n",
    "prec=precision_score(df_test[\"CATEGORY\"],LR.predict(X_test),average=None,labels=[\"b\",\"e\",\"m\",\"t\"])\n",
    "reca=recall_score(df_test[\"CATEGORY\"],LR.predict(X_test),average=None,labels=[\"b\",\"e\",\"m\",\"t\"])\n",
    "f1=f1_score(df_test[\"CATEGORY\"],LR.predict(X_test),average=None,labels=[\"b\",\"e\",\"m\",\"t\"])\n",
    "\n",
    "prec_micro=precision_score(df_test[\"CATEGORY\"],LR.predict(X_test),average=\"micro\",labels=[\"b\",\"e\",\"m\",\"t\"])\n",
    "prec=np.append(prec,prec_micro)\n",
    "reca_micro=recall_score(df_test[\"CATEGORY\"],LR.predict(X_test),average=\"micro\",labels=[\"b\",\"e\",\"m\",\"t\"])\n",
    "reca=np.append(reca,reca_micro)\n",
    "f1_micro=f1_score(df_test[\"CATEGORY\"],LR.predict(X_test),average=\"micro\",labels=[\"b\",\"e\",\"m\",\"t\"])\n",
    "f1=np.append(f1,f1_micro)\n",
    "\n",
    "prec_macro=precision_score(df_test[\"CATEGORY\"],LR.predict(X_test),average=\"macro\",labels=[\"b\",\"e\",\"m\",\"t\"])\n",
    "prec=np.append(prec,prec_macro)\n",
    "reca_macro=recall_score(df_test[\"CATEGORY\"],LR.predict(X_test),average=\"macro\",labels=[\"b\",\"e\",\"m\",\"t\"])\n",
    "reca=np.append(reca,reca_macro)\n",
    "f1_macro=f1_score(df_test[\"CATEGORY\"],LR.predict(X_test),average=\"macro\",labels=[\"b\",\"e\",\"m\",\"t\"])\n",
    "f1=np.append(f1,f1_macro)\n",
    "\n",
    "df_all=pd.DataFrame({\"precision\":prec,\"recall\":reca,\"F1\":f1},index=[\"b\",\"e\",\"m\",\"t\",\"micro_ave\",\"macro_ave\"])\n",
    "print(df_all)"
   ]
  },
  {
   "cell_type": "code",
   "execution_count": null,
   "id": "d903a136-3386-4277-a587-4ce422b3767a",
   "metadata": {},
   "outputs": [],
   "source": []
  }
 ],
 "metadata": {
  "kernelspec": {
   "display_name": "Python 3",
   "language": "python",
   "name": "python3"
  },
  "language_info": {
   "codemirror_mode": {
    "name": "ipython",
    "version": 3
   },
   "file_extension": ".py",
   "mimetype": "text/x-python",
   "name": "python",
   "nbconvert_exporter": "python",
   "pygments_lexer": "ipython3",
   "version": "3.9.4"
  }
 },
 "nbformat": 4,
 "nbformat_minor": 5
}
