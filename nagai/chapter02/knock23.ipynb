{
 "cells": [
  {
   "cell_type": "code",
   "execution_count": 60,
   "id": "721a0aa0-105d-48ed-86b3-ce32a5d2c468",
   "metadata": {},
   "outputs": [
    {
     "name": "stdout",
     "output_type": "stream",
     "text": [
      "セレクション名:国名\t\tレベル:1\n",
      "セレクション名:歴史\t\tレベル:1\n",
      "セレクション名:地理\t\tレベル:1\n",
      "セレクション名:主要都市\t\tレベル:2\n",
      "セレクション名:気候\t\tレベル:2\n",
      "セレクション名:政治\t\tレベル:1\n",
      "セレクション名:元首\t\tレベル:2\n",
      "セレクション名:法\t\tレベル:2\n",
      "セレクション名:内政\t\tレベル:2\n",
      "セレクション名:地方行政区分\t\tレベル:2\n",
      "セレクション名:外交・軍事\t\tレベル:2\n",
      "セレクション名:経済\t\tレベル:1\n",
      "セレクション名:鉱業\t\tレベル:2\n",
      "セレクション名:農業\t\tレベル:2\n",
      "セレクション名:貿易\t\tレベル:2\n",
      "セレクション名:不動産\t\tレベル:2\n",
      "セレクション名:エネルギー政策\t\tレベル:2\n",
      "セレクション名:通貨\t\tレベル:2\n",
      "セレクション名:企業\t\tレベル:2\n",
      "セレクション名:通信\t\tレベル:3\n",
      "セレクション名:交通\t\tレベル:1\n",
      "セレクション名:道路\t\tレベル:2\n",
      "セレクション名:鉄道\t\tレベル:2\n",
      "セレクション名:海運\t\tレベル:2\n",
      "セレクション名:航空\t\tレベル:2\n",
      "セレクション名:科学技術\t\tレベル:1\n",
      "セレクション名:国民\t\tレベル:1\n",
      "セレクション名:言語\t\tレベル:2\n",
      "セレクション名:宗教\t\tレベル:2\n",
      "セレクション名:婚姻\t\tレベル:2\n",
      "セレクション名:移住\t\tレベル:2\n",
      "セレクション名:教育\t\tレベル:2\n",
      "セレクション名:医療\t\tレベル:2\n",
      "セレクション名:文化\t\tレベル:1\n",
      "セレクション名:食文化\t\tレベル:2\n",
      "セレクション名:文学\t\tレベル:2\n",
      "セレクション名:哲学\t\tレベル:2\n",
      "セレクション名:音楽\t\tレベル:2\n",
      "セレクション名:ポピュラー音楽\t\tレベル:3\n",
      "セレクション名:映画\t\tレベル:2\n",
      "セレクション名:コメディ\t\tレベル:2\n",
      "セレクション名:国花\t\tレベル:2\n",
      "セレクション名:世界遺産\t\tレベル:2\n",
      "セレクション名:祝祭日\t\tレベル:2\n",
      "セレクション名:スポーツ\t\tレベル:2\n",
      "セレクション名:サッカー\t\tレベル:3\n",
      "セレクション名:クリケット\t\tレベル:3\n",
      "セレクション名:競馬\t\tレベル:3\n",
      "セレクション名:モータースポーツ\t\tレベル:3\n",
      "セレクション名:野球\t\tレベル:3\n",
      "セレクション名:脚注\t\tレベル:1\n",
      "セレクション名:関連項目\t\tレベル:1\n",
      "セレクション名:外部リンク\t\tレベル:1\n"
     ]
    }
   ],
   "source": [
    "import json\n",
    "import gzip\n",
    "import re\n",
    "\n",
    "with gzip.open(\"jawiki-country.json.gz\",\"r\") as data_file:\n",
    "    for line in data_file:\n",
    "        data=json.loads(line)\n",
    "        if data[\"title\"]==\"イギリス\":\n",
    "            text=data[\"text\"].split()\n",
    "    for line2 in text:\n",
    "        if re.match(r\"=+.+?=+\",line2):\n",
    "            level=(line2.count('=')-2)/2\n",
    "            name=line2.strip(\"=\")\n",
    "            if len(name)!=0:\n",
    "                print(\"セレクション名:{0}\\t\\tレベル:{1}\".format(\"\".join(name),int(level)))     "
   ]
  },
  {
   "cell_type": "code",
   "execution_count": null,
   "id": "13d71662-c672-4e4e-9ac3-ad36b5236275",
   "metadata": {},
   "outputs": [],
   "source": []
  },
  {
   "cell_type": "code",
   "execution_count": null,
   "id": "f12d9365-aaea-424e-9790-bb9dfc6e0a8f",
   "metadata": {},
   "outputs": [],
   "source": []
  }
 ],
 "metadata": {
  "kernelspec": {
   "display_name": "Python 3",
   "language": "python",
   "name": "python3"
  },
  "language_info": {
   "codemirror_mode": {
    "name": "ipython",
    "version": 3
   },
   "file_extension": ".py",
   "mimetype": "text/x-python",
   "name": "python",
   "nbconvert_exporter": "python",
   "pygments_lexer": "ipython3",
   "version": "3.9.4"
  }
 },
 "nbformat": 4,
 "nbformat_minor": 5
}
