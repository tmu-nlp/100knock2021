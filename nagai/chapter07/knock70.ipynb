{
 "cells": [
  {
   "cell_type": "code",
   "execution_count": 2,
   "id": "c31bc2f4-3ce5-4ea4-aef9-5804f549ef54",
   "metadata": {},
   "outputs": [],
   "source": [
    "import gensim\n",
    "from gensim.models import KeyedVectors\n",
    "import torch\n",
    "\n",
    "def tangoretu(feature_txt):\n",
    "    with open(feature_txt,\"r\",encoding=\"utf-8\") as ft:\n",
    "        sen=[]\n",
    "        tags=[]\n",
    "        tag_num={\"b\":0,\"t\":1,\"e\":2,\"m\":3}\n",
    "        for line in ft:\n",
    "            tag,words=line.strip().split(\"\\t\")\n",
    "            tags.append(tag_num[tag])\n",
    "            word=words.split(\" \")\n",
    "            sen.append(word)\n",
    "        return sen,tags\n",
    "    \n",
    "def x_i(retu,model):\n",
    "    sent_v=[]\n",
    "    for sent in retu:\n",
    "        sent_v_i=[]\n",
    "        for word in sent:\n",
    "            if word in model:\n",
    "                sent_v_i.append(torch.tensor(model[word]))\n",
    "        sent_v.append(sum(sent_v_i)/len(sent_v_i))\n",
    "    return torch.stack(sent_v)\n",
    "        \n",
    "                \n",
    " \n",
    "model=gensim.models.KeyedVectors.load_word2vec_format(\"GoogleNews-vectors-negative300.bin.gz\",binary=True)\n",
    "\n",
    "import pickle\n",
    "\n",
    "test_retu,test_tag=tangoretu(\"test.feature.txt\")\n",
    "X_test=x_i(test_retu,model)\n",
    "Y_test=torch.tensor(test_tag)\n",
    "with open(\"test.pickle\",\"wb\")as f:\n",
    "    pickle.dump(X_test,f)\n",
    "with open(\"test.label.pickle\",\"wb\")as f:\n",
    "    pickle.dump(Y_test,f)\n",
    "\n",
    "train_retu,train_tag=tangoretu(\"train.feature.txt\")\n",
    "X_train=x_i(train_retu,model)\n",
    "Y_train=torch.tensor(train_tag)\n",
    "with open(\"train.pickle\",\"wb\")as f:\n",
    "    pickle.dump(X_train,f)\n",
    "with open(\"train.label.pickle\",\"wb\")as f:\n",
    "    pickle.dump(Y_train,f)\n",
    "\n",
    "valid_retu,valid_tag=tangoretu(\"valid.feature.txt\")\n",
    "X_valid=x_i(valid_retu,model)\n",
    "Y_valid=torch.tensor(valid_tag)\n",
    "with open(\"valid.pickle\",\"wb\")as f:\n",
    "    pickle.dump(X_valid,f)\n",
    "with open(\"valid.label.pickle\",\"wb\")as f:\n",
    "    pickle.dump(Y_valid,f)"
   ]
  },
  {
   "cell_type": "code",
   "execution_count": null,
   "id": "55213ead-f7a7-4e05-89a3-9443fea11815",
   "metadata": {},
   "outputs": [],
   "source": []
  }
 ],
 "metadata": {
  "kernelspec": {
   "display_name": "Python 3",
   "language": "python",
   "name": "python3"
  },
  "language_info": {
   "codemirror_mode": {
    "name": "ipython",
    "version": 3
   },
   "file_extension": ".py",
   "mimetype": "text/x-python",
   "name": "python",
   "nbconvert_exporter": "python",
   "pygments_lexer": "ipython3",
   "version": "3.9.4"
  }
 },
 "nbformat": 4,
 "nbformat_minor": 5
}
