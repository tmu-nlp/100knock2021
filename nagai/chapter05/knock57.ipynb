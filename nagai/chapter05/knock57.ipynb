{
 "cells": [
  {
   "cell_type": "code",
   "execution_count": 38,
   "id": "19d7c667-8dfd-47a8-ac6f-b9e3fcc09f93",
   "metadata": {},
   "outputs": [
    {
     "name": "stdout",
     "output_type": "stream",
     "text": [
      "CATEGORY: b\n",
      "rank: 1 \t上位: bank \t下位: she\n",
      "rank: 2 \t上位: fed \t下位: ebola\n",
      "rank: 3 \t上位: stocks \t下位: her\n",
      "rank: 4 \t上位: ecb \t下位: and\n",
      "rank: 5 \t上位: china \t下位: microsoft\n",
      "rank: 6 \t上位: euro \t下位: aereo\n",
      "rank: 7 \t上位: obamacare \t下位: star\n",
      "rank: 8 \t上位: oil \t下位: study\n",
      "rank: 9 \t上位: ukraine \t下位: samsung\n",
      "rank: 10 \t上位: yellen \t下位: video\n",
      "\n",
      "CATEGORY: e\n",
      "rank: 1 \t上位: kardashian \t下位: update\n",
      "rank: 2 \t上位: chris \t下位: us\n",
      "rank: 3 \t上位: movie \t下位: google\n",
      "rank: 4 \t上位: paul \t下位: china\n",
      "rank: 5 \t上位: she \t下位: study\n",
      "rank: 6 \t上位: kim \t下位: gm\n",
      "rank: 7 \t上位: cyrus \t下位: says\n",
      "rank: 8 \t上位: film \t下位: risk\n",
      "rank: 9 \t上位: miley \t下位: data\n",
      "rank: 10 \t上位: thrones \t下位: billion\n",
      "\n",
      "CATEGORY: m\n",
      "rank: 1 \t上位: ebola \t下位: facebook\n",
      "rank: 2 \t上位: study \t下位: gm\n",
      "rank: 3 \t上位: cancer \t下位: deal\n",
      "rank: 4 \t上位: fda \t下位: apple\n",
      "rank: 5 \t上位: drug \t下位: google\n",
      "rank: 6 \t上位: mers \t下位: bank\n",
      "rank: 7 \t上位: cdc \t下位: climate\n",
      "rank: 8 \t上位: health \t下位: ceo\n",
      "rank: 9 \t上位: could \t下位: fed\n",
      "rank: 10 \t上位: cigarettes \t下位: twitter\n",
      "\n",
      "CATEGORY: t\n",
      "rank: 1 \t上位: google \t下位: stocks\n",
      "rank: 2 \t上位: facebook \t下位: men\n",
      "rank: 3 \t上位: apple \t下位: american\n",
      "rank: 4 \t上位: microsoft \t下位: drug\n",
      "rank: 5 \t上位: climate \t下位: fed\n",
      "rank: 6 \t上位: tesla \t下位: her\n",
      "rank: 7 \t上位: comcast \t下位: cancer\n",
      "rank: 8 \t上位: gm \t下位: ukraine\n",
      "rank: 9 \t上位: nasa \t下位: his\n",
      "rank: 10 \t上位: heartbleed \t下位: thrones\n",
      "\n"
     ]
    }
   ],
   "source": [
    "import pandas as pd\n",
    "import numpy as np\n",
    "from sklearn.linear_model import LogisticRegression\n",
    "from sklearn.metrics import precision_score,recall_score,f1_score\n",
    "\n",
    "LR=LogisticRegression(random_state=100,max_iter=50000)\n",
    "df_train=pd.read_table(\"train.txt\",header=None,names=[\"CATEGORY\",\"TITLE\"])\n",
    "df_test=pd.read_table(\"test.txt\",header=None,names=[\"CATEGORY\",\"TITLE\"])\n",
    "X_train=pd.read_table(\"X_train.txt\")\n",
    "X_test=pd.read_table(\"X_test.txt\")\n",
    "LR.fit(X_train, df_train[\"CATEGORY\"])\n",
    "\n",
    "#57\n",
    "features=np.array(X_train.columns.values)\n",
    "for cl,val in zip(LR.classes_,LR.coef_):\n",
    "    sort_coef=np.argsort(val)\n",
    "    best_10=sort_coef[-10:][::-1]\n",
    "    worst_10=sort_coef[:10]\n",
    "    print(\"CATEGORY:\",cl)\n",
    "    for num in range(0,10):\n",
    "        print(\"rank:\",num+1,\"\\t上位:\",features[best_10[num]],\"\\t下位:\",features[worst_10[num]])\n",
    "    print()"
   ]
  },
  {
   "cell_type": "code",
   "execution_count": null,
   "id": "00c13b6d-bf5b-4204-8bfa-12f72e7ae39b",
   "metadata": {},
   "outputs": [],
   "source": []
  }
 ],
 "metadata": {
  "kernelspec": {
   "display_name": "Python 3",
   "language": "python",
   "name": "python3"
  },
  "language_info": {
   "codemirror_mode": {
    "name": "ipython",
    "version": 3
   },
   "file_extension": ".py",
   "mimetype": "text/x-python",
   "name": "python",
   "nbconvert_exporter": "python",
   "pygments_lexer": "ipython3",
   "version": "3.9.4"
  }
 },
 "nbformat": 4,
 "nbformat_minor": 5
}
