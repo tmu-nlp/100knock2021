{
 "cells": [
  {
   "cell_type": "code",
   "execution_count": 30,
   "id": "df7faa32-c50b-40d9-b2af-5c1d8f2559d4",
   "metadata": {},
   "outputs": [
    {
     "name": "stdout",
     "output_type": "stream",
     "text": [
      "Kingdom|s=Category:イギリス|n=Category:イギリス|voy=United\n",
      "[[Category:イギリス|*]]\n",
      "[[Category:イギリス連邦加盟国]]\n",
      "[[Category:英連邦王国|*]]\n",
      "[[Category:G8加盟国]]\n",
      "[[Category:欧州連合加盟国|元]]\n",
      "[[Category:海洋国家]]\n",
      "[[Category:現存する君主国]]\n",
      "[[Category:島国]]\n",
      "[[Category:1801年に成立した国家・領域]]\n"
     ]
    }
   ],
   "source": [
    "import json\n",
    "import gzip\n",
    "import re\n",
    "with gzip.open(\"jawiki-country.json.gz\",\"r\") as data_file:\n",
    "    for line in data_file:\n",
    "        data=json.loads(line)\n",
    "        if data[\"title\"]==\"イギリス\":\n",
    "            text=data[\"text\"].split()\n",
    "    for line2 in text:\n",
    "        if re.match(r\".*Category:\",line2):\n",
    "            print(line2)"
   ]
  },
  {
   "cell_type": "code",
   "execution_count": null,
   "id": "f630dd95-5844-46d1-b25f-38808678d56c",
   "metadata": {},
   "outputs": [],
   "source": []
  },
  {
   "cell_type": "code",
   "execution_count": null,
   "id": "82dab735-0c3b-44a1-a274-cefa445e5b10",
   "metadata": {},
   "outputs": [],
   "source": []
  }
 ],
 "metadata": {
  "kernelspec": {
   "display_name": "Python 3",
   "language": "python",
   "name": "python3"
  },
  "language_info": {
   "codemirror_mode": {
    "name": "ipython",
    "version": 3
   },
   "file_extension": ".py",
   "mimetype": "text/x-python",
   "name": "python",
   "nbconvert_exporter": "python",
   "pygments_lexer": "ipython3",
   "version": "3.9.4"
  }
 },
 "nbformat": 4,
 "nbformat_minor": 5
}
