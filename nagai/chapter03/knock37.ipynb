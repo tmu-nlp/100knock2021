{
 "cells": [
  {
   "cell_type": "code",
   "execution_count": 3,
   "id": "e2f02078-37b9-4fa1-af15-4f6237aa5dec",
   "metadata": {},
   "outputs": [
    {
     "name": "stderr",
     "output_type": "stream",
     "text": [
      "c:\\users\\yoshi\\appdata\\local\\programs\\python\\python39\\lib\\site-packages\\matplotlib\\backends\\backend_agg.py:240: RuntimeWarning: Glyph 12398 missing from current font.\n",
      "  font.set_text(s, 0.0, flags=flags)\n",
      "c:\\users\\yoshi\\appdata\\local\\programs\\python\\python39\\lib\\site-packages\\matplotlib\\backends\\backend_agg.py:240: RuntimeWarning: Glyph 12399 missing from current font.\n",
      "  font.set_text(s, 0.0, flags=flags)\n",
      "c:\\users\\yoshi\\appdata\\local\\programs\\python\\python39\\lib\\site-packages\\matplotlib\\backends\\backend_agg.py:240: RuntimeWarning: Glyph 12289 missing from current font.\n",
      "  font.set_text(s, 0.0, flags=flags)\n",
      "c:\\users\\yoshi\\appdata\\local\\programs\\python\\python39\\lib\\site-packages\\matplotlib\\backends\\backend_agg.py:240: RuntimeWarning: Glyph 12395 missing from current font.\n",
      "  font.set_text(s, 0.0, flags=flags)\n",
      "c:\\users\\yoshi\\appdata\\local\\programs\\python\\python39\\lib\\site-packages\\matplotlib\\backends\\backend_agg.py:240: RuntimeWarning: Glyph 12384 missing from current font.\n",
      "  font.set_text(s, 0.0, flags=flags)\n",
      "c:\\users\\yoshi\\appdata\\local\\programs\\python\\python39\\lib\\site-packages\\matplotlib\\backends\\backend_agg.py:240: RuntimeWarning: Glyph 29483 missing from current font.\n",
      "  font.set_text(s, 0.0, flags=flags)\n",
      "c:\\users\\yoshi\\appdata\\local\\programs\\python\\python39\\lib\\site-packages\\matplotlib\\backends\\backend_agg.py:240: RuntimeWarning: Glyph 12434 missing from current font.\n",
      "  font.set_text(s, 0.0, flags=flags)\n",
      "c:\\users\\yoshi\\appdata\\local\\programs\\python\\python39\\lib\\site-packages\\matplotlib\\backends\\backend_agg.py:240: RuntimeWarning: Glyph 12390 missing from current font.\n",
      "  font.set_text(s, 0.0, flags=flags)\n",
      "c:\\users\\yoshi\\appdata\\local\\programs\\python\\python39\\lib\\site-packages\\matplotlib\\backends\\backend_agg.py:240: RuntimeWarning: Glyph 12392 missing from current font.\n",
      "  font.set_text(s, 0.0, flags=flags)\n",
      "c:\\users\\yoshi\\appdata\\local\\programs\\python\\python39\\lib\\site-packages\\matplotlib\\backends\\backend_agg.py:240: RuntimeWarning: Glyph 12364 missing from current font.\n",
      "  font.set_text(s, 0.0, flags=flags)\n",
      "c:\\users\\yoshi\\appdata\\local\\programs\\python\\python39\\lib\\site-packages\\matplotlib\\backends\\backend_agg.py:203: RuntimeWarning: Glyph 12398 missing from current font.\n",
      "  font.set_text(s, 0, flags=flags)\n",
      "c:\\users\\yoshi\\appdata\\local\\programs\\python\\python39\\lib\\site-packages\\matplotlib\\backends\\backend_agg.py:203: RuntimeWarning: Glyph 12399 missing from current font.\n",
      "  font.set_text(s, 0, flags=flags)\n",
      "c:\\users\\yoshi\\appdata\\local\\programs\\python\\python39\\lib\\site-packages\\matplotlib\\backends\\backend_agg.py:203: RuntimeWarning: Glyph 12289 missing from current font.\n",
      "  font.set_text(s, 0, flags=flags)\n",
      "c:\\users\\yoshi\\appdata\\local\\programs\\python\\python39\\lib\\site-packages\\matplotlib\\backends\\backend_agg.py:203: RuntimeWarning: Glyph 12395 missing from current font.\n",
      "  font.set_text(s, 0, flags=flags)\n",
      "c:\\users\\yoshi\\appdata\\local\\programs\\python\\python39\\lib\\site-packages\\matplotlib\\backends\\backend_agg.py:203: RuntimeWarning: Glyph 12384 missing from current font.\n",
      "  font.set_text(s, 0, flags=flags)\n",
      "c:\\users\\yoshi\\appdata\\local\\programs\\python\\python39\\lib\\site-packages\\matplotlib\\backends\\backend_agg.py:203: RuntimeWarning: Glyph 29483 missing from current font.\n",
      "  font.set_text(s, 0, flags=flags)\n",
      "c:\\users\\yoshi\\appdata\\local\\programs\\python\\python39\\lib\\site-packages\\matplotlib\\backends\\backend_agg.py:203: RuntimeWarning: Glyph 12434 missing from current font.\n",
      "  font.set_text(s, 0, flags=flags)\n",
      "c:\\users\\yoshi\\appdata\\local\\programs\\python\\python39\\lib\\site-packages\\matplotlib\\backends\\backend_agg.py:203: RuntimeWarning: Glyph 12390 missing from current font.\n",
      "  font.set_text(s, 0, flags=flags)\n",
      "c:\\users\\yoshi\\appdata\\local\\programs\\python\\python39\\lib\\site-packages\\matplotlib\\backends\\backend_agg.py:203: RuntimeWarning: Glyph 12392 missing from current font.\n",
      "  font.set_text(s, 0, flags=flags)\n",
      "c:\\users\\yoshi\\appdata\\local\\programs\\python\\python39\\lib\\site-packages\\matplotlib\\backends\\backend_agg.py:203: RuntimeWarning: Glyph 12364 missing from current font.\n",
      "  font.set_text(s, 0, flags=flags)\n"
     ]
    },
    {
     "data": {
      "image/png": "[encoded data removed]",
      "text/plain": [
       "<Figure size 432x288 with 1 Axes>"
      ]
     },
     "metadata": {
      "needs_background": "light"
     },
     "output_type": "display_data"
    }
   ],
   "source": [
    "from  collections import Counter\n",
    "import MeCab \n",
    "import matplotlib.pyplot as plt \n",
    "\n",
    "with open(\"neko.txt\",\"r\",encoding=\"utf-8\") as mecab_file:\n",
    "    a=mecab_file.read()\n",
    "    mecab=MeCab.Tagger()\n",
    "with open(\"neko2.txt.mecab\",\"w\",encoding=\"utf-8\") as mecab_file2:\n",
    "    mecab_file2.write(mecab.parse(a))\n",
    "\n",
    "with open(\"neko2.txt.mecab\",\"r\",encoding=\"utf-8\") as me_file:\n",
    "    keitaiso=[]\n",
    "    kyoki=[]\n",
    "    words=[]\n",
    "    freqs=[]\n",
    "    sent=[]\n",
    "    for line in me_file:\n",
    "        line=line.strip(\"\\n\")\n",
    "        line=line.replace(\",\",\"\\t\")\n",
    "        items=line.split(\"\\t\")\n",
    "        \n",
    "        if items[0]==\"EOS\":\n",
    "            break;\n",
    "            \n",
    "        keys={\n",
    "            \"surface\":str(items[0]),\n",
    "            \"base\":str(items[len(items)-3]),\n",
    "            \"pos\":str(items[1]),\n",
    "            \"pos1\":str(items[2]),\n",
    "        }\n",
    "        sent.append(keys)\n",
    "        if items[0]==\"。\":\n",
    "            keitaiso.append(sent)\n",
    "            sent=[]    \n",
    "    for line in keitaiso:    \n",
    "        for i in range(0,len(line)):\n",
    "            if line[i][\"surface\"]==\"猫\":\n",
    "                for i2 in range(i,-1,-1):\n",
    "                    if line[i2][\"surface\"]==\"。\" or line[i2][\"surface\"]==\"\\u3000\":\n",
    "                        kaishi=i2\n",
    "                        break\n",
    "                for i3 in range(i,len(line)):\n",
    "                    if line[i3][\"surface\"]==\"。\":\n",
    "                        end=i3\n",
    "                        i=end\n",
    "                        break\n",
    "                for k in range(kaishi+1,end):\n",
    "                    kyoki.append(line[k][\"base\"])\n",
    "    freq=Counter(kyoki)\n",
    "    kyoki_f=sorted(freq.items(),key=lambda x:x[1],reverse=True)\n",
    "    for i in range(0,10):\n",
    "        words.append(kyoki_f[i][0])\n",
    "        freqs.append(kyoki_f[i][1])\n",
    "    plt.bar(words,freqs)"
   ]
  },
  {
   "cell_type": "code",
   "execution_count": null,
   "id": "d0a11708-6b95-451c-bb2d-835583a64907",
   "metadata": {},
   "outputs": [],
   "source": []
  }
 ],
 "metadata": {
  "kernelspec": {
   "display_name": "Python 3",
   "language": "python",
   "name": "python3"
  },
  "language_info": {
   "codemirror_mode": {
    "name": "ipython",
    "version": 3
   },
   "file_extension": ".py",
   "mimetype": "text/x-python",
   "name": "python",
   "nbconvert_exporter": "python",
   "pygments_lexer": "ipython3",
   "version": "3.9.4"
  }
 },
 "nbformat": 4,
 "nbformat_minor": 5
}
