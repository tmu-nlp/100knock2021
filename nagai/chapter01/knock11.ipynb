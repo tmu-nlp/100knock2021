{
 "cells": [
  {
   "cell_type": "code",
   "execution_count": 9,
   "id": "c15c8f3f-a982-4e45-ae73-46790556798b",
   "metadata": {},
   "outputs": [
    {
     "name": "stdout",
     "output_type": "stream",
     "text": [
      "              0  1      2     3\n",
      "0          Mary  F   7065  1880\n",
      "1          Anna  F   2604  1880\n",
      "2          Emma  F   2003  1880\n",
      "3     Elizabeth  F   1939  1880\n",
      "4        Minnie  F   1746  1880\n",
      "...         ... ..    ...   ...\n",
      "2775   Benjamin  M  13381  2018\n",
      "2776     Elijah  M  12886  2018\n",
      "2777      Lucas  M  12585  2018\n",
      "2778      Mason  M  12435  2018\n",
      "2779      Logan  M  12352  2018\n",
      "\n",
      "[2780 rows x 4 columns]\n"
     ]
    }
   ],
   "source": [
    "import pandas as pd\n",
    "data = pd.read_table('https://nlp100.github.io/data/popular-names.txt', header=None)\n",
    "print(data.replace('\\t','\\s'))\n",
    "#sed -e 's/\\t/\\s/g'popular-names.txt"
   ]
  },
  {
   "cell_type": "code",
   "execution_count": null,
   "id": "46d4e440-406e-43f5-9e17-08ee1d530ef8",
   "metadata": {},
   "outputs": [],
   "source": []
  },
  {
   "cell_type": "code",
   "execution_count": null,
   "id": "58f3dfb8-8fcd-46b7-ad89-fd071bd44675",
   "metadata": {},
   "outputs": [],
   "source": []
  },
  {
   "cell_type": "code",
   "execution_count": null,
   "id": "086ade44-de4f-41fe-bfbc-fe5e167450d1",
   "metadata": {},
   "outputs": [],
   "source": []
  }
 ],
 "metadata": {
  "kernelspec": {
   "display_name": "Python 3",
   "language": "python",
   "name": "python3"
  },
  "language_info": {
   "codemirror_mode": {
    "name": "ipython",
    "version": 3
   },
   "file_extension": ".py",
   "mimetype": "text/x-python",
   "name": "python",
   "nbconvert_exporter": "python",
   "pygments_lexer": "ipython3",
   "version": "3.9.4"
  }
 },
 "nbformat": 4,
 "nbformat_minor": 5
}
