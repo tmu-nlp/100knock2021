{
 "cells": [
  {
   "cell_type": "code",
   "execution_count": 6,
   "id": "27dfa026-6381-474c-a83c-f340604adff3",
   "metadata": {},
   "outputs": [
    {
     "name": "stdout",
     "output_type": "stream",
     "text": [
      "batch_size:1\ttime: 1.8210089206695557\n",
      "batch_size:2\ttime: 1.046943187713623\n",
      "batch_size:4\ttime: 0.562537670135498\n",
      "batch_size:8\ttime: 0.29689526557922363\n",
      "batch_size:16\ttime: 0.18751215934753418\n",
      "batch_size:32\ttime: 0.12500810623168945\n",
      "batch_size:64\ttime: 0.09375667572021484\n",
      "batch_size:128\ttime: 0.07813000679016113\n",
      "batch_size:256\ttime: 0.07813000679016113\n",
      "batch_size:512\ttime: 0.06250452995300293\n",
      "batch_size:1024\ttime: 0.07813119888305664\n"
     ]
    }
   ],
   "source": [
    "from torch import nn,optim\n",
    "from torch.utils.data import TensorDataset,DataLoader\n",
    "import pickle\n",
    "import torch\n",
    "\n",
    "class neural_net(nn.Module):\n",
    "    def __init__(self,inp,out):\n",
    "        super().__init__()\n",
    "        self.fc=nn.Linear(inp,out,bias=False)\n",
    "        nn.init.xavier_normal_(self.fc.weight)\n",
    "    \n",
    "    def forward(self,x):\n",
    "        x=self.fc(x)\n",
    "        return x\n",
    "\n",
    "def accuracy(pred,label):\n",
    "    pred=torch.argmax(pred,dim=-1)\n",
    "    leng=len(pred)\n",
    "    return (pred==label).sum().item()/leng\n",
    "    \n",
    "model=neural_net(300,4)\n",
    "\n",
    "dataset_train=TensorDataset(X_train,Y_train)\n",
    "ave_loss=nn.CrossEntropyLoss()\n",
    "\n",
    "import time\n",
    "B=[2**i for i in range(11)]\n",
    "times=[]\n",
    "for b in B:\n",
    "    dl_train=DataLoader(dataset_train,batch_size=b)\n",
    "    optimizer=torch.optim.SGD(model.parameters(),lr=0.01)\n",
    "    start=time.time()\n",
    "    for X,Y in dl_train:\n",
    "        optimizer.zero_grad()\n",
    "        pred=model(X)\n",
    "        loss=ave_loss(pred,Y)\n",
    "        loss.backward()\n",
    "        optimizer.step()\n",
    "    times.append(time.time()-start)\n",
    "for num in range(len(times)):\n",
    "    print(f\"batch_size:{2**num}\\ttime:\",str(times[num]))"
   ]
  },
  {
   "cell_type": "code",
   "execution_count": null,
   "id": "2dff2f5f-ca23-4689-a87e-c6ee55040452",
   "metadata": {},
   "outputs": [],
   "source": []
  }
 ],
 "metadata": {
  "kernelspec": {
   "display_name": "Python 3",
   "language": "python",
   "name": "python3"
  },
  "language_info": {
   "codemirror_mode": {
    "name": "ipython",
    "version": 3
   },
   "file_extension": ".py",
   "mimetype": "text/x-python",
   "name": "python",
   "nbconvert_exporter": "python",
   "pygments_lexer": "ipython3",
   "version": "3.9.4"
  }
 },
 "nbformat": 4,
 "nbformat_minor": 5
}
