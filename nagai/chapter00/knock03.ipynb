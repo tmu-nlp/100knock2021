{
 "cells": [
  {
   "cell_type": "code",
   "execution_count": 53,
   "id": "1491c27b-b193-4179-b58d-5b357f4f458d",
   "metadata": {},
   "outputs": [
    {
     "name": "stdout",
     "output_type": "stream",
     "text": [
      "[3, 1, 4, 1, 5, 9, 2, 6, 5, 3, 5, 8, 9, 7, 9]\n"
     ]
    }
   ],
   "source": [
    "import sys\n",
    "sen=\"Now I need a drink, alcoholic of course, after the heavy lectures involving quantum mechanics.\"\n",
    "sen=sen.replace(\",\",\"\").replace(\".\",\"\")\n",
    "words=sen.split(\" \")\n",
    "lens=[]\n",
    "for word in words:\n",
    "    length=0\n",
    "    for i in word:\n",
    "        length+=1\n",
    "    lens.append(length)\n",
    "print(lens)"
   ]
  },
  {
   "cell_type": "code",
   "execution_count": null,
   "id": "eb3cda25-f587-4979-ac09-90b965fb4c5b",
   "metadata": {},
   "outputs": [],
   "source": []
  },
  {
   "cell_type": "code",
   "execution_count": null,
   "id": "365b77cd-b4cd-477c-af6f-8a097e901517",
   "metadata": {},
   "outputs": [],
   "source": []
  }
 ],
 "metadata": {
  "kernelspec": {
   "display_name": "Python 3",
   "language": "python",
   "name": "python3"
  },
  "language_info": {
   "codemirror_mode": {
    "name": "ipython",
    "version": 3
   },
   "file_extension": ".py",
   "mimetype": "text/x-python",
   "name": "python",
   "nbconvert_exporter": "python",
   "pygments_lexer": "ipython3",
   "version": "3.9.4"
  }
 },
 "nbformat": 4,
 "nbformat_minor": 5
}
