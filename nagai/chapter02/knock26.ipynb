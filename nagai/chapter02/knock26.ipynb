{
 "cells": [
  {
   "cell_type": "code",
   "execution_count": 16,
   "id": "d2f7df97-2425-44d6-a484-6a4ca93f9bd0",
   "metadata": {},
   "outputs": [
    {
     "name": "stdout",
     "output_type": "stream",
     "text": [
      "略名 \tイギリス\n",
      "日本語国名\t グレートブリテン及び北アイルランド連合王国\n",
      "公式国名\t {{lang|en|United Kingdom of Great Britain and Northern Ireland}}<ref>英語以外での正式国名:<br />\n",
      "国旗画像\t Flag of the United Kingdom.svg\n",
      "国章画像\t [[ファイル:Royal Coat of Arms of the United Kingdom.svg|85px|イギリスの国章]]\n",
      "国章リンク\t（[[イギリスの国章|国章]]）\n",
      "標語\t {{lang|fr|[[Dieu et mon droit]]}}<br />（[[フランス語]]:[[Dieu et mon droit|神と我が権利]]）\n",
      "国歌\t [[女王陛下万歳|{{lang|en|God Save the Queen}}]]{{en icon}}<br />神よ女王を護り賜え<br />{{center|[[ファイル:United States Navy Band - God Save the Queen.ogg]]}}\n",
      "地図画像\t Europe-UK.svg\n",
      "位置画像\t United Kingdom (+overseas territories) in the World (+Antarctica claims).svg\n",
      "公用語\t [[英語]]\n",
      "首都\t [[ロンドン]]（事実上）\n",
      "最大都市\t ロンドン\n",
      "元首等肩書\t [[イギリスの君主|女王]]\n",
      "元首等氏名\t [[エリザベス2世]]\n",
      "首相等肩書\t [[イギリスの首相|首相]]\n",
      "首相等氏名\t [[ボリス・ジョンソン]]\n",
      "他元首等肩書1\t [[貴族院 (イギリス)|貴族院議長]]\n",
      "他元首等氏名1\t [[:en:Norman Fowler, Baron Fowler|ノーマン・ファウラー]]\n",
      "他元首等肩書2\t [[庶民院 (イギリス)|庶民院議長]]\n",
      "他元首等氏名2\t {{仮リンク|リンゼイ・ホイル|en|Lindsay Hoyle}}\n",
      "他元首等肩書3\t [[連合王国最高裁判所|最高裁判所長官]]\n",
      "他元首等氏名3\t [[:en:Brenda Hale, Baroness Hale of Richmond|ブレンダ・ヘイル]]\n",
      "面積順位\t 76\n",
      "面積大きさ\t 1 E11\n",
      "面積値\t 244,820\n",
      "水面積率\t 1.3%\n",
      "人口統計年\t 2018\n",
      "人口順位\t 22\n",
      "人口大きさ\t 1 E7\n",
      "人口値\t 6643万5600<ref>{{Cite web|url=https://www.ons.gov.uk/peoplepopulationandcommunity/populationandmigration/populationestimates|title=Population estimates - Office for National Statistics|accessdate=2019-06-26|date=2019-06-26}}</ref>\n",
      "人口密度値\t 271\n",
      "GDP統計年元\t 2012\n",
      "GDP値元\t 1兆5478億<ref name=\"imf-statistics-gdp\">[http://www.imf.org/external/pubs/ft/weo/2012/02/weodata/weorept.aspx?pr.x=70&pr.y=13&sy=2010&ey=2012&scsm=1&ssd=1&sort=country&ds=.&br=1&c=112&s=NGDP%2CNGDPD%2CPPPGDP%2CPPPPC&grp=0&a=IMF>Data and Statistics>World Economic Outlook Databases>By Countrise>United Kingdom]</ref>\n",
      "GDP統計年MER\t 2012\n",
      "GDP順位MER\t 6\n",
      "GDP値MER\t 2兆4337億<ref name=\"imf-statistics-gdp\" />\n",
      "GDP統計年\t 2012\n",
      "GDP順位\t 6\n",
      "GDP値\t 2兆3162億<ref name=\"imf-statistics-gdp\" />\n",
      "GDP/人\t 36,727<ref name=\"imf-statistics-gdp\" />\n",
      "建国形態\t 建国\n",
      "確立形態1\t [[イングランド王国]]／[[スコットランド王国]]<br />（両国とも[[合同法 (1707年)|1707年合同法]]まで）\n",
      "確立年月日1\t 927年／843年\n",
      "確立形態2\t [[グレートブリテン王国]]成立<br />（1707年合同法）\n",
      "確立年月日2\t 1707年{{0}}5月{{0}}1日\n",
      "確立形態3\t [[グレートブリテン及びアイルランド連合王国]]成立<br />（[[合同法 (1800年)|1800年合同法]]）\n",
      "確立年月日3\t 1801年{{0}}1月{{0}}1日\n",
      "確立形態4\t 現在の国号「グレートブリテン及び北アイルランド連合王国」に変更\n",
      "確立年月日4\t 1927年{{0}}4月12日\n",
      "通貨\t [[スターリング・ポンド|UKポンド]] (£)\n",
      "通貨コード\t GBP\n",
      "時間帯\t ±0\n",
      "夏時間\t +1\n",
      "ISO 3166-1\t GB / GBR\n",
      "ccTLD\t [[.uk]] / [[.gb]]<ref>使用は.ukに比べ圧倒的少数。</ref>\n",
      "国際電話番号\t 44\n",
      "注記\t <references/>\n"
     ]
    }
   ],
   "source": [
    "import json\n",
    "import gzip\n",
    "import re\n",
    "template={}\n",
    "with gzip.open(\"jawiki-country.json.gz\",\"r\") as data_file:\n",
    "    for line in data_file:\n",
    "        data=json.loads(line)\n",
    "        if data[\"title\"]==\"イギリス\":\n",
    "            text=data[\"text\"]\n",
    "            obj1=re.search(\".*基礎情報 国\",text)\n",
    "            obj2=re.search(r\"(.*)\\n}}\\n\",text[obj1.end():])\n",
    "            text2=text[obj1.end():obj2.end()+obj1.end()].split(\"\\n\")\n",
    "            for line2 in text2:\n",
    "                item=re.match(r\"\\|(.+)\\s=(.*)\",line2)\n",
    "                if item!=None:\n",
    "                    item2=re.sub(r\"\\'{2,5}\",\"\",item.group(2))\n",
    "                    template[item.group(1)]=item2\n",
    "            for n in template:\n",
    "                print(n+\"\\t\"+template[n])"
   ]
  },
  {
   "cell_type": "code",
   "execution_count": null,
   "id": "cd5233fa-9714-463c-9dcb-abc1c120c929",
   "metadata": {},
   "outputs": [],
   "source": []
  }
 ],
 "metadata": {
  "kernelspec": {
   "display_name": "Python 3",
   "language": "python",
   "name": "python3"
  },
  "language_info": {
   "codemirror_mode": {
    "name": "ipython",
    "version": 3
   },
   "file_extension": ".py",
   "mimetype": "text/x-python",
   "name": "python",
   "nbconvert_exporter": "python",
   "pygments_lexer": "ipython3",
   "version": "3.9.4"
  }
 },
 "nbformat": 4,
 "nbformat_minor": 5
}
