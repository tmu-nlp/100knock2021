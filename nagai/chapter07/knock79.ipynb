{
 "cells": [
  {
   "cell_type": "code",
   "execution_count": 6,
   "id": "67cecf93-5796-4f73-a13c-12c37c8272b9",
   "metadata": {},
   "outputs": [
    {
     "data": {
      "text/plain": [
       "<matplotlib.legend.Legend at 0x2b3e346c340>"
      ]
     },
     "execution_count": 6,
     "metadata": {},
     "output_type": "execute_result"
    },
    {
     "data": {
      "image/png": "[encoded data removed]",
      "text/plain": [
       "<Figure size 432x288 with 1 Axes>"
      ]
     },
     "metadata": {
      "needs_background": "light"
     },
     "output_type": "display_data"
    }
   ],
   "source": [
    "from torch import nn,optim\n",
    "from torch.utils.data import TensorDataset,DataLoader\n",
    "import pickle\n",
    "import torch\n",
    "import numpy as np\n",
    "\n",
    "class tasou_neural_net(nn.Module):\n",
    "    def __init__(self,inp,mid,out):\n",
    "        super().__init__()\n",
    "        self.fc=nn.Linear(inp,mid,bias=True)\n",
    "        self.fc_mid=nn.ReLU()\n",
    "        self.fc_out=nn.Linear(mid,out,bias=True)\n",
    "        nn.init.xavier_normal_(self.fc.weight)\n",
    "        nn.init.xavier_normal_(self.fc_out.weight)\n",
    "    \n",
    "    def forward(self,x):\n",
    "        x=self.fc(x)\n",
    "        x-self.fc_mid(x)\n",
    "        x=self.fc_out(x)\n",
    "        return x\n",
    "\n",
    "def accuracy(pred,label):\n",
    "    pred=torch.argmax(pred,dim=-1)\n",
    "    leng=len(pred)\n",
    "    return (pred==label).sum().item()/leng\n",
    "    \n",
    "model=tasou_neural_net(300,128,4)\n",
    "device=torch.device(\"cuda\"if torch.cuda.is_available() else \"cpu\")\n",
    "model.to(device)\n",
    "\n",
    "with open(\"train.pickle\",\"rb\") as tp:\n",
    "    X_train=pickle.load(tp)\n",
    "with open(\"train.label.pickle\",\"rb\") as tlp:\n",
    "    Y_train=pickle.load(tlp)\n",
    "with open(\"valid.pickle\",\"rb\") as tp:\n",
    "    X_valid=pickle.load(tp)\n",
    "with open(\"valid.label.pickle\",\"rb\") as tlp:\n",
    "    Y_valid=pickle.load(tlp)\n",
    "\n",
    "ave_loss=nn.CrossEntropyLoss()\n",
    "dataset_train=TensorDataset(X_train.to(device),Y_train.to(device))\n",
    "dl_train=DataLoader(dataset_train,batch_size=1024)\n",
    "optimizer=torch.optim.SGD(model.parameters(),lr=0.1)\n",
    "\n",
    "import time\n",
    "import matplotlib.pyplot as plt\n",
    "epoch=10\n",
    "batch=1024\n",
    "epo=[]\n",
    "loss_train=[]\n",
    "acc_train=[]\n",
    "loss_valid=[]\n",
    "acc_valid=[]\n",
    "times=[]\n",
    "for num in range(epoch):\n",
    "    start=time.time()\n",
    "    epo.append(num+1)\n",
    "    for X,Y in dl_train:\n",
    "        optimizer.zero_grad()\n",
    "        pred=model(X)\n",
    "        loss=ave_loss(pred,Y)\n",
    "        loss.backward()\n",
    "        optimizer.step()\n",
    "    with torch.no_grad():\n",
    "        loss_train.append(ave_loss(model(X_train.to(device)),Y_train.to(device)))\n",
    "        acc_train.append(accuracy(model(X_train.cpu()),Y_train.cpu()))\n",
    "        \n",
    "        loss_valid.append(ave_loss(model(X_valid.to(device)),Y_valid.to(device)))\n",
    "        acc_valid.append(accuracy(model(X_valid.cpu()),Y_valid.cpu()))\n",
    "    times.append(time.time()-start)\n",
    "\n",
    "\n",
    "plt.plot(epo,loss_train,label=\"loss_train\")\n",
    "plt.plot(epo,loss_valid,label=\"loss_valid\")\n",
    "\n",
    "plt.plot(epo,acc_train,label=\"accuracy_train\")\n",
    "plt.plot(epo,acc_valid,label=\"accuracy_valid\")\n",
    "plt.legend()"
   ]
  },
  {
   "cell_type": "code",
   "execution_count": null,
   "id": "3de20654-222f-4770-8efb-246680fcceb4",
   "metadata": {},
   "outputs": [],
   "source": []
  }
 ],
 "metadata": {
  "kernelspec": {
   "display_name": "Python 3",
   "language": "python",
   "name": "python3"
  },
  "language_info": {
   "codemirror_mode": {
    "name": "ipython",
    "version": 3
   },
   "file_extension": ".py",
   "mimetype": "text/x-python",
   "name": "python",
   "nbconvert_exporter": "python",
   "pygments_lexer": "ipython3",
   "version": "3.9.4"
  }
 },
 "nbformat": 4,
 "nbformat_minor": 5
}
