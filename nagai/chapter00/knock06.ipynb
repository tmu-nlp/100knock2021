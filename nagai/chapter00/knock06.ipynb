{
 "cells": [
  {
   "cell_type": "code",
   "execution_count": 12,
   "id": "0c8de01e-b9ec-4269-ae65-ca8a9c3b168c",
   "metadata": {},
   "outputs": [
    {
     "name": "stdout",
     "output_type": "stream",
     "text": [
      "x:se含む\n",
      "y:se含まない\n",
      "和集合:{'ap', 'ph', 'di', 'ad', 'ra', 'ag', 'pa', 'gr', 'is', 'se', 'ar'}\n",
      "積集合:{'ra', 'ap', 'pa', 'ar'}\n",
      "差集合:{'ad', 'se', 'di', 'is'}\n"
     ]
    }
   ],
   "source": [
    "x=\"paraparaparadise\"\n",
    "y=\"paragraph\"\n",
    "x1=set()\n",
    "for num in range(1,len(x)):\n",
    "    x1.add(x[num-1]+x[num])\n",
    "if \"se\" in x1:\n",
    "    print(\"x:se含む\")\n",
    "else:\n",
    "    print(\"x:se含まない\")\n",
    "    \n",
    "y1=set()\n",
    "for num in range(1,len(y)):\n",
    "    y1.add(y[num-1]+y[num])\n",
    "if \"se\" in y1:\n",
    "    print(\"y:se含む\")\n",
    "else:\n",
    "    print(\"y:se含まない\")\n",
    "\n",
    "print(\"和集合:{}\".format(x1|y1))\n",
    "print(\"積集合:{}\".format(x1&y1))\n",
    "print(\"差集合:{}\".format(x1-y1))"
   ]
  },
  {
   "cell_type": "code",
   "execution_count": null,
   "id": "31f0f071-80cd-4ade-93bd-12a22c236bb5",
   "metadata": {},
   "outputs": [],
   "source": []
  }
 ],
 "metadata": {
  "kernelspec": {
   "display_name": "Python 3",
   "language": "python",
   "name": "python3"
  },
  "language_info": {
   "codemirror_mode": {
    "name": "ipython",
    "version": 3
   },
   "file_extension": ".py",
   "mimetype": "text/x-python",
   "name": "python",
   "nbconvert_exporter": "python",
   "pygments_lexer": "ipython3",
   "version": "3.9.4"
  }
 },
 "nbformat": 4,
 "nbformat_minor": 5
}
