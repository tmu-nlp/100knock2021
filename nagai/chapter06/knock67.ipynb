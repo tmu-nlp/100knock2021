{
 "cells": [
  {
   "cell_type": "code",
   "execution_count": 17,
   "id": "cb8a27be-d6f9-4ec2-89c1-4b6197a84f48",
   "metadata": {},
   "outputs": [
    {
     "name": "stdout",
     "output_type": "stream",
     "text": [
      "クラスター 0\n",
      "Algeria Angola Benin Botswana Burundi Cameroon Comoros Congo Djibouti Eritrea Ethiopia Gabon Gambia Ghana Guinea Haiti Kenya Lesotho Liberia Madagascar Malawi Mali Mauritania Mozambique Namibia Niger Nigeria Rwanda Senegal Somalia Sudan Togo Tunisia Uganda Zambia Zimbabwe \n",
      "\n",
      "クラスター 1\n",
      "Albania Andorra Armenia Austria Azerbaijan Belarus Belgium Bulgaria Canada Croatia Cyprus Czechia Denmark Estonia Finland France Georgia Germany Greece Hungary Iceland Ireland Italy Kazakhstan Latvia Lithuania Luxembourg Malta Monaco Montenegro Netherlands Norway Poland Portugal Romania Serbia Slovakia Slovenia Spain Sweden Switzerland Turkey Ukraine \n",
      "\n",
      "クラスター 2\n",
      "Afghanistan Australia Bahrain Bangladesh Bhutan Cambodia Chad China Egypt India Indonesia Iraq Israel Japan Jordan Kuwait Kyrgyzstan Lebanon Libya Malaysia Mongolia Morocco Myanmar Nepal Oman Pakistan Philippines Qatar Singapore Tajikistan Thailand Turkmenistan Uzbekistan Yemen \n",
      "\n",
      "クラスター 3\n",
      "Argentina Brazil Chile Colombia Cuba Ecuador Guatemala Honduras Mexico Nicaragua Panama Paraguay Peru Uruguay \n",
      "\n",
      "クラスター 4\n",
      "Bahamas Barbados Belize Dominica Fiji Grenada Guyana Jamaica Kiribati Maldives Mauritius Nauru Niue Palau Samoa Seychelles Suriname Tokelau Tonga Tuvalu Vanuatu \n",
      "\n"
     ]
    }
   ],
   "source": [
    "import gensim\n",
    "from gensim.models import KeyedVectors\n",
    "model=gensim.models.KeyedVectors.load_word2vec_format(\"GoogleNews-vectors-negative300.bin.gz\",binary=True)\n",
    "from sklearn.cluster import KMeans\n",
    "import numpy as np\n",
    "\n",
    "with open(\"kuni.txt\",\"r\",encoding=\"utf-8\") as k:\n",
    "    country=[]\n",
    "    for line in k:\n",
    "        line=line.strip()\n",
    "        words=line.split(\"\\t\")\n",
    "        if words[0] in model:\n",
    "            country.append(words[0])\n",
    "    country_v=[model[c] for c in country]\n",
    "    \n",
    "    kmeans=KMeans(random_state=123,n_clusters=5)\n",
    "    kmeans.fit(country_v)\n",
    "    for i in range(5):\n",
    "        print(\"クラスター\",i)\n",
    "        cluster=np.where(kmeans.labels_==i)[0]\n",
    "        print(\" \".join([country[k] for k in cluster]),\"\\n\")"
   ]
  },
  {
   "cell_type": "code",
   "execution_count": null,
   "id": "72f7351e-a319-4432-a025-97432e7f1c01",
   "metadata": {},
   "outputs": [],
   "source": []
  }
 ],
 "metadata": {
  "kernelspec": {
   "display_name": "Python 3",
   "language": "python",
   "name": "python3"
  },
  "language_info": {
   "codemirror_mode": {
    "name": "ipython",
    "version": 3
   },
   "file_extension": ".py",
   "mimetype": "text/x-python",
   "name": "python",
   "nbconvert_exporter": "python",
   "pygments_lexer": "ipython3",
   "version": "3.9.4"
  }
 },
 "nbformat": 4,
 "nbformat_minor": 5
}
