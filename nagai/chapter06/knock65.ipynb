{
 "cells": [
  {
   "cell_type": "code",
   "execution_count": 2,
   "id": "5413a879-4a30-4691-abca-cf44f2dd18d4",
   "metadata": {},
   "outputs": [
    {
     "name": "stdout",
     "output_type": "stream",
     "text": [
      "意味的アナロジー:0.7308602999210734\n",
      "文法的アナロジー:0.7400468384074942\n"
     ]
    }
   ],
   "source": [
    "#65\n",
    "\n",
    "#意味的アナロジー：capital-common-countries, capital-world, currency, city-in-state, family\n",
    "#文法的アナロジー：gram1-adjective-to-adverb, gram2-opposite, gram3-comparative,gram4-superlative, gram5-present-participle, gram6-nationality-adjective,gram7-past-tense, gram8-plural, gram9-plural-verbs\n",
    "with open(\"ans.txt\",\"r\",encoding=\"utf-8\") as ans:\n",
    "    imiteki=[\"capital-common-countries\",\"capital-world\",\"currency\",\"city-in-state\",\"family\"]\n",
    "    num_imi=0\n",
    "    coun_imi=0\n",
    "    num_bun=0\n",
    "    coun_bun=0\n",
    "    for line in ans:\n",
    "        line=line.strip()\n",
    "        words=line.split()\n",
    "        if words[0] in imiteki:\n",
    "            num_imi+=1\n",
    "            if words[4]==words[5]:\n",
    "                coun_imi+=1\n",
    "        else:\n",
    "            num_bun+=1\n",
    "            if words[4]==words[5]:\n",
    "                coun_bun+=1\n",
    "    print(\"意味的アナロジー:{}\".format(str(coun_imi/num_imi)))\n",
    "    print(\"文法的アナロジー:{}\".format(str(coun_bun/num_bun)))"
   ]
  },
  {
   "cell_type": "code",
   "execution_count": null,
   "id": "83bed827-a685-4c2f-8b6c-a21f7827ac1d",
   "metadata": {},
   "outputs": [],
   "source": []
  }
 ],
 "metadata": {
  "kernelspec": {
   "display_name": "Python 3",
   "language": "python",
   "name": "python3"
  },
  "language_info": {
   "codemirror_mode": {
    "name": "ipython",
    "version": 3
   },
   "file_extension": ".py",
   "mimetype": "text/x-python",
   "name": "python",
   "nbconvert_exporter": "python",
   "pygments_lexer": "ipython3",
   "version": "3.9.4"
  }
 },
 "nbformat": 4,
 "nbformat_minor": 5
}
