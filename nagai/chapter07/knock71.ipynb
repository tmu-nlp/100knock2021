{
 "cells": [
  {
   "cell_type": "code",
   "execution_count": 18,
   "id": "fb445003-9019-4b7c-85f7-8b75d6e9313b",
   "metadata": {},
   "outputs": [
    {
     "name": "stdout",
     "output_type": "stream",
     "text": [
      "y_hat_1:\n",
      "tensor([0.2666, 0.2621, 0.2576, 0.2136], grad_fn=<SoftmaxBackward>)\n",
      "Y_hat:\n",
      "tensor([[0.2666, 0.2621, 0.2576, 0.2136],\n",
      "        [0.2648, 0.2662, 0.2528, 0.2163],\n",
      "        [0.2554, 0.2611, 0.2380, 0.2455],\n",
      "        [0.2196, 0.2868, 0.2779, 0.2157]], grad_fn=<SoftmaxBackward>)\n"
     ]
    }
   ],
   "source": [
    "from torch import nn\n",
    "import pickle\n",
    "import torch\n",
    "\n",
    "class neural_net(nn.Module):\n",
    "    def __init__(self,inp,out):\n",
    "        super().__init__()\n",
    "        self.fc=nn.Linear(inp,out,bias=False)\n",
    "        nn.init.xavier_normal_(self.fc.weight)\n",
    "    \n",
    "    def forward(self,x):\n",
    "        x=self.fc(x)\n",
    "        return x\n",
    "\n",
    "model=neural_net(300,4)\n",
    "with open(\"train.pickle\",\"rb\") as tp:\n",
    "    X_train=pickle.load(tp)\n",
    "y_hat_1=torch.softmax(model(X_train[0]),dim=-1)\n",
    "print(\"y_hat_1:\\n{}\".format(y_hat_1))\n",
    "\n",
    "Y_hat=torch.softmax(model(X_train[:4]),dim=-1)\n",
    "print(\"Y_hat:\\n{}\".format(Y_hat))"
   ]
  },
  {
   "cell_type": "code",
   "execution_count": null,
   "id": "2892812e-bd88-4238-b46b-4a75bd93afe0",
   "metadata": {},
   "outputs": [],
   "source": []
  }
 ],
 "metadata": {
  "kernelspec": {
   "display_name": "Python 3",
   "language": "python",
   "name": "python3"
  },
  "language_info": {
   "codemirror_mode": {
    "name": "ipython",
    "version": 3
   },
   "file_extension": ".py",
   "mimetype": "text/x-python",
   "name": "python",
   "nbconvert_exporter": "python",
   "pygments_lexer": "ipython3",
   "version": "3.9.4"
  }
 },
 "nbformat": 4,
 "nbformat_minor": 5
}
