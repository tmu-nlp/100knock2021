{
 "cells": [
  {
   "cell_type": "code",
   "execution_count": 11,
   "id": "a19f2ab4-838c-45c5-9b2e-d2d0bb29b1df",
   "metadata": {},
   "outputs": [
    {
     "name": "stdout",
     "output_type": "stream",
     "text": [
      "['I am', 'am an', 'an NLPer']\n",
      "['I  ', '  a', 'a m', 'm  ', '  a', 'a n', 'n  ', '  N', 'N L', 'L P', 'P e', 'e r']\n"
     ]
    }
   ],
   "source": [
    "sen=\"I am an NLPer\"\n",
    "word=sen.split(\" \")\n",
    "bigram_sen=[]\n",
    "for num in range(1,len(word)):\n",
    "    bigram_sen.append(word[num-1]+\" \"+word[num])\n",
    "print(bigram_sen)\n",
    "\n",
    "bigram_ch=[]\n",
    "for num in range(1,len(sen)):\n",
    "    bigram_ch.append(sen[num-1]+\" \"+sen[num])\n",
    "print(bigram_ch)"
   ]
  },
  {
   "cell_type": "code",
   "execution_count": null,
   "id": "292e5411-1cf3-41ae-8811-1526ce86de63",
   "metadata": {},
   "outputs": [],
   "source": []
  }
 ],
 "metadata": {
  "kernelspec": {
   "display_name": "Python 3",
   "language": "python",
   "name": "python3"
  },
  "language_info": {
   "codemirror_mode": {
    "name": "ipython",
    "version": 3
   },
   "file_extension": ".py",
   "mimetype": "text/x-python",
   "name": "python",
   "nbconvert_exporter": "python",
   "pygments_lexer": "ipython3",
   "version": "3.9.4"
  }
 },
 "nbformat": 4,
 "nbformat_minor": 5
}
