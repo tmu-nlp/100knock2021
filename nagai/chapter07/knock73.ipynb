{
 "cells": [
  {
   "cell_type": "code",
   "execution_count": 3,
   "id": "d8fed156-b85b-41b9-bba2-cd405a06e8d4",
   "metadata": {},
   "outputs": [
    {
     "name": "stdout",
     "output_type": "stream",
     "text": [
      "tensor([[-0.5446, -0.2155, -0.0422,  ...,  0.4852, -0.1431, -1.1187],\n",
      "        [ 0.6718, -0.2764,  0.4197,  ..., -0.3910, -0.1376, -0.6979],\n",
      "        [ 0.0828,  0.4396, -0.5775,  ..., -0.5800, -0.4422,  0.9049],\n",
      "        [-0.2493, -0.1841,  0.3797,  ...,  0.3845,  0.5776,  0.6395]])\n"
     ]
    }
   ],
   "source": [
    "from torch import nn,optim\n",
    "from torch.utils.data import TensorDataset,DataLoader\n",
    "import pickle\n",
    "import torch\n",
    "\n",
    "class neural_net(nn.Module):\n",
    "    def __init__(self,inp,out):\n",
    "        super().__init__()\n",
    "        self.fc=nn.Linear(inp,out,bias=False)\n",
    "        nn.init.xavier_normal_(self.fc.weight)\n",
    "    \n",
    "    def forward(self,x):\n",
    "        x=self.fc(x)\n",
    "        return x\n",
    "    \n",
    "model=neural_net(300,4)\n",
    "\n",
    "dataset_train=TensorDataset(X_train,Y_train)\n",
    "dl_train=DataLoader(dataset_train)\n",
    "\n",
    "ave_loss=nn.CrossEntropyLoss()\n",
    "optimizer=torch.optim.SGD(model.parameters(),lr=0.01)\n",
    "\n",
    "epoch=10\n",
    "for num in range(epoch):\n",
    "    model.train()\n",
    "    for X,Y in dl_train:\n",
    "        optimizer.zero_grad()\n",
    "        pred=model(X)\n",
    "        loss=ave_loss(pred,Y)\n",
    "        loss.backward()\n",
    "        optimizer.step()\n",
    "    \n",
    "print(model.state_dict()[\"fc.weight\"])\n",
    "torch.save(model,\"model_10\")"
   ]
  },
  {
   "cell_type": "code",
   "execution_count": null,
   "id": "7b832665-a989-4ed7-ae3f-52d69fe95d23",
   "metadata": {},
   "outputs": [],
   "source": []
  }
 ],
 "metadata": {
  "kernelspec": {
   "display_name": "Python 3",
   "language": "python",
   "name": "python3"
  },
  "language_info": {
   "codemirror_mode": {
    "name": "ipython",
    "version": 3
   },
   "file_extension": ".py",
   "mimetype": "text/x-python",
   "name": "python",
   "nbconvert_exporter": "python",
   "pygments_lexer": "ipython3",
   "version": "3.9.4"
  }
 },
 "nbformat": 4,
 "nbformat_minor": 5
}
