{
 "cells": [
  {
   "cell_type": "code",
   "execution_count": 9,
   "id": "5ebd8973-bfe3-4773-85a8-179ef1b3b55e",
   "metadata": {},
   "outputs": [
    {
     "name": "stdout",
     "output_type": "stream",
     "text": [
      "Hvool\n"
     ]
    }
   ],
   "source": [
    "def cipher(mess,lis):\n",
    "    for w in mess:\n",
    "        if(w.islower()):\n",
    "            chr1=chr(219-ord(w))\n",
    "            lis.append(chr1)\n",
    "        else:\n",
    "            lis.append(w)\n",
    "    return lis\n",
    "\n",
    "\n",
    "message='Hello'\n",
    "ango=[]\n",
    "print(\"\".join(cipher(message,ango)))\n",
    "\n"
   ]
  },
  {
   "cell_type": "code",
   "execution_count": null,
   "id": "afd3dc5a-170a-4d63-8dad-b9d29eca22eb",
   "metadata": {},
   "outputs": [],
   "source": []
  }
 ],
 "metadata": {
  "kernelspec": {
   "display_name": "Python 3",
   "language": "python",
   "name": "python3"
  },
  "language_info": {
   "codemirror_mode": {
    "name": "ipython",
    "version": 3
   },
   "file_extension": ".py",
   "mimetype": "text/x-python",
   "name": "python",
   "nbconvert_exporter": "python",
   "pygments_lexer": "ipython3",
   "version": "3.9.4"
  }
 },
 "nbformat": 4,
 "nbformat_minor": 5
}
