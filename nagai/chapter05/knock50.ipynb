{
 "cells": [
  {
   "cell_type": "code",
   "execution_count": 9,
   "id": "3d782352-6a95-4d5d-b510-d26124e2122d",
   "metadata": {},
   "outputs": [
    {
     "name": "stdout",
     "output_type": "stream",
     "text": [
      "train: Counter({'b': 4495, 'e': 4264, 't': 1215, 'm': 710})\n",
      "valid: Counter({'b': 567, 'e': 520, 't': 159, 'm': 90})\n",
      "test : Counter({'b': 570, 'e': 513, 't': 157, 'm': 96})\n"
     ]
    }
   ],
   "source": [
    "import random\n",
    "import collections\n",
    "publisher=[\"Reuters\",\"Huffington Post\", \"Businessweek\", \"Contactmusic.com\",\"Daily Mail\"]\n",
    "news=[]\n",
    "with open(\"NewsAggregatorDataset/newsCorpora.csv\",\"r\",encoding=\"utf-8\") as f:\n",
    "    for line in f:\n",
    "        line=line.strip()\n",
    "        data=line.split(\"\\t\")\n",
    "        if data[3] in publisher:\n",
    "            news.append(data)\n",
    "    random.shuffle(news)\n",
    "    train=news[int(len(news)*(-0.80)):]\n",
    "    valid=news[int(len(news)*(0.80)):int(len(news)*(0.90))]\n",
    "    test=news[:int(len(news)*(-0.90))]\n",
    "    with open(\"train.txt\",\"w\",encoding=\"utf-8\") as t:\n",
    "        for num in train:\n",
    "            t.write(num[4]+\"\\t\"+num[1]+\"\\n\")\n",
    "    with open(\"valid.txt\",\"w\",encoding=\"utf-8\") as v:\n",
    "        for num2 in valid:\n",
    "            v.write(num2[4]+\"\\t\"+num2[1]+\"\\n\")\n",
    "    with open(\"test.txt\",\"w\",encoding=\"utf-8\") as e:\n",
    "        for num3 in test:\n",
    "            e.write(num3[4]+\"\\t\"+num3[1]+\"\\n\")\n",
    "    l=[]       \n",
    "    for num in train:\n",
    "        l.append(num[4])\n",
    "    print(\"train:\",collections.Counter(l))\n",
    "    \n",
    "    l=[]       \n",
    "    for num in valid:\n",
    "        l.append(num[4])\n",
    "    print(\"valid:\",collections.Counter(l))\n",
    "    \n",
    "    l=[]       \n",
    "    for num in test:\n",
    "        l.append(num[4])\n",
    "    print(\"test :\",collections.Counter(l))"
   ]
  },
  {
   "cell_type": "code",
   "execution_count": null,
   "id": "f7d2e1c2-3e36-411a-84ce-28a0e205a057",
   "metadata": {},
   "outputs": [],
   "source": []
  }
 ],
 "metadata": {
  "kernelspec": {
   "display_name": "Python 3",
   "language": "python",
   "name": "python3"
  },
  "language_info": {
   "codemirror_mode": {
    "name": "ipython",
    "version": 3
   },
   "file_extension": ".py",
   "mimetype": "text/x-python",
   "name": "python",
   "nbconvert_exporter": "python",
   "pygments_lexer": "ipython3",
   "version": "3.9.4"
  }
 },
 "nbformat": 4,
 "nbformat_minor": 5
}
