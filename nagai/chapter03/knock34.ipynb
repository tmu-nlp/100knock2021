{
 "cells": [
  {
   "cell_type": "code",
   "execution_count": 3,
   "id": "0fe1bb87-18dc-4950-ab75-41e1cf92c20b",
   "metadata": {},
   "outputs": [
    {
     "name": "stdout",
     "output_type": "stream",
     "text": [
      "many a slip ' twixt the cup and the lip\n"
     ]
    }
   ],
   "source": [
    "import MeCab\n",
    "with open(\"neko.txt\",\"r\",encoding=\"utf-8\") as mecab_file:\n",
    "    a=mecab_file.read()\n",
    "    mecab=MeCab.Tagger()\n",
    "with open(\"neko2.txt.mecab\",\"w\",encoding=\"utf-8\") as mecab_file2:\n",
    "    mecab_file2.write(mecab.parse(a))\n",
    "\n",
    "with open(\"neko2.txt.mecab\",\"r\",encoding=\"utf-8\") as me_file:\n",
    "    keitaiso=[]\n",
    "    meisi=[]\n",
    "    kekka=[]\n",
    "    sent=[]\n",
    "    for line in me_file:\n",
    "        line=line.strip(\"\\n\")\n",
    "        line=line.replace(\",\",\"\\t\")\n",
    "        items=line.split(\"\\t\")\n",
    "        \n",
    "        if items[0]==\"EOS\":\n",
    "            break;\n",
    "            \n",
    "        keys={\n",
    "            \"surface\":str(items[0]),\n",
    "            \"base\":str(items[len(items)-3]),\n",
    "            \"pos\":str(items[1]),\n",
    "            \"pos1\":str(items[2]),\n",
    "        }\n",
    "        sent.append(keys)\n",
    "        if items[0]==\"。\":\n",
    "            keitaiso.append(sent)\n",
    "            sent=[]\n",
    "            \n",
    "    for line in keitaiso:\n",
    "        for i in range(0,len(line)):\n",
    "            if line[i][\"pos\"]==\"名詞\":\n",
    "                meisi.append(line[i][\"surface\"])\n",
    "            else:\n",
    "                if len(kekka)<len(meisi):\n",
    "                    kekka=[]\n",
    "                    for i2 in range(len(meisi),0,-1):\n",
    "                        kekka.append(line[i-i2][\"surface\"])\n",
    "                meisi=[]\n",
    "    print(\" \".join(kekka))"
   ]
  }
 ],
 "metadata": {
  "kernelspec": {
   "display_name": "Python 3",
   "language": "python",
   "name": "python3"
  },
  "language_info": {
   "codemirror_mode": {
    "name": "ipython",
    "version": 3
   },
   "file_extension": ".py",
   "mimetype": "text/x-python",
   "name": "python",
   "nbconvert_exporter": "python",
   "pygments_lexer": "ipython3",
   "version": "3.9.4"
  }
 },
 "nbformat": 4,
 "nbformat_minor": 5
}
