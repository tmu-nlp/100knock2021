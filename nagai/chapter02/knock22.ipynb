{
 "cells": [
  {
   "cell_type": "code",
   "execution_count": 22,
   "id": "35aced14-33c0-454a-adf5-2a287e70a3b7",
   "metadata": {},
   "outputs": [
    {
     "name": "stdout",
     "output_type": "stream",
     "text": [
      "イギリス\n",
      "イギリス\n",
      "イギリス連邦加盟国\n",
      "英連邦王国\n",
      "G8加盟国\n",
      "欧州連合加盟国\n",
      "海洋国家\n",
      "現存する君主国\n",
      "島国\n",
      "1801年に成立した国家・領域\n"
     ]
    }
   ],
   "source": [
    "import json\n",
    "import gzip\n",
    "import re\n",
    "\n",
    "with gzip.open(\"jawiki-country.json.gz\",\"r\") as data_file:\n",
    "    for line in data_file:\n",
    "        data=json.loads(line)\n",
    "        if data[\"title\"]==\"イギリス\":\n",
    "            text=data[\"text\"].split()\n",
    "    for line2 in text:\n",
    "        if re.match(r\".*Category:\",line2):\n",
    "            line2 = re.sub(r\".*Category:\", \"\", line2)\n",
    "            line2 = re.sub(r\"(]|\\|).*\", \"\", line2)\n",
    "            print(line2)"
   ]
  },
  {
   "cell_type": "code",
   "execution_count": null,
   "id": "577e5002-fddc-4776-94b9-9e627cac30cb",
   "metadata": {},
   "outputs": [],
   "source": []
  },
  {
   "cell_type": "code",
   "execution_count": null,
   "id": "30fd54c4-5ac0-4282-9af0-633b3b33a98b",
   "metadata": {},
   "outputs": [],
   "source": []
  },
  {
   "cell_type": "code",
   "execution_count": null,
   "id": "7b1e930b-723e-4393-ae38-72e2084c8e05",
   "metadata": {},
   "outputs": [],
   "source": []
  }
 ],
 "metadata": {
  "kernelspec": {
   "display_name": "Python 3",
   "language": "python",
   "name": "python3"
  },
  "language_info": {
   "codemirror_mode": {
    "name": "ipython",
    "version": 3
   },
   "file_extension": ".py",
   "mimetype": "text/x-python",
   "name": "python",
   "nbconvert_exporter": "python",
   "pygments_lexer": "ipython3",
   "version": "3.9.4"
  }
 },
 "nbformat": 4,
 "nbformat_minor": 5
}
