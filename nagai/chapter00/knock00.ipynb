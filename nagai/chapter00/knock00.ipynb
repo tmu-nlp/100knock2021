{
 "cells": [
  {
   "cell_type": "code",
   "execution_count": 8,
   "id": "ca7b63cf-3737-44a2-a6e5-a50d47c43669",
   "metadata": {},
   "outputs": [
    {
     "name": "stdout",
     "output_type": "stream",
     "text": [
      "desserts\n"
     ]
    }
   ],
   "source": [
    "x=\"stressed\"\n",
    "rx=x[::-1]\n",
    "print(rx)"
   ]
  },
  {
   "cell_type": "code",
   "execution_count": null,
   "id": "cce430b7-4024-4ade-968a-216f210fbfbf",
   "metadata": {},
   "outputs": [],
   "source": []
  }
 ],
 "metadata": {
  "kernelspec": {
   "display_name": "Python 3",
   "language": "python",
   "name": "python3"
  },
  "language_info": {
   "codemirror_mode": {
    "name": "ipython",
    "version": 3
   },
   "file_extension": ".py",
   "mimetype": "text/x-python",
   "name": "python",
   "nbconvert_exporter": "python",
   "pygments_lexer": "ipython3",
   "version": "3.9.4"
  }
 },
 "nbformat": 4,
 "nbformat_minor": 5
}
