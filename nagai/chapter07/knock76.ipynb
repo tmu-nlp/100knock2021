{
 "cells": [
  {
   "cell_type": "code",
   "execution_count": 4,
   "id": "9b24533f-b3b8-46a4-8468-44a80b950bba",
   "metadata": {},
   "outputs": [],
   "source": [
    "from torch import nn,optim\n",
    "from torch.utils.data import TensorDataset,DataLoader\n",
    "import pickle\n",
    "import torch\n",
    "\n",
    "class neural_net(nn.Module):\n",
    "    def __init__(self,inp,out):\n",
    "        super().__init__()\n",
    "        self.fc=nn.Linear(inp,out,bias=False)\n",
    "        nn.init.xavier_normal_(self.fc.weight)\n",
    "    \n",
    "    def forward(self,x):\n",
    "        x=self.fc(x)\n",
    "        return x\n",
    "\n",
    "def accuracy(pred,label):\n",
    "    pred=torch.argmax(pred,dim=-1)\n",
    "    leng=len(pred)\n",
    "    return (pred==label).sum().item()/leng\n",
    "    \n",
    "model=neural_net(300,4)\n",
    "\n",
    "dataset_train=TensorDataset(X_train,Y_train)\n",
    "dl_train=DataLoader(dataset_train)\n",
    "\n",
    "ave_loss=nn.CrossEntropyLoss()\n",
    "optimizer=torch.optim.SGD(model.parameters(),lr=0.01)\n",
    "\n",
    "epoch=10\n",
    "for num in range(epoch):\n",
    "    for X,Y in dl_train:\n",
    "        optimizer.zero_grad()\n",
    "        pred=model(X)\n",
    "        loss=ave_loss(pred,Y)\n",
    "        loss.backward()\n",
    "        optimizer.step()\n",
    "    \n",
    "    torch.save(model.state_dict(),f\"check{num+1}.model\")\n",
    "    torch.save(optimizer.state_dict(),f\"check{num+1}.opt\")       "
   ]
  },
  {
   "cell_type": "code",
   "execution_count": null,
   "id": "b30f1000-384a-4d17-8fdb-c0f5452d4da1",
   "metadata": {},
   "outputs": [],
   "source": []
  }
 ],
 "metadata": {
  "kernelspec": {
   "display_name": "Python 3",
   "language": "python",
   "name": "python3"
  },
  "language_info": {
   "codemirror_mode": {
    "name": "ipython",
    "version": 3
   },
   "file_extension": ".py",
   "mimetype": "text/x-python",
   "name": "python",
   "nbconvert_exporter": "python",
   "pygments_lexer": "ipython3",
   "version": "3.9.4"
  }
 },
 "nbformat": 4,
 "nbformat_minor": 5
}
