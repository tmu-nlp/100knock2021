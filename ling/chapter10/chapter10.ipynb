{
  "nbformat": 4,
  "nbformat_minor": 0,
  "metadata": {
    "accelerator": "GPU",
    "colab": {
      "name": "chapter10.ipynb",
      "provenance": [],
      "collapsed_sections": []
    },
    "kernelspec": {
      "display_name": "Python 3",
      "name": "python3"
    },
    "language_info": {
      "name": "python"
    }
  },
  "cells": [
    {
      "cell_type": "markdown",
      "metadata": {
        "id": "HR8cRLXZb2RT"
      },
      "source": [
        "90"
      ]
    },
    {
      "cell_type": "code",
      "metadata": {
        "id": "vNeUue07eIkJ"
      },
      "source": [
        "!tar zxvf kftt-data-1.0.tar.gz"
      ],
      "execution_count": null,
      "outputs": []
    },
    {
      "cell_type": "code",
      "metadata": {
        "id": "NKTkk9Ceecyo"
      },
      "source": [
        "pip install ginza"
      ],
      "execution_count": null,
      "outputs": []
    },
    {
      "cell_type": "code",
      "metadata": {
        "id": "06ErECx4gKVY"
      },
      "source": [
        "!ls"
      ],
      "execution_count": null,
      "outputs": []
    },
    {
      "cell_type": "code",
      "metadata": {
        "colab": {
          "background_save": true
        },
        "id": "eScbULqrefHJ"
      },
      "source": [
        "!cat ./kftt-data-1.0/data/orig/kyoto-train.ja | sed 's/\\s+/ /g' | ginzame > train.ginza.ja\n",
        "!cat ./kftt-data-1.0/data/orig/kyoto-dev.ja | sed 's/\\s+/ /g' | ginzame > dev.ginza.ja\n",
        "!cat ./kftt-data-1.0/data/orig/kyoto-test.ja | sed 's/\\s+/ /g' | ginzame > test.ginza.ja"
      ],
      "execution_count": null,
      "outputs": []
    },
    {
      "cell_type": "code",
      "metadata": {
        "colab": {
          "background_save": true
        },
        "id": "2LPT9qkFNvtz"
      },
      "source": [
        "with open('kftt-data-1.0/data/tok/kyoto-train.cln.en') as f:\n",
        "  data=f.readlines()\n",
        "  for line in data[:10]:\n",
        "    print(line)"
      ],
      "execution_count": null,
      "outputs": []
    },
    {
      "cell_type": "code",
      "metadata": {
        "id": "8e1BxUrOcTLm"
      },
      "source": [
        "import re\n",
        "import spacy\n",
        "\n",
        "for src, dst in [\n",
        "    ('/content/drive/MyDrive/Colab Notebooks/chapter10/train.ginza.ja', 'train.spacy.ja'),\n",
        "    ('/content/drive/MyDrive/Colab Notebooks/chapter10/dev.ginza.ja', 'dev.spacy.ja'),\n",
        "    ('/content/drive/MyDrive/Colab Notebooks/chapter10/test.ginza.ja', 'test.spacy.ja'),\n",
        "]:\n",
        "    with open(src) as f:\n",
        "        lst = []\n",
        "        tmp = []\n",
        "        for x in f:\n",
        "            x = x.strip()\n",
        "            if x == 'EOS':\n",
        "                lst.append(' '.join(tmp))\n",
        "                tmp = []\n",
        "            elif x != '':\n",
        "                tmp.append(x.split('\\t')[0])\n",
        "    with open(dst, 'w') as f:\n",
        "        for line in lst:\n",
        "            print(line, file=f)\n",
        "\n",
        "nlp = spacy.load('en')\n",
        "for src, dst in [\n",
        "    ('/content/drive/MyDrive/Colab Notebooks/chapter10/kftt-data-1.0/data/tok/kyoto-train.en', 'train.spacy.en'),\n",
        "    ('/content/drive/MyDrive/Colab Notebooks/chapter10/kftt-data-1.0/data/tok/kyoto-dev.en', 'dev.spacy.en'),\n",
        "    ('/content/drive/MyDrive/Colab Notebooks/chapter10/kftt-data-1.0/data/tok/kyoto-test.en', 'test.spacy.en'),\n",
        "]:\n",
        "    with open(src) as f, open(dst, 'w') as g:\n",
        "        for x in f:\n",
        "            x = x.strip()\n",
        "            x = re.sub(r'\\s+', ' ', x)\n",
        "            x = nlp.make_doc(x)\n",
        "            x = ' '.join([doc.text for doc in x])\n",
        "            print(x, file=g)"
      ],
      "execution_count": null,
      "outputs": []
    },
    {
      "cell_type": "code",
      "metadata": {
        "colab": {
          "background_save": true
        },
        "id": "wYwlnH2mcUFE"
      },
      "source": [
        "pip install fairseq"
      ],
      "execution_count": null,
      "outputs": []
    },
    {
      "cell_type": "markdown",
      "metadata": {
        "id": "FSD7uYu4b6L2"
      },
      "source": [
        "91"
      ]
    },
    {
      "cell_type": "code",
      "metadata": {
        "colab": {
          "background_save": true
        },
        "id": "sqnI0WPab48b"
      },
      "source": [
        "!fairseq-preprocess -s ja -t en \\\n",
        "    --trainpref train.spacy \\\n",
        "    --validpref dev.spacy \\\n",
        "    --destdir data91  \\\n",
        "    --thresholdsrc 5 \\\n",
        "    --thresholdtgt 5 \\\n",
        "    --workers 20"
      ],
      "execution_count": null,
      "outputs": []
    },
    {
      "cell_type": "code",
      "metadata": {
        "id": "RY5ueN0HkP2H"
      },
      "source": [
        "!fairseq-train data91 \\\n",
        "    --fp16 \\\n",
        "    --save-dir save91 \\\n",
        "    --max-epoch 3 \\\n",
        "    --arch transformer --share-decoder-input-output-embed \\\n",
        "    --optimizer adam --clip-norm 1.0 \\\n",
        "    --lr 1e-3 --lr-scheduler inverse_sqrt --warmup-updates 2000 \\\n",
        "    --update-freq 1 \\\n",
        "    --dropout 0.2 --weight-decay 0.0001 \\\n",
        "    --criterion label_smoothed_cross_entropy --label-smoothing 0.1 \\\n",
        "    --max-tokens 8000 > 91.log"
      ],
      "execution_count": null,
      "outputs": []
    },
    {
      "cell_type": "markdown",
      "metadata": {
        "id": "FupsSHnJb5bl"
      },
      "source": [
        "92\n"
      ]
    },
    {
      "cell_type": "code",
      "metadata": {
        "id": "0JuPPRLClPny"
      },
      "source": [
        "!fairseq-interactive --path save91/checkpoint3.pt data91 < test.spacy.ja | grep '^H' | cut -f3 > 92.out"
      ],
      "execution_count": null,
      "outputs": []
    },
    {
      "cell_type": "markdown",
      "metadata": {
        "id": "EzLmXZ47yeLT"
      },
      "source": [
        "93"
      ]
    },
    {
      "cell_type": "code",
      "metadata": {
        "id": "rEYdqzvYyeF6"
      },
      "source": [
        "!fairseq-score --sys 92.out --ref test.spacy.en"
      ],
      "execution_count": null,
      "outputs": []
    },
    {
      "cell_type": "markdown",
      "metadata": {
        "id": "WyhCC0vmyeAC"
      },
      "source": [
        "94"
      ]
    },
    {
      "cell_type": "code",
      "metadata": {
        "id": "hwFN07Pfyd7h"
      },
      "source": [
        "import os\n",
        "os.system(\n",
        "    '''\n",
        "    for N in `seq 1 20` ; do\n",
        "      fairseq-interactive --path save91/checkpoint10.pt --beam $N data91 < test.spacy.ja | grep '^H' | cut -f3 > 94.$N.out\n",
        "    done\n",
        "\n",
        "    for N in `seq 1 20` ; do\n",
        "        fairseq-score --sys 94.$N.out --ref test.spacy.en > 94.$N.score\n",
        "    done\n",
        "    '''\n",
        ")\n",
        "\n"
      ],
      "execution_count": null,
      "outputs": []
    },
    {
      "cell_type": "code",
      "metadata": {
        "id": "bUPRHibAHg8G"
      },
      "source": [
        "import matplotlib.pyplot as plt\n",
        "\n",
        "def read_score(filename):\n",
        "    with open(filename) as f:\n",
        "        x = f.readlines()[1]\n",
        "        x = re.search(r'(?<=BLEU4 = )\\d*\\.\\d*(?=,)', x)\n",
        "        return float(x.group())\n",
        "\n",
        "xs = range(1, 21)\n",
        "ys = [read_score(f'94.{x}.score') for x in xs]\n",
        "plt.plot(xs, ys)\n",
        "plt.show()"
      ],
      "execution_count": null,
      "outputs": []
    },
    {
      "cell_type": "markdown",
      "metadata": {
        "id": "RLC9ERUfyd1M"
      },
      "source": [
        "95"
      ]
    },
    {
      "cell_type": "code",
      "metadata": {
        "id": "DM1qntZOYe14"
      },
      "source": [
        "pip install sentencepiece"
      ],
      "execution_count": null,
      "outputs": []
    },
    {
      "cell_type": "code",
      "metadata": {
        "id": "K0GhsNI5yduz"
      },
      "source": [
        "import sentencepiece as spm\n",
        "\n",
        "spm.SentencePieceTrainer.Train('--input=kftt-data-1.0/data/orig/kyoto-train.ja --model_prefix=kyoto_ja --vocab_size=16000 --character_coverage=1.0')\n",
        "\n",
        "sp = spm.SentencePieceProcessor()\n",
        "sp.Load('kyoto_ja.model')\n",
        "\n",
        "for src, dst in [\n",
        "    ('/kftt-data-1.0/data/orig/kyoto-train.ja', 'train.sub.ja'),\n",
        "    ('/chapter10/kftt-data-1.0/data/orig/kyoto-dev.ja', 'dev.sub.ja'),\n",
        "    ('/chapter10/kftt-data-1.0/data/orig/kyoto-test.ja', 'test.sub.ja'),\n",
        "]:\n",
        "    with open(src) as f, open(dst, 'w') as g:\n",
        "        for x in f:\n",
        "            x = x.strip()\n",
        "            x = re.sub(r'\\s+', ' ', x)\n",
        "            x = sp.encode_as_pieces(x)\n",
        "            x = ' '.join(x)\n",
        "            print(x, file=g)"
      ],
      "execution_count": null,
      "outputs": []
    },
    {
      "cell_type": "markdown",
      "metadata": {
        "id": "62V6EaGrydgd"
      },
      "source": [
        "96"
      ]
    },
    {
      "cell_type": "code",
      "metadata": {
        "id": "82cgZkSeyb5g"
      },
      "source": [
        "import sentencepiece as spm\n",
        "\n",
        "spm.SentencePieceTrainer.Train('--input=/content/drive/MyDrive/Colab Notebooks/chapter10/kftt-data-1.0/data/orig/kyoto-train.ja --model_prefix=kyoto_ja --vocab_size=16000 --character_coverage=1.0')\n",
        "\n",
        "sp = spm.SentencePieceProcessor()\n",
        "sp.Load('kyoto_ja.model')\n",
        "\n",
        "for src, dst in [\n",
        "    ('/kftt-data-1.0/data/orig/kyoto-train.ja', 'train.sub.ja'),\n",
        "    ('/kftt-data-1.0/data/orig/kyoto-dev.ja', 'dev.sub.ja'),\n",
        "    ('/kftt-data-1.0/data/orig/kyoto-test.ja', 'test.sub.ja'),\n",
        "]:\n",
        "    with open(src) as f, open(dst, 'w') as g:\n",
        "        for x in f:\n",
        "            x = x.strip()\n",
        "            x = re.sub(r'\\s+', ' ', x)\n",
        "            x = sp.encode_as_pieces(x)\n",
        "            x = ' '.join(x)\n",
        "            print(x, file=g)\n",
        "\n"
      ],
      "execution_count": null,
      "outputs": []
    },
    {
      "cell_type": "code",
      "metadata": {
        "id": "UG7bzC-uN-VD"
      },
      "source": [
        "!subword-nmt learn-bpe -s 16000 < kftt-data-1.0/data/orig/kyoto-train.en > kyoto_en.codes\n",
        "!subword-nmt apply-bpe -c kyoto_en.codes < kftt-data-1.0/data/orig/kyoto-train.en > train.sub.en\n",
        "!subword-nmt apply-bpe -c kyoto_en.codes < kftt-data-1.0/data/orig/kyoto-dev.en > dev.sub.en\n",
        "!subword-nmt apply-bpe -c kyoto_en.codes < kftt-data-1.0/data/orig/kyoto-test.en > test.sub.en"
      ],
      "execution_count": null,
      "outputs": []
    },
    {
      "cell_type": "code",
      "metadata": {
        "id": "AqzvChlXOA9E"
      },
      "source": [
        "!fairseq-preprocess -s ja -t en \\\n",
        "    --trainpref train.sub \\\n",
        "    --validpref dev.sub \\\n",
        "    --destdir data95  \\\n",
        "    --workers 20"
      ],
      "execution_count": null,
      "outputs": []
    },
    {
      "cell_type": "code",
      "metadata": {
        "id": "wsRVrxWCOANI"
      },
      "source": [
        "!fairseq-train data95 \\\n",
        "    --fp16 \\\n",
        "    --save-dir save95 \\\n",
        "    --max-epoch 3 \\\n",
        "    --arch transformer --share-decoder-input-output-embed \\\n",
        "    --optimizer adam --clip-norm 1.0 \\\n",
        "    --lr 1e-3 --lr-scheduler inverse_sqrt --warmup-updates 2000 \\\n",
        "    --update-freq 1 \\\n",
        "    --dropout 0.2 --weight-decay 0.0001 \\\n",
        "    --criterion label_smoothed_cross_entropy --label-smoothing 0.1 \\\n",
        "    --max-tokens 8000 > 95.log"
      ],
      "execution_count": null,
      "outputs": []
    },
    {
      "cell_type": "code",
      "metadata": {
        "id": "NAokUhVmOEDl"
      },
      "source": [
        "!fairseq-interactive --path save95/checkpoint10.pt data95 < test.sub.ja | grep '^H' | cut -f3 | sed -r 's/(@@ )|(@@ ?$)//g' > 95.out"
      ],
      "execution_count": null,
      "outputs": []
    },
    {
      "cell_type": "code",
      "metadata": {
        "id": "vpBi0xgFOG-L"
      },
      "source": [
        "def spacy_tokenize(src, dst):\n",
        "    with open(src) as f, open(dst, 'w') as g:\n",
        "        for x in f:\n",
        "            x = x.strip()\n",
        "            x = ' '.join([doc.text for doc in nlp(x)])\n",
        "            print(x, file=g)\n",
        "spacy_tokenize('95.out', '95.out.spacy')"
      ],
      "execution_count": null,
      "outputs": []
    },
    {
      "cell_type": "code",
      "metadata": {
        "id": "iM2TAHiBOJJO"
      },
      "source": [
        "!fairseq-score --sys 95.out.spacy --ref test.spacy.en"
      ],
      "execution_count": null,
      "outputs": []
    },
    {
      "cell_type": "markdown",
      "metadata": {
        "id": "uO_Ro3Qfybxm"
      },
      "source": [
        "96\n"
      ]
    },
    {
      "cell_type": "code",
      "metadata": {
        "id": "UUeeFYUTOUvG"
      },
      "source": [
        "!fairseq-train data95 \\\n",
        "    --fp16 \\\n",
        "    --tensorboard-logdir log96 \\\n",
        "    --save-dir save96 \\\n",
        "    --max-epoch 5 \\\n",
        "    --arch transformer --share-decoder-input-output-embed \\\n",
        "    --optimizer adam --clip-norm 1.0 \\\n",
        "    --lr 1e-3 --lr-scheduler inverse_sqrt --warmup-updates 2000 \\\n",
        "    --dropout 0.2 --weight-decay 0.0001 \\\n",
        "    --update-freq 1 \\\n",
        "    --criterion label_smoothed_cross_entropy --label-smoothing 0.1 \\\n",
        "    --max-tokens 8000 > 96.log"
      ],
      "execution_count": null,
      "outputs": []
    },
    {
      "cell_type": "markdown",
      "metadata": {
        "id": "TycOoO0cOXpt"
      },
      "source": [
        "97"
      ]
    },
    {
      "cell_type": "code",
      "metadata": {
        "id": "ZhzaZ1WOOZB-"
      },
      "source": [
        "!fairseq-train data95 \\\n",
        "    --fp16 \\\n",
        "    --save-dir save97_1 \\\n",
        "    --max-epoch 10 \\\n",
        "    --arch transformer --share-decoder-input-output-embed \\\n",
        "    --optimizer adam --clip-norm 1.0 \\\n",
        "    --lr 1e-3 --lr-scheduler inverse_sqrt --warmup-updates 2000 \\\n",
        "    --dropout 0.1 --weight-decay 0.0001 \\\n",
        "    --update-freq 1 \\\n",
        "    --criterion label_smoothed_cross_entropy --label-smoothing 0.1 \\\n",
        "    --max-tokens 8000 > 97_1.log\n",
        "\n",
        "!fairseq-train data95 \\\n",
        "    --fp16 \\\n",
        "    --save-dir save97_3 \\\n",
        "    --max-epoch 10 \\\n",
        "    --arch transformer --share-decoder-input-output-embed \\\n",
        "    --optimizer adam --clip-norm 1.0 \\\n",
        "    --lr 1e-3 --lr-scheduler inverse_sqrt --warmup-updates 2000 \\\n",
        "    --dropout 0.3 --weight-decay 0.0001 \\\n",
        "    --update-freq 1 \\\n",
        "    --criterion label_smoothed_cross_entropy --label-smoothing 0.1 \\\n",
        "    --max-tokens 8000 > 97_3.log\n",
        "\n",
        "!fairseq-train data95 \\\n",
        "    --fp16 \\\n",
        "    --save-dir save97_5 \\\n",
        "    --max-epoch 10 \\\n",
        "    --arch transformer --share-decoder-input-output-embed \\\n",
        "    --optimizer adam --clip-norm 1.0 \\\n",
        "    --lr 1e-3 --lr-scheduler inverse_sqrt --warmup-updates 2000 \\\n",
        "    --dropout 0.5 --weight-decay 0.0001 \\\n",
        "    --update-freq 1 \\\n",
        "    --criterion label_smoothed_cross_entropy --label-smoothing 0.1 \\\n",
        "    --max-tokens 8000 > 97_5.log\n",
        "\n",
        "!fairseq-interactive --path save97_1/checkpoint10.pt data95 < test.sub.ja | grep '^H' | cut -f3 | sed -r 's/(@@ )|(@@ ?$)//g' > 97_1.out\n",
        "!fairseq-interactive --path save97_3/checkpoint10.pt data95 < test.sub.ja | grep '^H' | cut -f3 | sed -r 's/(@@ )|(@@ ?$)//g' > 97_3.out\n",
        "!fairseq-interactive --path save97_5/checkpoint10.pt data95 < test.sub.ja | grep '^H' | cut -f3 | sed -r 's/(@@ )|(@@ ?$)//g' > 97_5.out"
      ],
      "execution_count": null,
      "outputs": []
    },
    {
      "cell_type": "code",
      "metadata": {
        "id": "v71Xf1-4OkBr"
      },
      "source": [
        "spacy_tokenize('97_1.out', '97_1.out.spacy')\n",
        "spacy_tokenize('97_3.out', '97_3.out.spacy')\n",
        "spacy_tokenize('97_5.out', '97_5.out.spacy')"
      ],
      "execution_count": null,
      "outputs": []
    },
    {
      "cell_type": "code",
      "metadata": {
        "id": "OFGciPg6Omqy"
      },
      "source": [
        "!fairseq-score --sys 97_1.out.spacy --ref test.spacy.en\n",
        "!fairseq-score --sys 97_3.out.spacy --ref test.spacy.en\n",
        "!fairseq-score --sys 97_5.out.spacy --ref test.spacy.en"
      ],
      "execution_count": null,
      "outputs": []
    },
    {
      "cell_type": "markdown",
      "metadata": {
        "id": "snN-oD4XOXlX"
      },
      "source": [
        "98"
      ]
    },
    {
      "cell_type": "code",
      "metadata": {
        "id": "kiVC9zrpOZ6b"
      },
      "source": [
        "import tarfile\n",
        "\n",
        "with tarfile.open('en-ja.tar.gz') as tar:\n",
        "    for f in tar.getmembers():\n",
        "        if f.name.endswith('txt'):\n",
        "            text = tar.extractfile(f).read().decode('utf-8')\n",
        "            break\n",
        "\n",
        "data = text.splitlines()\n",
        "data = [x.split('\\t') for x in data]\n",
        "data = [x for x in data if len(x) == 4]\n",
        "data = [[x[3], x[2]] for x in data]\n",
        "\n",
        "with open('jparacrawl.ja', 'w') as f, open('jparacrawl.en', 'w') as g:\n",
        "    for j, e in data:\n",
        "        print(j, file=f)\n",
        "        print(e, file=g)"
      ],
      "execution_count": null,
      "outputs": []
    },
    {
      "cell_type": "code",
      "metadata": {
        "id": "JObmxRe_OtEd"
      },
      "source": [
        "with open('jparacrawl.ja') as f, open('train.jparacrawl.ja', 'w') as g:\n",
        "    for x in f:\n",
        "        x = x.strip()\n",
        "        x = re.sub(r'\\s+', ' ', x)\n",
        "        x = sp.encode_as_pieces(x)\n",
        "        x = ' '.join(x)\n",
        "        print(x, file=g)"
      ],
      "execution_count": null,
      "outputs": []
    },
    {
      "cell_type": "code",
      "metadata": {
        "id": "Q1wAiYsqOuHb"
      },
      "source": [
        "!subword-nmt apply-bpe -c kyoto_en.codes < jparacrawl.en > train.jparacrawl.en"
      ],
      "execution_count": null,
      "outputs": []
    },
    {
      "cell_type": "code",
      "metadata": {
        "id": "94TQaXYPOwQc"
      },
      "source": [
        "!fairseq-preprocess -s ja -t en \\\n",
        "    --trainpref train.jparacrawl \\\n",
        "    --validpref dev.sub \\\n",
        "    --destdir data98  \\\n",
        "    --workers 20\n",
        "\n",
        "!fairseq-train data98 \\\n",
        "    --fp16 \\\n",
        "    --save-dir save98_1 \\\n",
        "    --max-epoch 3 \\\n",
        "    --arch transformer --share-decoder-input-output-embed \\\n",
        "    --optimizer adam --clip-norm 1.0 \\\n",
        "    --lr 1e-4 --lr-scheduler inverse_sqrt --warmup-updates 4000 \\\n",
        "    --dropout 0.1 --weight-decay 0.0001 \\\n",
        "    --criterion label_smoothed_cross_entropy --label-smoothing 0.1 \\\n",
        "    --max-tokens 8000 > 98_1.log\n",
        "\n",
        "!fairseq-interactive --path save98_1/checkpoint3.pt data98 < test.sub.ja | grep '^H' | cut -f3 | sed -r 's/(@@ )|(@@ ?$)//g' > 98_1.out"
      ],
      "execution_count": null,
      "outputs": []
    },
    {
      "cell_type": "code",
      "metadata": {
        "id": "MWZ6WEQUO0c3"
      },
      "source": [
        "!spacy_tokenize('98_1.out', '98_1.out.spacy')"
      ],
      "execution_count": null,
      "outputs": []
    },
    {
      "cell_type": "code",
      "metadata": {
        "id": "sPFoELBoO2KO"
      },
      "source": [
        "!fairseq-score --sys 98_1.out.spacy --ref test.spacy.en"
      ],
      "execution_count": null,
      "outputs": []
    },
    {
      "cell_type": "code",
      "metadata": {
        "id": "5viJBOGbO4Zd"
      },
      "source": [
        "!fairseq-preprocess -s ja -t en \\\n",
        "    --trainpref train.sub \\\n",
        "    --validpref dev.sub \\\n",
        "    --tgtdict data98/dict.en.txt \\\n",
        "    --srcdict data98/dict.ja.txt \\\n",
        "    --destdir data98_2  \\\n",
        "    --workers 20\n",
        "\n",
        "!fairseq-train data98_2 \\\n",
        "    --fp16 \\\n",
        "    --restore-file save98_1/checkpoint3.pt \\\n",
        "    --save-dir save98_2 \\\n",
        "    --max-epoch 10 \\\n",
        "    --arch transformer --share-decoder-input-output-embed \\\n",
        "    --optimizer adam --clip-norm 1.0 \\\n",
        "    --lr 1e-3 --lr-scheduler inverse_sqrt --warmup-updates 2000 \\\n",
        "    --dropout 0.1 --weight-decay 0.0001 \\\n",
        "    --criterion label_smoothed_cross_entropy --label-smoothing 0.1 \\\n",
        "    --max-tokens 8000 > 98_2.log\n",
        "\n",
        "!fairseq-interactive --path save98_2/checkpoint10.pt data98_2 < test.sub.ja | grep '^H' | cut -f3 | sed -r 's/(@@ )|(@@ ?$)//g' > 98_2.out"
      ],
      "execution_count": null,
      "outputs": []
    },
    {
      "cell_type": "code",
      "metadata": {
        "id": "bkMi1eOKO8Ko"
      },
      "source": [
        "!spacy_tokenize('98_2.out', '98_2.out.spacy')"
      ],
      "execution_count": null,
      "outputs": []
    },
    {
      "cell_type": "code",
      "metadata": {
        "id": "w_7Fl8KTO_YH"
      },
      "source": [
        "!fairseq-score --sys 98_2.out.spacy --ref test.spacy.en"
      ],
      "execution_count": null,
      "outputs": []
    },
    {
      "cell_type": "markdown",
      "metadata": {
        "id": "fILg2ba8OZpH"
      },
      "source": [
        "99"
      ]
    }
  ]
}