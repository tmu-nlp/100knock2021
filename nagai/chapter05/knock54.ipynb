{
 "cells": [
  {
   "cell_type": "code",
   "execution_count": 10,
   "id": "032dfc8f-30fa-4439-acad-17ecc129d8d4",
   "metadata": {},
   "outputs": [
    {
     "name": "stdout",
     "output_type": "stream",
     "text": [
      "train: 0.9090228378884313\n",
      "test : 0.8555389221556886\n"
     ]
    }
   ],
   "source": [
    "import numpy as np\n",
    "import pandas as pd\n",
    "from sklearn.linear_model import LogisticRegression\n",
    "from sklearn.metrics import accuracy_score\n",
    "\n",
    "LR=LogisticRegression(random_state=100,max_iter=50000)\n",
    "df_train=pd.read_table(\"train.txt\",header=None,names=[\"CATEGORY\",\"TITLE\"])\n",
    "df_test=pd.read_table(\"test.txt\",header=None,names=[\"CATEGORY\",\"TITLE\"])\n",
    "X_train=pd.read_table(\"X_train.txt\")\n",
    "X_test=pd.read_table(\"X_test.txt\")\n",
    "LR.fit(X_train, df_train[\"CATEGORY\"])\n",
    "\n",
    "#54\n",
    "print(\"train:\",accuracy_score(df_train[\"CATEGORY\"],LR.predict(X_train)))\n",
    "print(\"test :\",accuracy_score(df_test[\"CATEGORY\"],LR.predict(X_test)))"
   ]
  },
  {
   "cell_type": "code",
   "execution_count": null,
   "id": "f51a2e74-2562-4795-898e-05546f681e49",
   "metadata": {},
   "outputs": [],
   "source": []
  }
 ],
 "metadata": {
  "kernelspec": {
   "display_name": "Python 3",
   "language": "python",
   "name": "python3"
  },
  "language_info": {
   "codemirror_mode": {
    "name": "ipython",
    "version": 3
   },
   "file_extension": ".py",
   "mimetype": "text/x-python",
   "name": "python",
   "nbconvert_exporter": "python",
   "pygments_lexer": "ipython3",
   "version": "3.9.4"
  }
 },
 "nbformat": 4,
 "nbformat_minor": 5
}
