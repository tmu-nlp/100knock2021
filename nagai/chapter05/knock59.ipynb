{
 "cells": [
  {
   "cell_type": "code",
   "execution_count": 8,
   "id": "a96a208b-3c74-429f-a658-32e25874f6e6",
   "metadata": {},
   "outputs": [
    {
     "name": "stdout",
     "output_type": "stream",
     "text": [
      "正解率最高:\n",
      " solver: lbfgs \tc: 1000 \ttol: 1\n",
      "正解率: 0.812125748502994\n"
     ]
    }
   ],
   "source": [
    "import pandas as pd\n",
    "import numpy as np\n",
    "from sklearn.linear_model import LogisticRegression\n",
    "from sklearn.metrics import accuracy_score\n",
    "\n",
    "def hyper(sol,c1,t):\n",
    "    LR=LogisticRegression(random_state=100,max_iter=1000,C=c1,solver=sol,tol=t)\n",
    "    df_train=pd.read_table(\"train.txt\",header=None,names=[\"CATEGORY\",\"TITLE\"])\n",
    "    df_valid=pd.read_table(\"valid.txt\",header=None,names=[\"CATEGORY\",\"TITLE\"])\n",
    "    X_train=pd.read_table(\"X_train.txt\")\n",
    "    X_valid=pd.read_table(\"X_valid.txt\")\n",
    "    LR.fit(X_train, df_train[\"CATEGORY\"])\n",
    "    \n",
    "    return accuracy_score(df_valid[\"CATEGORY\"],LR.predict(X_valid))\n",
    "\n",
    "def best_hp(sol,c1,t):\n",
    "    LR=LogisticRegression(random_state=100,max_iter=1000,C=c1,solver=sol,tol=t)\n",
    "    df_train=pd.read_table(\"train.txt\",header=None,names=[\"CATEGORY\",\"TITLE\"])\n",
    "    df_test=pd.read_table(\"test.txt\",header=None,names=[\"CATEGORY\",\"TITLE\"])\n",
    "    X_train=pd.read_table(\"X_train.txt\")\n",
    "    X_test=pd.read_table(\"X_test.txt\")\n",
    "    LR.fit(X_train, df_train[\"CATEGORY\"])\n",
    "    \n",
    "    print(\"正解率:\",accuracy_score(df_test[\"CATEGORY\"],LR.predict(X_test)))\n",
    "    \n",
    "#59\n",
    "result={}\n",
    "solver=[\"newton-cg\",\"lbfgs\",\"liblinear\",\"sag\",\"saga\"]#default liblinear 最適解の探索手法を newton-cg，lbfgs，liblinear，sag から選択\n",
    "c=[10**(num) for num in range(0,4)]#default 1\n",
    "tol=[10**(num) for num in range(-1,2)]\n",
    "for sol in solver:\n",
    "    for c1 in c:\n",
    "        for t in tol:\n",
    "            result[sol+\" \"+str(c1)+\" \"+str(t)]=hyper(sol,c1,t)\n",
    "        \n",
    "sort_result=sorted(result.items(),key=lambda x:x[1],reverse=True)\n",
    "hp=sort_result[0][0].split()\n",
    "print(\"正解率最高:\\n\",\"solver:\",hp[0],\"\\tc:\",hp[1],\"\\ttol:\",hp[2])\n",
    "best_hp(hp[0],float(hp[1]),float(hp[2]))"
   ]
  },
  {
   "cell_type": "code",
   "execution_count": null,
   "id": "4f0799fa-a35f-47b5-99cb-d985d35a729f",
   "metadata": {},
   "outputs": [],
   "source": []
  }
 ],
 "metadata": {
  "kernelspec": {
   "display_name": "Python 3",
   "language": "python",
   "name": "python3"
  },
  "language_info": {
   "codemirror_mode": {
    "name": "ipython",
    "version": 3
   },
   "file_extension": ".py",
   "mimetype": "text/x-python",
   "name": "python",
   "nbconvert_exporter": "python",
   "pygments_lexer": "ipython3",
   "version": "3.9.4"
  }
 },
 "nbformat": 4,
 "nbformat_minor": 5
}
