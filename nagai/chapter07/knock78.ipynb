{
 "cells": [
  {
   "cell_type": "code",
   "execution_count": 14,
   "id": "c08792e0-c6e9-46a6-a5d7-e472349230b7",
   "metadata": {},
   "outputs": [
    {
     "name": "stdout",
     "output_type": "stream",
     "text": [
      "batch_size:1\ttime: 1.8657550811767578\n",
      "batch_size:2\ttime: 1.090104341506958\n",
      "batch_size:4\ttime: 0.5626964569091797\n",
      "batch_size:8\ttime: 0.31252312660217285\n",
      "batch_size:16\ttime: 0.18751263618469238\n",
      "batch_size:32\ttime: 0.12500739097595215\n",
      "batch_size:64\ttime: 0.09375786781311035\n",
      "batch_size:128\ttime: 0.07812714576721191\n",
      "batch_size:256\ttime: 0.06250691413879395\n",
      "batch_size:512\ttime: 0.07813119888305664\n",
      "batch_size:1024\ttime: 0.09375405311584473\n"
     ]
    }
   ],
   "source": [
    "from torch import nn,optim\n",
    "from torch.utils.data import TensorDataset,DataLoader\n",
    "import pickle\n",
    "import torch\n",
    "\n",
    "class neural_net(nn.Module):\n",
    "    def __init__(self,inp,out):\n",
    "        super().__init__()\n",
    "        self.fc=nn.Linear(inp,out,bias=False)\n",
    "        nn.init.xavier_normal_(self.fc.weight)\n",
    "    \n",
    "    def forward(self,x):\n",
    "        x=self.fc(x)\n",
    "        return x\n",
    "\n",
    "def accuracy(pred,label):\n",
    "    pred=torch.argmax(pred,dim=-1)\n",
    "    leng=len(pred)\n",
    "    return (pred==label).sum().item()/leng\n",
    "    \n",
    "model=neural_net(300,4)\n",
    "device=torch.device(\"cuda\"if torch.cuda.is_available() else \"cpu\")\n",
    "model.to(device)\n",
    "\n",
    "ave_loss=nn.CrossEntropyLoss()\n",
    "dataset_train=TensorDataset(X_train.to(device),Y_train.to(device))\n",
    "import time\n",
    "B=[2**i for i in range(11)]\n",
    "times=[]\n",
    "for b in B:\n",
    "    dl_train=DataLoader(dataset_train,batch_size=b)\n",
    "    optimizer=torch.optim.SGD(model.parameters(),lr=0.01)\n",
    "    start=time.time()\n",
    "    for X,Y in dl_train:\n",
    "        optimizer.zero_grad()\n",
    "        pred=model(X)\n",
    "        loss=ave_loss(pred,Y)\n",
    "        loss.backward()\n",
    "        optimizer.step()\n",
    "    times.append(time.time()-start)\n",
    "for num in range(len(times)):\n",
    "    print(f\"batch_size:{2**num}\\ttime:\",str(times[num]))"
   ]
  },
  {
   "cell_type": "code",
   "execution_count": null,
   "id": "34422e03-84db-4be3-a69b-316523e90ac9",
   "metadata": {},
   "outputs": [],
   "source": []
  }
 ],
 "metadata": {
  "kernelspec": {
   "display_name": "Python 3",
   "language": "python",
   "name": "python3"
  },
  "language_info": {
   "codemirror_mode": {
    "name": "ipython",
    "version": 3
   },
   "file_extension": ".py",
   "mimetype": "text/x-python",
   "name": "python",
   "nbconvert_exporter": "python",
   "pygments_lexer": "ipython3",
   "version": "3.9.4"
  }
 },
 "nbformat": 4,
 "nbformat_minor": 5
}
