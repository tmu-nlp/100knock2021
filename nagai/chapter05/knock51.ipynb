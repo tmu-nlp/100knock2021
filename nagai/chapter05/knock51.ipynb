{
 "cells": [
  {
   "cell_type": "code",
   "execution_count": 2,
   "id": "359f624b-bbd0-4117-8e19-66c887663a77",
   "metadata": {},
   "outputs": [],
   "source": [
    "import pandas as pd\n",
    "import re\n",
    "from sklearn.feature_extraction.text import TfidfVectorizer\n",
    "\n",
    "def tangoretu(x):\n",
    "    sentence=[]\n",
    "    x=x.lower() \n",
    "    x=re.sub(\"[0-9]+\",\"\",x)\n",
    "    x=re.sub(\"[^0a-zA-Z ]\",\" \",x)\n",
    "    words=x.split()\n",
    "    for word in words:\n",
    "        sentence.append(word)\n",
    "    return \" \".join(sentence)\n",
    "\n",
    "def write_tangoretu(df,write_text):\n",
    "    df[\"TITLE\"]=df[\"TITLE\"].map(lambda x:tangoretu(x))\n",
    "    return df\n",
    "\n",
    "df_train=pd.read_table(\"train.txt\",header=None,names=[\"CATEGORY\",\"TITLE\"])\n",
    "write_tangoretu(df_train,\"train.feature.txt\")\n",
    "\n",
    "df_valid=pd.read_table(\"valid.txt\",header=None,names=[\"CATEGORY\",\"TITLE\"])\n",
    "write_tangoretu(df_valid,\"valid.feature.txt\")\n",
    "\n",
    "df_test=pd.read_table(\"test.txt\",header=None,names=[\"CATEGORY\",\"TITLE\"])\n",
    "write_tangoretu(df_test,\"test.feature.txt\")\n",
    "\n",
    "df_m=pd.concat([df_train,df_valid,df_test],axis=0)\n",
    "\n",
    "train_valid= df_m[:len(df_train) + len(df_valid)]\n",
    "test = df_m[len(df_train) + len(df_valid):]\n",
    "\n",
    "vec_tfidf = TfidfVectorizer(min_df=15, ngram_range=(1,1))\n",
    "\n",
    "X_m=vec_tfidf.fit_transform(train_valid['TITLE'])\n",
    "X_test = vec_tfidf.transform(test['TITLE'])\n",
    "\n",
    "\n",
    "X_m=pd.DataFrame(X_m.toarray(), columns=vec_tfidf.get_feature_names())\n",
    "X_test = pd.DataFrame(X_test.toarray(), columns=vec_tfidf.get_feature_names())\n",
    "\n",
    "X_train=X_m[:len(df_train)]\n",
    "X_valid= X_m[len(df_train):]\n",
    "\n",
    "X_train.to_csv(\"X_train.txt\",sep=\"\\t\",index=False)\n",
    "X_valid.to_csv(\"X_valid.txt\", sep=\"\\t\", index=False)\n",
    "X_test.to_csv(\"X_test.txt\", sep=\"\\t\", index=False)"
   ]
  },
  {
   "cell_type": "code",
   "execution_count": null,
   "id": "dcd9e1aa-2d80-4f43-88e2-fc8d654f8ddf",
   "metadata": {},
   "outputs": [],
   "source": []
  }
 ],
 "metadata": {
  "kernelspec": {
   "display_name": "Python 3",
   "language": "python",
   "name": "python3"
  },
  "language_info": {
   "codemirror_mode": {
    "name": "ipython",
    "version": 3
   },
   "file_extension": ".py",
   "mimetype": "text/x-python",
   "name": "python",
   "nbconvert_exporter": "python",
   "pygments_lexer": "ipython3",
   "version": "3.9.4"
  }
 },
 "nbformat": 4,
 "nbformat_minor": 5
}
