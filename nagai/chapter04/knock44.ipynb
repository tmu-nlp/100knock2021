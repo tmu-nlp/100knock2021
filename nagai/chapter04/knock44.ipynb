{
 "cells": [
  {
   "cell_type": "code",
   "execution_count": 4,
   "id": "113315d5-dbc6-4c36-b168-77a013267da0",
   "metadata": {},
   "outputs": [],
   "source": [
    "import re\n",
    "import pydot_ng as pydot\n",
    "class Morph:\n",
    "    def __init__(self,item):\n",
    "        self.surface=item[0]\n",
    "        self.base=item[len(items)-3]\n",
    "        self.pos=items[1]\n",
    "        self.pos1=items[2] \n",
    "        \n",
    "class Chunk:\n",
    "    def __init__(self,idx,dst):\n",
    "        self.idx = idx     \n",
    "        self.morphs = []   \n",
    "        self.dst = dst     \n",
    "        self.srcs = [] \n",
    "        \n",
    "with open(\"ai.ja.txt.parsed\",\"r\",encoding=\"utf-8\") as ai:\n",
    "    result=[]\n",
    "    sent=[]\n",
    "    for line in ai:\n",
    "        line=line.strip()\n",
    "        items=re.split(\"[ ,\\t]\",line)\n",
    "        if items[0]==\"*\":\n",
    "            idx=int(items[1])\n",
    "            items[2]=items[2].strip(\"D\")\n",
    "            dst=int(items[2])\n",
    "            chunk=Chunk(idx,dst)\n",
    "            sent.append(chunk)\n",
    "            \n",
    "        elif items[0]==\"EOS\":\n",
    "            if sent:\n",
    "                result.append(sent)\n",
    "                sent=[]\n",
    "            \n",
    "        else:\n",
    "            chunk.morphs.append(Morph(items))\n",
    "            \n",
    "    for sen in result:\n",
    "        for chunk in sen:\n",
    "            if chunk.dst!=-1:\n",
    "                sen[int(chunk.dst)].srcs.append(chunk.idx)\n",
    "    \n",
    "#44\n",
    "    kakariuke=[]\n",
    "    for chunk in result[1]:\n",
    "        if chunk.dst!=-1:\n",
    "            moto=\"\".join([k.surface if k.pos!=\"記号\" else \"\" for k in chunk.morphs])\n",
    "            saki=\"\".join([k.surface if k.pos!=\"記号\" else \"\" for k in result[1][int(chunk.dst)].morphs])\n",
    "            kakariuke.append((moto,saki))\n",
    "                \n",
    "    img = pydot.Dot(graph_type='digraph')\n",
    "    img.set_node_defaults(fontname='Meiryo UI', fontsize='10')\n",
    "    for f,l in kakariuke:\n",
    "        img.add_edge(pydot.Edge(f, l))\n",
    "    img.write_png(\"kakariuke_tree\")"
   ]
  },
  {
   "cell_type": "code",
   "execution_count": null,
   "id": "9938c2bc-e540-48b9-9d09-251bd25aba6a",
   "metadata": {},
   "outputs": [],
   "source": []
  }
 ],
 "metadata": {
  "kernelspec": {
   "display_name": "Python 3",
   "language": "python",
   "name": "python3"
  },
  "language_info": {
   "codemirror_mode": {
    "name": "ipython",
    "version": 3
   },
   "file_extension": ".py",
   "mimetype": "text/x-python",
   "name": "python",
   "nbconvert_exporter": "python",
   "pygments_lexer": "ipython3",
   "version": "3.9.4"
  }
 },
 "nbformat": 4,
 "nbformat_minor": 5
}
