{
  "nbformat": 4,
  "nbformat_minor": 0,
  "metadata": {
    "colab": {
      "name": "knock73～79(74除く).ipynb",
      "provenance": [],
      "collapsed_sections": [],
      "mount_file_id": "1HYv6PCV3AgmuoN7NBUCfWXJdB-UXxTZx",
      "authorship_tag": "ABX9TyMRyx17Rp+QGL07kO4kBwLm",
      "include_colab_link": true
    },
    "kernelspec": {
      "name": "python3",
      "display_name": "Python 3"
    },
    "language_info": {
      "name": "python"
    },
    "accelerator": "GPU"
  },
  "cells": [
    {
      "cell_type": "markdown",
      "metadata": {
        "id": "view-in-github",
        "colab_type": "text"
      },
      "source": [
        "<a href=\"https://colab.research.google.com/github/tmu-nlp/100knock2021/blob/main/wei/chapter08/knock73%EF%BD%9E79(74%E9%99%A4%E3%81%8F).ipynb\" target=\"_parent\"><img src=\"https://colab.research.google.com/assets/colab-badge.svg\" alt=\"Open In Colab\"/></a>"
      ]
    },
    {
      "cell_type": "markdown",
      "metadata": {
        "id": "crSHQnHRJhTt"
      },
      "source": [
        "## Task Description\n",
        "\n",
        "*   knock74を除いて、knock73～knock79までのコードをここに保存済み\n",
        "\n"
      ]
    },
    {
      "cell_type": "markdown",
      "metadata": {
        "id": "Vi3-2W92c2_P"
      },
      "source": [
        "### 73.確率的勾配降下法による学習\n",
        "\n",
        "確率的勾配降下法（SGD: Stochastic Gradient Descent）を用いて，行列Wを学習せよ．なお，学習は適当な基準で終了させればよい（例えば「100エポックで終了」など）"
      ]
    },
    {
      "cell_type": "code",
      "metadata": {
        "id": "NAPS0o3cHrru"
      },
      "source": [
        "from torch.utils.data import Dataset\n",
        "from torch.utils.data import DataLoader"
      ],
      "execution_count": 1,
      "outputs": []
    },
    {
      "cell_type": "code",
      "metadata": {
        "id": "fzYhiLzYKttL"
      },
      "source": [
        "# 学習用のTensor型の平均化ベクトルとラベルベクトルを変換\n",
        "\n",
        "class NewsDataset(Dataset):\n",
        "  def __init__(self, X, y):  # datasetの構成要素を指定\n",
        "    self.X = X\n",
        "    self.y = y\n",
        "\n",
        "  def __len__(self):  # len(dataset)で返す値を指定\n",
        "    return len(self.y)\n",
        "\n",
        "  def __getitem__(self, idx):  # dataset[idx]で返す値を指定\n",
        "    return [self.X[idx], self.y[idx]]"
      ],
      "execution_count": 13,
      "outputs": []
    },
    {
      "cell_type": "code",
      "metadata": {
        "id": "3_eulk7dx9T3"
      },
      "source": [
        "import pandas as pd\n",
        "from sklearn.model_selection import train_test_split\n",
        "\n",
        "# データの読込\n",
        "df = pd.read_csv('drive/MyDrive/ColabNotebooks/NLPknock100/newsCorpora_re.csv', header=None, sep='\\t', names=['ID', 'TITLE', 'URL', 'PUBLISHER', 'CATEGORY', 'STORY', 'HOSTNAME', 'TIMESTAMP'])\n",
        "\n",
        "# データの抽出\n",
        "df = df.loc[df['PUBLISHER'].isin(['Reuters', 'Huffington Post', 'Businessweek', 'Contactmusic.com', 'Daily Mail']), ['TITLE', 'CATEGORY']]\n",
        "\n",
        "# データの分割\n",
        "train, valid_test = train_test_split(df, test_size=0.2, shuffle=True, random_state=123, stratify=df['CATEGORY'])\n",
        "valid, test = train_test_split(valid_test, test_size=0.5, shuffle=True, random_state=123, stratify=valid_test['CATEGORY'])"
      ],
      "execution_count": 14,
      "outputs": []
    },
    {
      "cell_type": "code",
      "metadata": {
        "id": "s0WTh1OhF6rV"
      },
      "source": [
        "from gensim.models import KeyedVectors\n",
        "import string\n",
        "import torch\n",
        "# 学習済み単語ベクトルを読み込む\n",
        "model = KeyedVectors.load_word2vec_format('drive/MyDrive/ColabNotebooks/NLPknock100/GoogleNews-vectors-negative300.bin.gz', binary=True)\n",
        "\n",
        "def transform_w2v(text):\n",
        "  table = str.maketrans(string.punctuation, ' '*len(string.punctuation))\n",
        "  words = text.translate(table).split()  # 記号をスペースに置換後、スペースで分割してリスト化\n",
        "  vec = [model[word] for word in words if word in model]  # 1語ずつベクトル化\n",
        "\n",
        "  return torch.tensor(sum(vec) / len(vec))  # 平均ベクトルをTensor型に変換して出力\n",
        "\n",
        "X_train = torch.stack([transform_w2v(text) for text in train['TITLE']])\n",
        "X_valid = torch.stack([transform_w2v(text) for text in valid['TITLE']])\n",
        "X_test = torch.stack([transform_w2v(text) for text in test['TITLE']])"
      ],
      "execution_count": 15,
      "outputs": []
    },
    {
      "cell_type": "code",
      "metadata": {
        "id": "QUGAmqumGWT4"
      },
      "source": [
        "# ラベルベクトルの作成\n",
        "category_dict = {'b': 0, 't': 1, 'e':2, 'm':3}\n",
        "y_train = torch.tensor(train['CATEGORY'].map(lambda x: category_dict[x]).values)\n",
        "y_valid = torch.tensor(valid['CATEGORY'].map(lambda x: category_dict[x]).values)\n",
        "y_test = torch.tensor(test['CATEGORY'].map(lambda x: category_dict[x]).values)"
      ],
      "execution_count": 63,
      "outputs": []
    },
    {
      "cell_type": "code",
      "metadata": {
        "id": "Hh2Gx-ihP_WZ"
      },
      "source": [
        "#　Datasetを作成するには、X_train, y_trainを利用\n",
        "dataset_train = NewsDataset(X_train, y_train)\n",
        "dataset_valid = NewsDataset(X_valid, y_valid)\n",
        "dataset_test = NewsDataset(X_test, y_test)"
      ],
      "execution_count": 64,
      "outputs": []
    },
    {
      "cell_type": "code",
      "metadata": {
        "id": "yUyOBKbXQ30c"
      },
      "source": [
        "# Dataloaderの作成\n",
        "dataloader_train = DataLoader(dataset_train, batch_size=1, shuffle=True)\n",
        "dataloader_valid = DataLoader(dataset_valid, batch_size=len(dataset_valid), shuffle=False)\n",
        "dataloader_test = DataLoader(dataset_test, batch_size=len(dataset_test), shuffle=False)"
      ],
      "execution_count": 20,
      "outputs": []
    },
    {
      "cell_type": "markdown",
      "metadata": {
        "id": "2ez5ISQGRffj"
      },
      "source": [
        "* データの準備ができて、行列$W$を学習\n",
        "* まず、前問と同様に、単層モデル、損失関数を定義\n",
        "*　計算した勾配から重みを更新するには、optimizerをSGDに指定に定義\n",
        "*　エポック数を10にして学習を実行\n",
        "\n"
      ]
    },
    {
      "cell_type": "code",
      "metadata": {
        "id": "ksWFiXGiG6iU"
      },
      "source": [
        "# SGLNetという単層ニューラルネットワークを定義\n",
        "from torch import nn\n",
        "\n",
        "class SGLNet(nn.Module):\n",
        "  #　ネットのlayerを定義\n",
        "  def __init__(self, input_size, output_size):\n",
        "    super().__init__()\n",
        "    self.fc = nn.Linear(input_size, output_size, bias=False)\n",
        "    nn.init.normal_(self.fc.weight, 0.0, 1.0)  # 正規乱数で重みを初期化\n",
        "  #　forwardで入力データが順伝播時に通るレイヤーを順に配置しておく\n",
        "  def forward(self, x):\n",
        "    x = self.fc(x)\n",
        "    return x"
      ],
      "execution_count": 28,
      "outputs": []
    },
    {
      "cell_type": "code",
      "metadata": {
        "id": "v7UlRDPxRZ_v"
      },
      "source": [
        "# モデルの定義\n",
        "SigleNNmodel = SGLNet(300, 4)\n",
        "\n",
        "# 損失関数の定義\n",
        "criterion = nn.CrossEntropyLoss()\n",
        "\n",
        "# オプティマイザの定義,所有optimizers都继承自torch.optim.Optimizer类，以下是例子：\n",
        "# class torch.optim.Adam(params(Iterabel), lr=0.001, betas=(0.9, 0.999), eps=1e-08, weight_decay=0, amsgrad=False)\n",
        "# model.parameters()返回 实际上是一个generator字典，lr是learning rate\n",
        "\n",
        "optimizer = torch.optim.SGD(SigleNNmodel.parameters(), lr=1e-1)"
      ],
      "execution_count": 29,
      "outputs": []
    },
    {
      "cell_type": "code",
      "metadata": {
        "id": "8qH3CVq6Sqz-",
        "colab": {
          "base_uri": "https://localhost:8080/"
        },
        "outputId": "8f280aef-283f-4d3e-fc97-8eace1b5b4a9"
      },
      "source": [
        "# 学習\n",
        "num_epochs = 10\n",
        "for epoch in range(num_epochs):\n",
        "  # 訓練モードに設定\n",
        "  SigleNNmodel.train()\n",
        "  loss_train = 0.0\n",
        "  for i, (inputs, labels) in enumerate(dataloader_train):\n",
        "    # 勾配をゼロで初期化\n",
        "    optimizer.zero_grad()\n",
        "\n",
        "    # 順伝播 + 誤差逆伝播 + 重み更新\n",
        "    outputs = SigleNNmodel(inputs)\n",
        "    loss = criterion(outputs, labels)\n",
        "    loss.backward()\n",
        "    optimizer.step()\n",
        "\n",
        "    # 損失を記録\n",
        "    loss_train += loss.item()\n",
        "\n",
        "  # バッチ単位の平均損失計算\n",
        "  loss_train = loss_train / i\n",
        "\n",
        "  # 検証データの損失計算\n",
        "  SigleNNmodel.eval() \n",
        "  with torch.no_grad():\n",
        "    inputs, labels = next(iter(dataloader_valid))\n",
        "    outputs = SigleNNmodel(inputs)\n",
        "    loss_valid = criterion(outputs, labels)\n",
        "\n",
        "  # ログを出力\n",
        "  print(f'epoch: {epoch + 1}, loss_train: {loss_train:.4f}, loss_valid: {loss_valid:.4f}')  "
      ],
      "execution_count": 9,
      "outputs": [
        {
          "output_type": "stream",
          "text": [
            "epoch: 1, loss_train: 0.4676, loss_valid: 0.3629\n",
            "epoch: 2, loss_train: 0.3114, loss_valid: 0.3228\n",
            "epoch: 3, loss_train: 0.2813, loss_valid: 0.3145\n",
            "epoch: 4, loss_train: 0.2663, loss_valid: 0.3064\n",
            "epoch: 5, loss_train: 0.2556, loss_valid: 0.3057\n",
            "epoch: 6, loss_train: 0.2493, loss_valid: 0.3042\n",
            "epoch: 7, loss_train: 0.2436, loss_valid: 0.3126\n",
            "epoch: 8, loss_train: 0.2401, loss_valid: 0.3074\n",
            "epoch: 9, loss_train: 0.2354, loss_valid: 0.3028\n",
            "epoch: 10, loss_train: 0.2330, loss_valid: 0.3042\n"
          ],
          "name": "stdout"
        }
      ]
    },
    {
      "cell_type": "markdown",
      "metadata": {
        "id": "bXLnX3qOVE-r"
      },
      "source": [
        "### 75．損失と正解率のプロット\n",
        "  \n",
        "問題73のコードを改変し，各エポックのパラメータ更新が完了するたびに，訓練データでの損失，正解率，検証データでの損失，正解率をグラフにプロットし，学習の進捗状況を確認できるようにせよ．"
      ]
    },
    {
      "cell_type": "code",
      "metadata": {
        "id": "6MvqCxckciYy"
      },
      "source": [
        "# 各データセットの損失を計算できる関数を定義\n",
        "\n",
        "def calculate_loss_and_accuracy(model, criterion, loader):\n",
        "  model.eval()\n",
        "  loss = 0.0\n",
        "  total = 0\n",
        "  correct = 0\n",
        "  with torch.no_grad():\n",
        "    for inputs, labels in loader:\n",
        "      outputs = model(inputs)\n",
        "      loss += criterion(outputs, labels).item()\n",
        "      pred = torch.argmax(outputs, dim=-1)\n",
        "      total += len(inputs)\n",
        "      correct += (pred == labels).sum().item()\n",
        "\n",
        "  return loss / len(loader), correct / total"
      ],
      "execution_count": 10,
      "outputs": []
    },
    {
      "cell_type": "code",
      "metadata": {
        "colab": {
          "base_uri": "https://localhost:8080/"
        },
        "id": "Xt_z2YF0dphi",
        "outputId": "ab7a1f4e-b1e2-4153-c18e-c62353df1937"
      },
      "source": [
        "# 学習進捗状況を把握するため、再びDataLoaderを作成する必要があるので、73の学習操作を飛ばすべき\n",
        "num_epochs = 30\n",
        "log_train = []\n",
        "log_valid = []\n",
        "for epoch in range(num_epochs):\n",
        "  # 訓練モードに設定\n",
        "  SigleNNmodel.train()\n",
        "  for inputs, labels in dataloader_train:\n",
        "    # 勾配をゼロで初期化\n",
        "    optimizer.zero_grad()\n",
        "\n",
        "    # 順伝播 + 誤差逆伝播 + 重み更新\n",
        "    outputs = SigleNNmodel(inputs)\n",
        "    loss = criterion(outputs, labels)\n",
        "    loss.backward()\n",
        "    optimizer.step()\n",
        "    #　損失と正解率を算出\n",
        "  # 1エポック完了後、学習データと検証データ上の損失率と精度を計算\n",
        "  loss_train, acc_train = calculate_loss_and_accuracy(SigleNNmodel, criterion, dataloader_train)\n",
        "  loss_valid, acc_valid = calculate_loss_and_accuracy(SigleNNmodel, criterion, dataloader_valid)\n",
        "  log_train.append([loss_train, acc_train])\n",
        "  log_valid.append([loss_valid, acc_valid])\n",
        "\n",
        "  # ログを出力\n",
        "  print(f'epoch: {epoch + 1}, loss_train: {loss_train:.4f}, accuracy_train: {acc_train:.4f}, loss_valid: {loss_valid:.4f}, accuracy_valid: {acc_valid:.4f}') "
      ],
      "execution_count": 23,
      "outputs": [
        {
          "output_type": "stream",
          "text": [
            "epoch: 1, loss_train: 0.3315, accuracy_train: 0.8867, loss_valid: 0.3559, accuracy_valid: 0.8772\n",
            "epoch: 2, loss_train: 0.2891, accuracy_train: 0.9019, loss_valid: 0.3273, accuracy_valid: 0.8885\n",
            "epoch: 3, loss_train: 0.2705, accuracy_train: 0.9082, loss_valid: 0.3183, accuracy_valid: 0.8915\n",
            "epoch: 4, loss_train: 0.2563, accuracy_train: 0.9129, loss_valid: 0.3100, accuracy_valid: 0.8952\n",
            "epoch: 5, loss_train: 0.2505, accuracy_train: 0.9163, loss_valid: 0.3097, accuracy_valid: 0.8952\n",
            "epoch: 6, loss_train: 0.2422, accuracy_train: 0.9174, loss_valid: 0.3088, accuracy_valid: 0.8960\n",
            "epoch: 7, loss_train: 0.2361, accuracy_train: 0.9205, loss_valid: 0.3036, accuracy_valid: 0.8982\n",
            "epoch: 8, loss_train: 0.2326, accuracy_train: 0.9200, loss_valid: 0.3075, accuracy_valid: 0.9004\n",
            "epoch: 9, loss_train: 0.2286, accuracy_train: 0.9247, loss_valid: 0.3044, accuracy_valid: 0.8945\n",
            "epoch: 10, loss_train: 0.2254, accuracy_train: 0.9241, loss_valid: 0.3055, accuracy_valid: 0.8952\n",
            "epoch: 11, loss_train: 0.2225, accuracy_train: 0.9258, loss_valid: 0.3040, accuracy_valid: 0.8960\n",
            "epoch: 12, loss_train: 0.2224, accuracy_train: 0.9263, loss_valid: 0.3072, accuracy_valid: 0.8952\n",
            "epoch: 13, loss_train: 0.2206, accuracy_train: 0.9263, loss_valid: 0.3092, accuracy_valid: 0.8937\n",
            "epoch: 14, loss_train: 0.2174, accuracy_train: 0.9260, loss_valid: 0.3072, accuracy_valid: 0.8952\n",
            "epoch: 15, loss_train: 0.2194, accuracy_train: 0.9270, loss_valid: 0.3117, accuracy_valid: 0.8930\n",
            "epoch: 16, loss_train: 0.2160, accuracy_train: 0.9273, loss_valid: 0.3106, accuracy_valid: 0.8892\n",
            "epoch: 17, loss_train: 0.2159, accuracy_train: 0.9269, loss_valid: 0.3126, accuracy_valid: 0.8937\n",
            "epoch: 18, loss_train: 0.2154, accuracy_train: 0.9260, loss_valid: 0.3134, accuracy_valid: 0.8907\n",
            "epoch: 19, loss_train: 0.2162, accuracy_train: 0.9264, loss_valid: 0.3165, accuracy_valid: 0.8937\n",
            "epoch: 20, loss_train: 0.2154, accuracy_train: 0.9250, loss_valid: 0.3192, accuracy_valid: 0.8900\n",
            "epoch: 21, loss_train: 0.2122, accuracy_train: 0.9276, loss_valid: 0.3144, accuracy_valid: 0.8945\n",
            "epoch: 22, loss_train: 0.2133, accuracy_train: 0.9287, loss_valid: 0.3174, accuracy_valid: 0.8937\n",
            "epoch: 23, loss_train: 0.2095, accuracy_train: 0.9286, loss_valid: 0.3164, accuracy_valid: 0.8945\n",
            "epoch: 24, loss_train: 0.2105, accuracy_train: 0.9279, loss_valid: 0.3202, accuracy_valid: 0.8945\n",
            "epoch: 25, loss_train: 0.2113, accuracy_train: 0.9275, loss_valid: 0.3218, accuracy_valid: 0.8952\n",
            "epoch: 26, loss_train: 0.2080, accuracy_train: 0.9292, loss_valid: 0.3193, accuracy_valid: 0.8960\n",
            "epoch: 27, loss_train: 0.2093, accuracy_train: 0.9301, loss_valid: 0.3203, accuracy_valid: 0.8960\n",
            "epoch: 28, loss_train: 0.2096, accuracy_train: 0.9291, loss_valid: 0.3234, accuracy_valid: 0.8967\n",
            "epoch: 29, loss_train: 0.2088, accuracy_train: 0.9295, loss_valid: 0.3233, accuracy_valid: 0.8922\n",
            "epoch: 30, loss_train: 0.2131, accuracy_train: 0.9284, loss_valid: 0.3274, accuracy_valid: 0.8937\n"
          ],
          "name": "stdout"
        }
      ]
    },
    {
      "cell_type": "code",
      "metadata": {
        "colab": {
          "base_uri": "https://localhost:8080/",
          "height": 240
        },
        "id": "htf3aCcSgI0o",
        "outputId": "5b0e8899-036d-4c1e-e713-030c32c1a241"
      },
      "source": [
        "# 損失，正解率をグラフにプロットし，学習の進捗状況を確認\n",
        "from matplotlib import pyplot as plt\n",
        "import numpy as np\n",
        "\n",
        "# 視覚化\n",
        "fig, ax = plt.subplots(1, 2, figsize=(15, 5))\n",
        "ax[0].plot(np.array(log_train).T[0], label='train')\n",
        "ax[0].plot(np.array(log_valid).T[0], label='valid')\n",
        "ax[0].set_xlabel('epoch')\n",
        "ax[0].set_ylabel('loss')\n",
        "ax[0].legend()\n",
        "ax[1].plot(np.array(log_train).T[1], label='train')\n",
        "ax[1].plot(np.array(log_valid).T[1], label='valid')\n",
        "ax[1].set_xlabel('epoch')\n",
        "ax[1].set_ylabel('accuracy')\n",
        "ax[1].legend()\n",
        "plt.show()"
      ],
      "execution_count": 24,
      "outputs": [
        {
          "output_type": "display_data",
          "data": {
            "image/png": "[encoded data removed]",
            "text/plain": [
              "<Figure size 1080x360 with 2 Axes>"
            ]
          },
          "metadata": {
            "tags": [],
            "needs_background": "light"
          }
        }
      ]
    },
    {
      "cell_type": "markdown",
      "metadata": {
        "id": "f7AQ8JOvgyjp"
      },
      "source": [
        "### 76．チェックポイント\n",
        "  \n",
        "問題75のコードを改変し，各エポックのパラメータ更新が完了するたびに，チェックポイント（学習途中のパラメータ（重み行列など）の値や最適化アルゴリズムの内部状態）をファイルに書き出せ．\n",
        "* 学習途中のパラメータはmodel.state_dict()、最適化アルゴリズムの内部状態はoptimizer.state_dict()でアクセス"
      ]
    },
    {
      "cell_type": "code",
      "metadata": {
        "colab": {
          "base_uri": "https://localhost:8080/"
        },
        "id": "rqH5jNsgiurU",
        "outputId": "2bfdac37-d671-452e-bbeb-81537a71cb07"
      },
      "source": [
        "# 学習\n",
        "num_epochs = 10\n",
        "log_train = []\n",
        "log_valid = []\n",
        "for epoch in range(num_epochs):\n",
        "  # 訓練モードに設定\n",
        "  SigleNNmodel.train()\n",
        "  for inputs, labels in dataloader_train:\n",
        "    # 勾配をゼロで初期化\n",
        "    optimizer.zero_grad()\n",
        "\n",
        "    # 順伝播 + 誤差逆伝播 + 重み更新\n",
        "    outputs = SigleNNmodel(inputs)\n",
        "    loss = criterion(outputs, labels)\n",
        "    loss.backward()\n",
        "    optimizer.step()\n",
        "\n",
        "  # 損失と正解率の算出\n",
        "  loss_train, acc_train = calculate_loss_and_accuracy(SigleNNmodel, criterion, dataloader_train)\n",
        "  loss_valid, acc_valid = calculate_loss_and_accuracy(SigleNNmodel, criterion, dataloader_valid)\n",
        "  log_train.append([loss_train, acc_train])\n",
        "  log_valid.append([loss_valid, acc_valid])\n",
        "\n",
        "  # チェックポイントの保存，torch.save(dict_obj, dir)->dict_objにはエポックごとにmodel、optimizer等のargumentsを保存しておく\n",
        "  torch.save({'epoch': epoch, 'model_state_dict': SigleNNmodel.state_dict(), 'optimizer_state_dict': optimizer.state_dict()}, f'checkpoint{epoch + 1}.pt')\n",
        "\n",
        "  # ログを出力\n",
        "  print(f'epoch: {epoch + 1}, loss_train: {loss_train:.4f}, accuracy_train: {acc_train:.4f}, loss_valid: {loss_valid:.4f}, accuracy_valid: {acc_valid:.4f}') "
      ],
      "execution_count": 25,
      "outputs": [
        {
          "output_type": "stream",
          "text": [
            "epoch: 1, loss_train: 0.2069, accuracy_train: 0.9306, loss_valid: 0.3222, accuracy_valid: 0.8937\n",
            "epoch: 2, loss_train: 0.2069, accuracy_train: 0.9301, loss_valid: 0.3260, accuracy_valid: 0.8952\n",
            "epoch: 3, loss_train: 0.2106, accuracy_train: 0.9285, loss_valid: 0.3292, accuracy_valid: 0.8877\n",
            "epoch: 4, loss_train: 0.2062, accuracy_train: 0.9294, loss_valid: 0.3252, accuracy_valid: 0.8930\n",
            "epoch: 5, loss_train: 0.2101, accuracy_train: 0.9288, loss_valid: 0.3317, accuracy_valid: 0.8915\n",
            "epoch: 6, loss_train: 0.2064, accuracy_train: 0.9310, loss_valid: 0.3271, accuracy_valid: 0.8900\n",
            "epoch: 7, loss_train: 0.2066, accuracy_train: 0.9297, loss_valid: 0.3292, accuracy_valid: 0.8915\n",
            "epoch: 8, loss_train: 0.2053, accuracy_train: 0.9298, loss_valid: 0.3289, accuracy_valid: 0.8907\n",
            "epoch: 9, loss_train: 0.2048, accuracy_train: 0.9300, loss_valid: 0.3289, accuracy_valid: 0.8930\n",
            "epoch: 10, loss_train: 0.2056, accuracy_train: 0.9313, loss_valid: 0.3304, accuracy_valid: 0.8900\n"
          ],
          "name": "stdout"
        }
      ]
    },
    {
      "cell_type": "markdown",
      "metadata": {
        "id": "ee1qgKm5jXSG"
      },
      "source": [
        "### 77. ミニバッチ化\n",
        "  \n",
        "問題76のコードを改変し，$B$事例ごとに損失・勾配を計算し，行列$W$の値を更新せよ（ミニバッチ化）．$B$の値を$1,2,4,8,…$と変化させながら，1エポックの学習に要する時間を比較せよ．\n",
        "* Dataloaderの作成以降の処理をtrain_modelとして関数化し、いくつかのパラメータを引数として設定"
      ]
    },
    {
      "cell_type": "code",
      "metadata": {
        "id": "JM8ZiRJXk5q1"
      },
      "source": [
        "import time\n",
        "\n",
        "def train_model(dataset_train, dataset_valid, batch_size, model, criterion, optimizer, num_epochs):\n",
        "  # dataloaderの作成\n",
        "  dataloader_train = DataLoader(dataset_train, batch_size=batch_size, shuffle=True)\n",
        "  dataloader_valid = DataLoader(dataset_valid, batch_size=len(dataset_valid), shuffle=False)\n",
        "\n",
        "  # 学習\n",
        "  log_train = []\n",
        "  log_valid = []\n",
        "  for epoch in range(num_epochs):\n",
        "    # 開始時刻の記録\n",
        "    s_time = time.time()\n",
        "\n",
        "    # 訓練モードに設定\n",
        "    model.train()\n",
        "    for inputs, labels in dataloader_train:\n",
        "      # 勾配をゼロで初期化\n",
        "      optimizer.zero_grad()\n",
        "\n",
        "      # 順伝播 + 誤差逆伝播 + 重み更新\n",
        "      outputs = model(inputs)\n",
        "      loss = criterion(outputs, labels)\n",
        "      loss.backward()\n",
        "      optimizer.step()\n",
        "\n",
        "    # 損失と正解率の算出\n",
        "    loss_train, acc_train = calculate_loss_and_accuracy(model, criterion, dataloader_train)\n",
        "    loss_valid, acc_valid = calculate_loss_and_accuracy(model, criterion, dataloader_valid)\n",
        "    log_train.append([loss_train, acc_train])\n",
        "    log_valid.append([loss_valid, acc_valid])\n",
        "\n",
        "    # チェックポイントの保存\n",
        "    torch.save({'epoch': epoch, 'model_state_dict': model.state_dict(), 'optimizer_state_dict': optimizer.state_dict()}, f'checkpoint{epoch + 1}.pth')\n",
        "\n",
        "    # 終了時刻の記録\n",
        "    e_time = time.time()\n",
        "    timeused = e_time - s_time\n",
        "\n",
        "    # ログを出力\n",
        "    print(f'epoch: {epoch + 1}, loss_train: {loss_train:.4f}, accuracy_train: {acc_train:.4f}, loss_valid: {loss_valid:.4f}, accuracy_valid: {acc_valid:.4f}, timeused: {timeused:.4f}sec') \n",
        "\n",
        "  return {'train': log_train, 'valid': log_valid}"
      ],
      "execution_count": 37,
      "outputs": []
    },
    {
      "cell_type": "code",
      "metadata": {
        "colab": {
          "base_uri": "https://localhost:8080/"
        },
        "id": "cUQnaHpXmniL",
        "outputId": "ed788248-1195-4ca5-f7f0-14f64ba64b8c"
      },
      "source": [
        "# モデルの学習\n",
        "for batch_size in [2 ** i for i in range(11)]:\n",
        "  print(f'バッチサイズ: {batch_size}')\n",
        "  log = train_model(dataset_train, dataset_valid, batch_size, SigleNNmodel, criterion, optimizer, 1)"
      ],
      "execution_count": 38,
      "outputs": [
        {
          "output_type": "stream",
          "text": [
            "バッチサイズ: 1\n",
            "epoch: 1, loss_train: 0.2343, accuracy_train: 0.9223, loss_valid: 0.3094, accuracy_valid: 0.8982, timeused: 3.8691sec\n",
            "バッチサイズ: 2\n",
            "epoch: 1, loss_train: 0.2264, accuracy_train: 0.9241, loss_valid: 0.3054, accuracy_valid: 0.8960, timeused: 2.1752sec\n",
            "バッチサイズ: 4\n",
            "epoch: 1, loss_train: 0.2244, accuracy_train: 0.9257, loss_valid: 0.3028, accuracy_valid: 0.8982, timeused: 1.1633sec\n",
            "バッチサイズ: 8\n",
            "epoch: 1, loss_train: 0.2240, accuracy_train: 0.9247, loss_valid: 0.3030, accuracy_valid: 0.8997, timeused: 0.6389sec\n",
            "バッチサイズ: 16\n",
            "epoch: 1, loss_train: 0.2237, accuracy_train: 0.9248, loss_valid: 0.3032, accuracy_valid: 0.8990, timeused: 0.4214sec\n",
            "バッチサイズ: 32\n",
            "epoch: 1, loss_train: 0.2236, accuracy_train: 0.9250, loss_valid: 0.3032, accuracy_valid: 0.8982, timeused: 0.2631sec\n",
            "バッチサイズ: 64\n",
            "epoch: 1, loss_train: 0.2236, accuracy_train: 0.9250, loss_valid: 0.3032, accuracy_valid: 0.8990, timeused: 0.1893sec\n",
            "バッチサイズ: 128\n",
            "epoch: 1, loss_train: 0.2233, accuracy_train: 0.9249, loss_valid: 0.3032, accuracy_valid: 0.8990, timeused: 0.1605sec\n",
            "バッチサイズ: 256\n",
            "epoch: 1, loss_train: 0.2235, accuracy_train: 0.9249, loss_valid: 0.3032, accuracy_valid: 0.8990, timeused: 0.1499sec\n",
            "バッチサイズ: 512\n",
            "epoch: 1, loss_train: 0.2237, accuracy_train: 0.9249, loss_valid: 0.3032, accuracy_valid: 0.8990, timeused: 0.1321sec\n",
            "バッチサイズ: 1024\n",
            "epoch: 1, loss_train: 0.2231, accuracy_train: 0.9249, loss_valid: 0.3032, accuracy_valid: 0.8990, timeused: 0.1260sec\n"
          ],
          "name": "stdout"
        }
      ]
    },
    {
      "cell_type": "markdown",
      "metadata": {
        "id": "HMTNVy6moHoE"
      },
      "source": [
        "### 78. GPU上での学習\n",
        "問題77のコードを改変し，GPU上で学習を実行せよ．\n",
        "* GPUを指定する引数deviceをcalculate_loss_and_accuracy、train_modelに追加"
      ]
    },
    {
      "cell_type": "code",
      "metadata": {
        "id": "P-VkQv3Oo1gc"
      },
      "source": [
        "# GPUを指定し、75の損失計算関数を変えて、各データセットの損失を計算できる関数を定義\n",
        "\n",
        "def calculate_loss_and_accuracy_GPU(model, criterion, loader, device):\n",
        "  model.eval()\n",
        "  loss = 0.0\n",
        "  total = 0\n",
        "  correct = 0\n",
        "  with torch.no_grad():\n",
        "    for inputs, labels in loader:\n",
        "      # 入力TensorをGPUに送る\n",
        "      inputs = inputs.to(device)\n",
        "      labels = labels.to(device)\n",
        "      outputs = model(inputs)\n",
        "      loss += criterion(outputs, labels).item()\n",
        "      pred = torch.argmax(outputs, dim=-1)\n",
        "      total += len(inputs)\n",
        "      correct += (pred == labels).sum().item()\n",
        "\n",
        "  return loss / len(loader), correct / total"
      ],
      "execution_count": 41,
      "outputs": []
    },
    {
      "cell_type": "code",
      "metadata": {
        "id": "5BOvjRrRp1D0"
      },
      "source": [
        "# knock77の関数train_modelを改変し、deviceを指定するための引数を追加\n",
        "def train_model(dataset_train, dataset_valid, batch_size, model, criterion, optimizer, num_epochs, device=None):\n",
        "  # モデルをGPUに送る\n",
        "  model.to(device)\n",
        "\n",
        "  # dataloaderの作成\n",
        "  dataloader_train = DataLoader(dataset_train, batch_size=batch_size, shuffle=True)\n",
        "  dataloader_valid = DataLoader(dataset_valid, batch_size=len(dataset_valid), shuffle=False)\n",
        "\n",
        "  # 学習\n",
        "  log_train = []\n",
        "  log_valid = []\n",
        "  for epoch in range(num_epochs):\n",
        "    # 開始時刻の記録\n",
        "    s_time = time.time()\n",
        "\n",
        "    # 訓練モードに設定\n",
        "    model.train()\n",
        "    for inputs, labels in dataloader_train:\n",
        "      # 勾配をゼロで初期化\n",
        "      optimizer.zero_grad()\n",
        "\n",
        "      # 順伝播 + 誤差逆伝播 + 重み更新\n",
        "      inputs = inputs.to(device)\n",
        "      labels = labels.to(device)\n",
        "      outputs = model.forward(inputs)\n",
        "      loss = criterion(outputs, labels)\n",
        "      loss.backward()\n",
        "      optimizer.step()\n",
        "\n",
        "    # 損失と正解率の算出\n",
        "    loss_train, acc_train = calculate_loss_and_accuracy_GPU(model, criterion, dataloader_train, device)\n",
        "    loss_valid, acc_valid = calculate_loss_and_accuracy_GPU(model, criterion, dataloader_valid, device)\n",
        "    log_train.append([loss_train, acc_train])\n",
        "    log_valid.append([loss_valid, acc_valid])\n",
        "\n",
        "    # チェックポイントの保存\n",
        "    torch.save({'epoch': epoch, 'model_state_dict': model.state_dict(), 'optimizer_state_dict': optimizer.state_dict()}, f'checkpoint_knock78{epoch + 1}.pth')\n",
        "\n",
        "    # 終了時刻の記録\n",
        "    e_time = time.time()\n",
        "\n",
        "    # ログを出力\n",
        "    print(f'epoch: {epoch + 1}, loss_train: {loss_train:.4f}, accuracy_train: {acc_train:.4f}, loss_valid: {loss_valid:.4f}, accuracy_valid: {acc_valid:.4f}, {(e_time - s_time):.4f}sec') \n",
        "\n",
        "  return {'train': log_train, 'valid': log_valid}"
      ],
      "execution_count": 42,
      "outputs": []
    },
    {
      "cell_type": "code",
      "metadata": {
        "id": "vkWKEC0aquPO",
        "colab": {
          "base_uri": "https://localhost:8080/"
        },
        "outputId": "bb72e111-65b1-4c77-a585-763a3a8022e2"
      },
      "source": [
        "# デバイスの指定\n",
        "import torch\n",
        "device = torch.device('cuda')\n",
        "\n",
        "# モデルの学習\n",
        "for batch_size in [2 ** i for i in range(11)]:\n",
        "  print(f'バッチサイズ: {batch_size}')\n",
        "  log = train_model(dataset_train, dataset_valid, batch_size, SigleNNmodel, criterion, optimizer, 1, device=device)"
      ],
      "execution_count": 43,
      "outputs": [
        {
          "output_type": "stream",
          "text": [
            "バッチサイズ: 1\n",
            "epoch: 1, loss_train: 0.2308, accuracy_train: 0.9235, loss_valid: 0.3114, accuracy_valid: 0.8997, 9.4836sec\n",
            "バッチサイズ: 2\n",
            "epoch: 1, loss_train: 0.2219, accuracy_train: 0.9258, loss_valid: 0.3059, accuracy_valid: 0.8990, 4.8504sec\n",
            "バッチサイズ: 4\n",
            "epoch: 1, loss_train: 0.2208, accuracy_train: 0.9255, loss_valid: 0.3061, accuracy_valid: 0.9012, 2.4988sec\n",
            "バッチサイズ: 8\n",
            "epoch: 1, loss_train: 0.2197, accuracy_train: 0.9261, loss_valid: 0.3047, accuracy_valid: 0.8982, 1.3234sec\n",
            "バッチサイズ: 16\n",
            "epoch: 1, loss_train: 0.2196, accuracy_train: 0.9263, loss_valid: 0.3046, accuracy_valid: 0.8982, 0.7155sec\n",
            "バッチサイズ: 32\n",
            "epoch: 1, loss_train: 0.2196, accuracy_train: 0.9262, loss_valid: 0.3046, accuracy_valid: 0.8975, 0.4181sec\n",
            "バッチサイズ: 64\n",
            "epoch: 1, loss_train: 0.2195, accuracy_train: 0.9263, loss_valid: 0.3046, accuracy_valid: 0.8967, 0.2735sec\n",
            "バッチサイズ: 128\n",
            "epoch: 1, loss_train: 0.2196, accuracy_train: 0.9264, loss_valid: 0.3046, accuracy_valid: 0.8975, 0.1796sec\n",
            "バッチサイズ: 256\n",
            "epoch: 1, loss_train: 0.2200, accuracy_train: 0.9264, loss_valid: 0.3046, accuracy_valid: 0.8975, 0.1645sec\n",
            "バッチサイズ: 512\n",
            "epoch: 1, loss_train: 0.2196, accuracy_train: 0.9264, loss_valid: 0.3046, accuracy_valid: 0.8975, 0.1388sec\n",
            "バッチサイズ: 1024\n",
            "epoch: 1, loss_train: 0.2174, accuracy_train: 0.9264, loss_valid: 0.3046, accuracy_valid: 0.8975, 0.1301sec\n"
          ],
          "name": "stdout"
        }
      ]
    },
    {
      "cell_type": "markdown",
      "metadata": {
        "id": "NJVMw9CMsYBg"
      },
      "source": [
        "### 79. 多層ニューラルネットワーク\n",
        "問題78のコードを改変し，バイアス項の導入や多層化など，ニューラルネットワークの形状を変更しながら，高性能なカテゴリ分類器を構築せよ．\n",
        "* MLPNetを新たに定義し、入力層300 -> 中間層200 -> 出力層4の構成とし、中間層1層で、そのあとにbatch normalizationを行う\n",
        "* train_model_for_MLでは、学習の打ち切り基準を導入する:検証データの損失が3エポック連続で低下しなかった場合に、打ち切るルールとする"
      ]
    },
    {
      "cell_type": "code",
      "metadata": {
        "id": "gPOBcAwgs8TN"
      },
      "source": [
        "# MLPNetを新たに定義\n",
        "from torch import nn\n",
        "from torch.nn import functional as F\n",
        "\n",
        "class MLPNet(nn.Module):\n",
        "  def __init__(self, input_size, mid_size, output_size, mid_layers):\n",
        "    super().__init__()\n",
        "    self.mid_layers = mid_layers\n",
        "    self.fc = nn.Linear(input_size, mid_size)\n",
        "    self.fc_mid = nn.Linear(mid_size, mid_size)\n",
        "    self.fc_out = nn.Linear(mid_size, output_size) \n",
        "    self.bn = nn.BatchNorm1d(mid_size)\n",
        "\n",
        "  def forward(self, x):\n",
        "    x = F.relu(self.fc(x))\n",
        "    for _ in range(self.mid_layers):\n",
        "      x = F.relu(self.bn(self.fc_mid(x)))\n",
        "    x = F.relu(self.fc_out(x))\n",
        "\n",
        "    return x"
      ],
      "execution_count": 65,
      "outputs": []
    },
    {
      "cell_type": "code",
      "metadata": {
        "id": "OkkiF7MNu2Ir"
      },
      "source": [
        "def train_model_for_ML(dataset_train, dataset_valid, batch_size, model, criterion, optimizer, num_epochs, device=None):\n",
        "  # GPUに送る\n",
        "  model.to(device)\n",
        "\n",
        "  # dataloaderの作成\n",
        "  dataloader_train = DataLoader(dataset_train, batch_size=batch_size, shuffle=True)\n",
        "  dataloader_valid = DataLoader(dataset_valid, batch_size=len(dataset_valid), shuffle=False)\n",
        "\n",
        "  # スケジューラの設定：模块torch.optim.lr_scheduler提供了根据epoch数，调整lr的方法,即更新optimizer.param_groups[n]['lr']\n",
        "  # optimizer.param_groups:list,每个元素都是一个dict，每个元素包含的关键字有:'params','lr'等\n",
        "  #　一般地，设置随epoch增大减小lr。get_lr方法定义了更新策略\n",
        "  # CosineAnnealingLR更新策略：让lr随epoch变化类似于cos。\n",
        "  # eta_min(float):lr最小值；last_epoch(int):last epoch的index，default为-1表从头开始训练，即epoch=1\n",
        "  scheduler = torch.optim.lr_scheduler.CosineAnnealingLR(optimizer, num_epochs, eta_min=1e-3, last_epoch=-1)\n",
        "\n",
        "  # 学習\n",
        "  log_train = []\n",
        "  log_valid = []\n",
        "  for epoch in range(num_epochs):\n",
        "    # 開始時刻の記録\n",
        "    s_time = time.time()\n",
        "\n",
        "    # 訓練モードに設定\n",
        "    model.train()\n",
        "    for inputs, labels in dataloader_train:\n",
        "      # 勾配をゼロで初期化\n",
        "      optimizer.zero_grad()\n",
        "\n",
        "      # 順伝播 + 誤差逆伝播 + 重み更新\n",
        "      inputs = inputs.to(device)\n",
        "      labels = labels.to(device)\n",
        "      outputs = model.forward(inputs)\n",
        "      loss = criterion(outputs, labels)\n",
        "      loss.backward()\n",
        "      optimizer.step()\n",
        "\n",
        "    # 損失と正解率の算出\n",
        "    loss_train, acc_train = calculate_loss_and_accuracy_GPU(model, criterion, dataloader_train, device)\n",
        "    loss_valid, acc_valid = calculate_loss_and_accuracy_GPU(model, criterion, dataloader_valid, device)\n",
        "    log_train.append([loss_train, acc_train])\n",
        "    log_valid.append([loss_valid, acc_valid])\n",
        "\n",
        "    # チェックポイントの保存\n",
        "    torch.save({'epoch': epoch, 'model_state_dict': model.state_dict(), 'optimizer_state_dict': optimizer.state_dict()}, f'checkpoint_knock79.pkl')\n",
        "\n",
        "    # 終了時刻の記録\n",
        "    e_time = time.time()\n",
        "    timeused = e_time - s_time\n",
        "\n",
        "    # ログを出力\n",
        "    print(f'epoch: {epoch + 1}, loss_train: {loss_train:.4f}, accuracy_train: {acc_train:.4f}, loss_valid: {loss_valid:.4f}, accuracy_valid: {acc_valid:.4f}, timeused: {timeused:.4f}sec') \n",
        "\n",
        "    # 検証データの損失が3エポック連続で低下しなかった場合は学習終了\n",
        "    if epoch > 2 and log_valid[epoch - 3][0] <= log_valid[epoch - 2][0] <= log_valid[epoch - 1][0] <= log_valid[epoch][0]:\n",
        "      break\n",
        "\n",
        "    # epochごとに、optimizerを更新後、学習率を調整\n",
        "    scheduler.step()\n",
        "\n",
        "  return {'train': log_train, 'valid': log_valid}"
      ],
      "execution_count": 83,
      "outputs": []
    },
    {
      "cell_type": "code",
      "metadata": {
        "id": "fcvYDVclu9in"
      },
      "source": [
        "# multilayerモデルの定義\n",
        "MLmodel = MLPNet(300, 200, 4, 1)\n",
        "\n",
        "# 損失関数を定義\n",
        "criterion_ML = nn.CrossEntropyLoss()\n",
        "\n",
        "#　新たにoptimizerを定義,lr=1e-3の時最良かも\n",
        "optimizer_ML = torch.optim.SGD(MLmodel.parameters(), lr=1e-3)"
      ],
      "execution_count": 90,
      "outputs": []
    },
    {
      "cell_type": "code",
      "metadata": {
        "id": "8XLCsDnPvHc1",
        "colab": {
          "base_uri": "https://localhost:8080/"
        },
        "outputId": "50b982a8-be42-4500-98c6-684a9309677a"
      },
      "source": [
        "# デバイスの指定\n",
        "device = torch.device('cuda')\n",
        "\n",
        "# モデルの学習\n",
        "log = train_model_for_ML(dataset_train, dataset_valid, 64, MLmodel, criterion_ML, optimizer_ML, 1000, device)"
      ],
      "execution_count": 91,
      "outputs": [
        {
          "output_type": "stream",
          "text": [
            "epoch: 1, loss_train: 0.9226, accuracy_train: 0.7389, loss_valid: 0.9221, accuracy_valid: 0.7433, timeused: 0.4585sec\n",
            "epoch: 2, loss_train: 0.7370, accuracy_train: 0.7683, loss_valid: 0.7349, accuracy_valid: 0.7732, timeused: 0.4396sec\n",
            "epoch: 3, loss_train: 0.6546, accuracy_train: 0.7795, loss_valid: 0.6540, accuracy_valid: 0.7859, timeused: 0.4569sec\n",
            "epoch: 4, loss_train: 0.6106, accuracy_train: 0.7883, loss_valid: 0.6121, accuracy_valid: 0.7874, timeused: 0.4570sec\n",
            "epoch: 5, loss_train: 0.5788, accuracy_train: 0.7975, loss_valid: 0.5815, accuracy_valid: 0.8001, timeused: 0.4557sec\n",
            "epoch: 6, loss_train: 0.5508, accuracy_train: 0.8040, loss_valid: 0.5551, accuracy_valid: 0.8046, timeused: 0.4559sec\n",
            "epoch: 7, loss_train: 0.5239, accuracy_train: 0.8151, loss_valid: 0.5297, accuracy_valid: 0.8204, timeused: 0.4443sec\n",
            "epoch: 8, loss_train: 0.4965, accuracy_train: 0.8282, loss_valid: 0.5041, accuracy_valid: 0.8293, timeused: 0.4473sec\n",
            "epoch: 9, loss_train: 0.4728, accuracy_train: 0.8412, loss_valid: 0.4822, accuracy_valid: 0.8436, timeused: 0.4592sec\n",
            "epoch: 10, loss_train: 0.4526, accuracy_train: 0.8561, loss_valid: 0.4636, accuracy_valid: 0.8533, timeused: 0.4480sec\n",
            "epoch: 11, loss_train: 0.4325, accuracy_train: 0.8618, loss_valid: 0.4452, accuracy_valid: 0.8638, timeused: 0.4490sec\n",
            "epoch: 12, loss_train: 0.4178, accuracy_train: 0.8687, loss_valid: 0.4317, accuracy_valid: 0.8698, timeused: 0.4751sec\n",
            "epoch: 13, loss_train: 0.4019, accuracy_train: 0.8753, loss_valid: 0.4173, accuracy_valid: 0.8772, timeused: 0.4520sec\n",
            "epoch: 14, loss_train: 0.3896, accuracy_train: 0.8785, loss_valid: 0.4063, accuracy_valid: 0.8795, timeused: 0.4396sec\n",
            "epoch: 15, loss_train: 0.3773, accuracy_train: 0.8805, loss_valid: 0.3956, accuracy_valid: 0.8772, timeused: 0.4580sec\n",
            "epoch: 16, loss_train: 0.3661, accuracy_train: 0.8854, loss_valid: 0.3859, accuracy_valid: 0.8802, timeused: 0.4405sec\n",
            "epoch: 17, loss_train: 0.3564, accuracy_train: 0.8888, loss_valid: 0.3774, accuracy_valid: 0.8802, timeused: 0.4535sec\n",
            "epoch: 18, loss_train: 0.3479, accuracy_train: 0.8921, loss_valid: 0.3702, accuracy_valid: 0.8840, timeused: 0.4468sec\n",
            "epoch: 19, loss_train: 0.3400, accuracy_train: 0.8940, loss_valid: 0.3636, accuracy_valid: 0.8862, timeused: 0.4463sec\n",
            "epoch: 20, loss_train: 0.3330, accuracy_train: 0.8976, loss_valid: 0.3578, accuracy_valid: 0.8862, timeused: 0.4462sec\n",
            "epoch: 21, loss_train: 0.3253, accuracy_train: 0.8997, loss_valid: 0.3520, accuracy_valid: 0.8862, timeused: 0.4498sec\n",
            "epoch: 22, loss_train: 0.3185, accuracy_train: 0.9010, loss_valid: 0.3464, accuracy_valid: 0.8862, timeused: 0.4408sec\n",
            "epoch: 23, loss_train: 0.3136, accuracy_train: 0.9026, loss_valid: 0.3430, accuracy_valid: 0.8877, timeused: 0.4551sec\n",
            "epoch: 24, loss_train: 0.3072, accuracy_train: 0.9021, loss_valid: 0.3385, accuracy_valid: 0.8862, timeused: 0.4501sec\n",
            "epoch: 25, loss_train: 0.3033, accuracy_train: 0.9048, loss_valid: 0.3356, accuracy_valid: 0.8862, timeused: 0.4390sec\n",
            "epoch: 26, loss_train: 0.2968, accuracy_train: 0.9057, loss_valid: 0.3308, accuracy_valid: 0.8877, timeused: 0.4493sec\n",
            "epoch: 27, loss_train: 0.2934, accuracy_train: 0.9072, loss_valid: 0.3284, accuracy_valid: 0.8915, timeused: 0.4423sec\n",
            "epoch: 28, loss_train: 0.2894, accuracy_train: 0.9098, loss_valid: 0.3257, accuracy_valid: 0.8937, timeused: 0.4559sec\n",
            "epoch: 29, loss_train: 0.2864, accuracy_train: 0.9102, loss_valid: 0.3242, accuracy_valid: 0.8922, timeused: 0.4391sec\n",
            "epoch: 30, loss_train: 0.2823, accuracy_train: 0.9110, loss_valid: 0.3215, accuracy_valid: 0.8915, timeused: 0.4406sec\n",
            "epoch: 31, loss_train: 0.2781, accuracy_train: 0.9124, loss_valid: 0.3187, accuracy_valid: 0.8960, timeused: 0.4460sec\n",
            "epoch: 32, loss_train: 0.2745, accuracy_train: 0.9137, loss_valid: 0.3164, accuracy_valid: 0.8922, timeused: 0.4422sec\n",
            "epoch: 33, loss_train: 0.2728, accuracy_train: 0.9151, loss_valid: 0.3166, accuracy_valid: 0.8990, timeused: 0.4427sec\n",
            "epoch: 34, loss_train: 0.2679, accuracy_train: 0.9159, loss_valid: 0.3129, accuracy_valid: 0.8945, timeused: 0.4497sec\n",
            "epoch: 35, loss_train: 0.2672, accuracy_train: 0.9155, loss_valid: 0.3126, accuracy_valid: 0.8937, timeused: 0.4583sec\n",
            "epoch: 36, loss_train: 0.2637, accuracy_train: 0.9159, loss_valid: 0.3112, accuracy_valid: 0.8952, timeused: 0.4458sec\n",
            "epoch: 37, loss_train: 0.2604, accuracy_train: 0.9185, loss_valid: 0.3090, accuracy_valid: 0.9004, timeused: 0.4391sec\n",
            "epoch: 38, loss_train: 0.2580, accuracy_train: 0.9191, loss_valid: 0.3080, accuracy_valid: 0.8990, timeused: 0.4450sec\n",
            "epoch: 39, loss_train: 0.2550, accuracy_train: 0.9188, loss_valid: 0.3066, accuracy_valid: 0.8930, timeused: 0.4495sec\n",
            "epoch: 40, loss_train: 0.2521, accuracy_train: 0.9206, loss_valid: 0.3048, accuracy_valid: 0.8997, timeused: 0.4488sec\n",
            "epoch: 41, loss_train: 0.2499, accuracy_train: 0.9203, loss_valid: 0.3040, accuracy_valid: 0.8922, timeused: 0.4411sec\n",
            "epoch: 42, loss_train: 0.2477, accuracy_train: 0.9217, loss_valid: 0.3032, accuracy_valid: 0.8975, timeused: 0.4463sec\n",
            "epoch: 43, loss_train: 0.2454, accuracy_train: 0.9216, loss_valid: 0.3020, accuracy_valid: 0.8952, timeused: 0.4413sec\n",
            "epoch: 44, loss_train: 0.2431, accuracy_train: 0.9241, loss_valid: 0.3010, accuracy_valid: 0.9019, timeused: 0.4428sec\n",
            "epoch: 45, loss_train: 0.2412, accuracy_train: 0.9247, loss_valid: 0.3004, accuracy_valid: 0.8997, timeused: 0.4406sec\n",
            "epoch: 46, loss_train: 0.2387, accuracy_train: 0.9246, loss_valid: 0.3000, accuracy_valid: 0.9019, timeused: 0.4387sec\n",
            "epoch: 47, loss_train: 0.2352, accuracy_train: 0.9253, loss_valid: 0.2984, accuracy_valid: 0.8990, timeused: 0.4453sec\n",
            "epoch: 48, loss_train: 0.2346, accuracy_train: 0.9254, loss_valid: 0.2982, accuracy_valid: 0.8975, timeused: 0.4537sec\n",
            "epoch: 49, loss_train: 0.2329, accuracy_train: 0.9264, loss_valid: 0.2978, accuracy_valid: 0.9012, timeused: 0.4482sec\n",
            "epoch: 50, loss_train: 0.2306, accuracy_train: 0.9269, loss_valid: 0.2974, accuracy_valid: 0.9027, timeused: 0.4428sec\n",
            "epoch: 51, loss_train: 0.2287, accuracy_train: 0.9276, loss_valid: 0.2967, accuracy_valid: 0.9019, timeused: 0.4502sec\n",
            "epoch: 52, loss_train: 0.2268, accuracy_train: 0.9280, loss_valid: 0.2957, accuracy_valid: 0.9004, timeused: 0.4395sec\n",
            "epoch: 53, loss_train: 0.2256, accuracy_train: 0.9280, loss_valid: 0.2960, accuracy_valid: 0.8982, timeused: 0.4454sec\n",
            "epoch: 54, loss_train: 0.2232, accuracy_train: 0.9295, loss_valid: 0.2952, accuracy_valid: 0.9004, timeused: 0.4513sec\n",
            "epoch: 55, loss_train: 0.2233, accuracy_train: 0.9294, loss_valid: 0.2953, accuracy_valid: 0.8982, timeused: 0.4473sec\n",
            "epoch: 56, loss_train: 0.2210, accuracy_train: 0.9306, loss_valid: 0.2957, accuracy_valid: 0.9027, timeused: 0.4591sec\n",
            "epoch: 57, loss_train: 0.2200, accuracy_train: 0.9305, loss_valid: 0.2947, accuracy_valid: 0.9027, timeused: 0.4417sec\n",
            "epoch: 58, loss_train: 0.2176, accuracy_train: 0.9310, loss_valid: 0.2937, accuracy_valid: 0.9004, timeused: 0.4562sec\n",
            "epoch: 59, loss_train: 0.2170, accuracy_train: 0.9312, loss_valid: 0.2940, accuracy_valid: 0.8967, timeused: 0.4375sec\n",
            "epoch: 60, loss_train: 0.2154, accuracy_train: 0.9317, loss_valid: 0.2937, accuracy_valid: 0.8990, timeused: 0.4494sec\n",
            "epoch: 61, loss_train: 0.2124, accuracy_train: 0.9326, loss_valid: 0.2929, accuracy_valid: 0.9012, timeused: 0.4337sec\n",
            "epoch: 62, loss_train: 0.2119, accuracy_train: 0.9334, loss_valid: 0.2929, accuracy_valid: 0.8997, timeused: 0.4350sec\n",
            "epoch: 63, loss_train: 0.2098, accuracy_train: 0.9325, loss_valid: 0.2928, accuracy_valid: 0.8967, timeused: 0.4448sec\n",
            "epoch: 64, loss_train: 0.2084, accuracy_train: 0.9338, loss_valid: 0.2926, accuracy_valid: 0.8997, timeused: 0.4371sec\n",
            "epoch: 65, loss_train: 0.2072, accuracy_train: 0.9345, loss_valid: 0.2922, accuracy_valid: 0.9027, timeused: 0.4511sec\n",
            "epoch: 66, loss_train: 0.2057, accuracy_train: 0.9348, loss_valid: 0.2928, accuracy_valid: 0.9027, timeused: 0.4292sec\n",
            "epoch: 67, loss_train: 0.2041, accuracy_train: 0.9350, loss_valid: 0.2922, accuracy_valid: 0.9034, timeused: 0.4486sec\n",
            "epoch: 68, loss_train: 0.2024, accuracy_train: 0.9350, loss_valid: 0.2918, accuracy_valid: 0.9004, timeused: 0.4334sec\n",
            "epoch: 69, loss_train: 0.2009, accuracy_train: 0.9354, loss_valid: 0.2917, accuracy_valid: 0.8990, timeused: 0.4362sec\n",
            "epoch: 70, loss_train: 0.2009, accuracy_train: 0.9356, loss_valid: 0.2924, accuracy_valid: 0.8960, timeused: 0.4490sec\n",
            "epoch: 71, loss_train: 0.1993, accuracy_train: 0.9372, loss_valid: 0.2923, accuracy_valid: 0.9004, timeused: 0.4469sec\n",
            "epoch: 72, loss_train: 0.1975, accuracy_train: 0.9384, loss_valid: 0.2923, accuracy_valid: 0.9012, timeused: 0.4476sec\n",
            "epoch: 73, loss_train: 0.1962, accuracy_train: 0.9379, loss_valid: 0.2916, accuracy_valid: 0.9027, timeused: 0.4341sec\n",
            "epoch: 74, loss_train: 0.1947, accuracy_train: 0.9383, loss_valid: 0.2919, accuracy_valid: 0.9042, timeused: 0.4460sec\n",
            "epoch: 75, loss_train: 0.1936, accuracy_train: 0.9379, loss_valid: 0.2920, accuracy_valid: 0.9034, timeused: 0.4433sec\n",
            "epoch: 76, loss_train: 0.1930, accuracy_train: 0.9390, loss_valid: 0.2916, accuracy_valid: 0.9057, timeused: 0.4493sec\n",
            "epoch: 77, loss_train: 0.1910, accuracy_train: 0.9389, loss_valid: 0.2918, accuracy_valid: 0.9027, timeused: 0.4459sec\n",
            "epoch: 78, loss_train: 0.1904, accuracy_train: 0.9394, loss_valid: 0.2919, accuracy_valid: 0.9034, timeused: 0.4378sec\n",
            "epoch: 79, loss_train: 0.1904, accuracy_train: 0.9405, loss_valid: 0.2932, accuracy_valid: 0.9027, timeused: 0.4385sec\n"
          ],
          "name": "stdout"
        }
      ]
    },
    {
      "cell_type": "code",
      "metadata": {
        "colab": {
          "base_uri": "https://localhost:8080/",
          "height": 337
        },
        "id": "6xnQRjqUq2oF",
        "outputId": "19e9801d-4c45-4b6b-cee9-b6a8e472e05c"
      },
      "source": [
        "fig, ax = plt.subplots(1, 2, figsize=(15,5))\n",
        "ax[0].plot(np.array(log['train']).T[0], label='train')\n",
        "ax[0].plot(np.array(log['valid']).T[0], label='valid')\n",
        "ax[0].set_xlabel('epoch')\n",
        "ax[0].set_ylabel('loss')\n",
        "ax[0].legend()\n",
        "ax[1].plot(np.array(log['train']).T[1], label='trian')\n",
        "ax[1].plot(np.array(log['valid']).T[1], label='valid')\n",
        "ax[1].set_xlabel('epoch')\n",
        "ax[1].set_ylabel('accuracy')\n",
        "ax[1].legend()\n",
        "plt.show()"
      ],
      "execution_count": 92,
      "outputs": [
        {
          "output_type": "display_data",
          "data": {
            "image/png": "[encoded data removed]",
            "text/plain": [
              "<Figure size 1080x360 with 2 Axes>"
            ]
          },
          "metadata": {
            "tags": [],
            "needs_background": "light"
          }
        }
      ]
    },
    {
      "cell_type": "code",
      "metadata": {
        "id": "WJwRW9rmwmYj"
      },
      "source": [
        "# 評価データの正解率を確認する関数を定義\n",
        "def calculate_accuracy(model, loader, device):\n",
        "  model.eval()\n",
        "  total = 0\n",
        "  correct = 0\n",
        "  with torch.no_grad():\n",
        "    for inputs, labels in loader:\n",
        "      inputs = inputs.to(device)\n",
        "      labels = labels.to(device)\n",
        "      outputs = model(inputs)\n",
        "      pred = torch.argmax(outputs, dim=-1)\n",
        "      total += len(inputs)\n",
        "      correct +=(pred == labels).sum().item()\n",
        "  return correct / total"
      ],
      "execution_count": 93,
      "outputs": []
    },
    {
      "cell_type": "code",
      "metadata": {
        "colab": {
          "base_uri": "https://localhost:8080/"
        },
        "id": "FzF2SJO-xt2m",
        "outputId": "b6ac46ff-93c1-4418-f678-734f2d91fcb6"
      },
      "source": [
        "#　正解率を確認\n",
        "acc_trian = calculate_accuracy(MLmodel, dataloader_train, device)\n",
        "acc_test = calculate_accuracy(MLmodel, dataloader_test, device)\n",
        "print(f'【学習データの正解率】:{acc_train:.4f}')\n",
        "print(f'【評価データの正解率】:{acc_test:.4f}')"
      ],
      "execution_count": 94,
      "outputs": [
        {
          "output_type": "stream",
          "text": [
            "【学習データの正解率】:0.9313\n",
            "【評価データの正解率】:0.9072\n"
          ],
          "name": "stdout"
        }
      ]
    }
  ]
}