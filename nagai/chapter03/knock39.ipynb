{
 "cells": [
  {
   "cell_type": "code",
   "execution_count": 1,
   "id": "789ac63f-1720-4140-afdc-157b119d5f65",
   "metadata": {},
   "outputs": [
    {
     "data": {
      "image/png": "[encoded data removed]",
      "text/plain": [
       "<Figure size 432x288 with 1 Axes>"
      ]
     },
     "metadata": {
      "needs_background": "light"
     },
     "output_type": "display_data"
    }
   ],
   "source": [
    "from  collections import Counter\n",
    "import MeCab\n",
    "import matplotlib.pyplot as plt \n",
    "\n",
    "with open(\"neko.txt\",\"r\",encoding=\"utf-8\") as mecab_file:\n",
    "    a=mecab_file.read()\n",
    "    mecab=MeCab.Tagger()\n",
    "with open(\"neko2.txt.mecab\",\"w\",encoding=\"utf-8\") as mecab_file2:\n",
    "    mecab_file2.write(mecab.parse(a))\n",
    "\n",
    "with open(\"neko2.txt.mecab\",\"r\",encoding=\"utf-8\") as me_file:\n",
    "    keitaiso=[]\n",
    "    kekka=[]\n",
    "    freqs=[]\n",
    "    rank=[]\n",
    "    sent=[]\n",
    "    for line in me_file:\n",
    "        line=line.strip(\"\\n\")\n",
    "        line=line.replace(\",\",\"\\t\")\n",
    "        items=line.split(\"\\t\")\n",
    "        \n",
    "        if items[0]==\"EOS\":\n",
    "            break;\n",
    "            \n",
    "        keys={\n",
    "            \"surface\":str(items[0]),\n",
    "            \"base\":str(items[len(items)-3]),\n",
    "            \"pos\":str(items[1]),\n",
    "            \"pos1\":str(items[2]),\n",
    "        }\n",
    "        sent.append(keys)\n",
    "        kekka.append(items[len(items)-3])\n",
    "        if items[0]==\"。\":\n",
    "            keitaiso.append(sent)\n",
    "            sent=[]    \n",
    "    freq=Counter(kekka)\n",
    "    hindo=sorted(freq.items(),key=lambda x:x[1],reverse=True)\n",
    "    for i in range(0,len(hindo)):\n",
    "        freqs.append(int(hindo[i][1]))\n",
    "        rank.append(i+1)\n",
    "    plt.xscale(\"log\")\n",
    "    plt.yscale(\"log\")\n",
    "    plt.scatter(rank,freqs)"
   ]
  },
  {
   "cell_type": "code",
   "execution_count": null,
   "id": "fb56093b-4f5b-4cbd-b34c-b1b86f67a1cd",
   "metadata": {},
   "outputs": [],
   "source": []
  }
 ],
 "metadata": {
  "kernelspec": {
   "display_name": "Python 3",
   "language": "python",
   "name": "python3"
  },
  "language_info": {
   "codemirror_mode": {
    "name": "ipython",
    "version": 3
   },
   "file_extension": ".py",
   "mimetype": "text/x-python",
   "name": "python",
   "nbconvert_exporter": "python",
   "pygments_lexer": "ipython3",
   "version": "3.9.4"
  }
 },
 "nbformat": 4,
 "nbformat_minor": 5
}
