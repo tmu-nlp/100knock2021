{
 "cells": [
  {
   "cell_type": "code",
   "execution_count": 21,
   "id": "cb0ce6b0-fa09-4e37-84f4-7996f37df426",
   "metadata": {},
   "outputs": [
    {
     "name": "stdout",
     "output_type": "stream",
     "text": [
      "0.6849564489532377\n"
     ]
    }
   ],
   "source": [
    "import gensim\n",
    "from gensim.models import KeyedVectors\n",
    "model=gensim.models.KeyedVectors.load_word2vec_format(\"GoogleNews-vectors-negative300.bin.gz\",binary=True)\n",
    "\n",
    "from scipy.stats import spearmanr\n",
    "with open(\"wordsim353/combined.csv\",\"r\") as ws:\n",
    "    human=[]\n",
    "    cos=[]\n",
    "    for line in ws:\n",
    "        if line==\"Word 1,Word 2,Human (mean)\\n\":continue\n",
    "        line=line.strip()\n",
    "        line=line.replace(\"\\'\",\"\")\n",
    "        words=line.split(\",\")\n",
    "        if len(words)==3:\n",
    "            human.append(words[2])\n",
    "            cos.append(model.similarity(words[0],words[1]))\n",
    "    correlation,pvalue = spearmanr(human,cos)\n",
    "    print(correlation)"
   ]
  },
  {
   "cell_type": "code",
   "execution_count": null,
   "id": "687822c7-3504-46a3-a1f6-97b29f76929d",
   "metadata": {},
   "outputs": [],
   "source": []
  }
 ],
 "metadata": {
  "kernelspec": {
   "display_name": "Python 3",
   "language": "python",
   "name": "python3"
  },
  "language_info": {
   "codemirror_mode": {
    "name": "ipython",
    "version": 3
   },
   "file_extension": ".py",
   "mimetype": "text/x-python",
   "name": "python",
   "nbconvert_exporter": "python",
   "pygments_lexer": "ipython3",
   "version": "3.9.4"
  }
 },
 "nbformat": 4,
 "nbformat_minor": 5
}
