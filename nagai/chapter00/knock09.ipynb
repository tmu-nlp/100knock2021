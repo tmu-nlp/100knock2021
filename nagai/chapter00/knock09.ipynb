{
 "cells": [
  {
   "cell_type": "code",
   "execution_count": 21,
   "id": "89ed26ef-c7f3-4cef-845c-45881052aaa2",
   "metadata": {},
   "outputs": [
    {
     "name": "stdout",
     "output_type": "stream",
     "text": [
      "I cl’dnuot beleive that I cuold alctluay usnnrdtaed what I was reniadg  the paoemnenhl pwoer of the hmaun mind\n"
     ]
    }
   ],
   "source": [
    "import random\n",
    "sen=\"I couldn’t believe that I could actually understand what I was reading : the phenomenal power of the human mind.\"\n",
    "sen=sen.replace(\":\",\"\").replace(\".\",\"\")\n",
    "words=sen.split(\" \")\n",
    "kekka=[]\n",
    "for i in range(len(words)):\n",
    "    if len(words[i])<=4:\n",
    "        kekka.append(words[i])\n",
    "    else:\n",
    "        rand_list=[words[i][ch] for ch in range(1,len(words[i])-1)]\n",
    "        random.shuffle(rand_list)\n",
    "        kekka.append(words[i][0]+\"\".join(rand_list)+words[i][len(words[i])-1])\n",
    "print(\" \".join(kekka))"
   ]
  },
  {
   "cell_type": "code",
   "execution_count": null,
   "id": "7e0e5d31-f1dd-4be7-b028-f9e99bc565b5",
   "metadata": {},
   "outputs": [],
   "source": []
  },
  {
   "cell_type": "code",
   "execution_count": null,
   "id": "26d63a74-af97-4acb-b67a-118258b0daaf",
   "metadata": {},
   "outputs": [],
   "source": []
  }
 ],
 "metadata": {
  "kernelspec": {
   "display_name": "Python 3",
   "language": "python",
   "name": "python3"
  },
  "language_info": {
   "codemirror_mode": {
    "name": "ipython",
    "version": 3
   },
   "file_extension": ".py",
   "mimetype": "text/x-python",
   "name": "python",
   "nbconvert_exporter": "python",
   "pygments_lexer": "ipython3",
   "version": "3.9.4"
  }
 },
 "nbformat": 4,
 "nbformat_minor": 5
}
