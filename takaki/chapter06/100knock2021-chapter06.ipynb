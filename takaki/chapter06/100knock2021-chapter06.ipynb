{
  "nbformat": 4,
  "nbformat_minor": 0,
  "metadata": {
    "colab": {
      "name": "100knock2021/chapter06.ipynb",
      "provenance": [],
      "authorship_tag": "ABX9TyOFKeKkROulAEdFMBO0jeD9",
      "include_colab_link": true
    },
    "kernelspec": {
      "name": "python3",
      "display_name": "Python 3"
    },
    "language_info": {
      "name": "python"
    }
  },
  "cells": [
    {
      "cell_type": "markdown",
      "metadata": {
        "id": "view-in-github",
        "colab_type": "text"
      },
      "source": [
        "<a href=\"https://colab.research.google.com/gist/u7693/70ea40b0fed2b85e116ed301fb30c65e/100knock2021-chapter06.ipynb\" target=\"_parent\"><img src=\"https://colab.research.google.com/assets/colab-badge.svg\" alt=\"Open In Colab\"/></a>"
      ]
    },
    {
      "cell_type": "code",
      "metadata": {
        "colab": {
          "base_uri": "https://localhost:8080/"
        },
        "id": "ydGUPDu8dfK8",
        "outputId": "2eb85782-44e4-4d97-cbb8-bda739140e36"
      },
      "source": [
        "!wget https://archive.ics.uci.edu/ml/machine-learning-databases/00359/NewsAggregatorDataset.zip\n",
        "!unzip NewsAggregatorDataset.zip"
      ],
      "execution_count": 1,
      "outputs": [
        {
          "output_type": "stream",
          "text": [
            "--2021-06-28 23:42:45--  https://archive.ics.uci.edu/ml/machine-learning-databases/00359/NewsAggregatorDataset.zip\n",
            "Resolving archive.ics.uci.edu (archive.ics.uci.edu)... 128.195.10.252\n",
            "Connecting to archive.ics.uci.edu (archive.ics.uci.edu)|128.195.10.252|:443... connected.\n",
            "HTTP request sent, awaiting response... 200 OK\n",
            "Length: 29224203 (28M) [application/x-httpd-php]\n",
            "Saving to: ‘NewsAggregatorDataset.zip.4’\n",
            "\n",
            "NewsAggregatorDatas 100%[===================>]  27.87M  10.6MB/s    in 2.6s    \n",
            "\n",
            "2021-06-28 23:42:48 (10.6 MB/s) - ‘NewsAggregatorDataset.zip.4’ saved [29224203/29224203]\n",
            "\n",
            "Archive:  NewsAggregatorDataset.zip\n",
            "replace 2pageSessions.csv? [y]es, [n]o, [A]ll, [N]one, [r]ename: A\n",
            "  inflating: 2pageSessions.csv       \n",
            "  inflating: __MACOSX/._2pageSessions.csv  \n",
            "  inflating: newsCorpora.csv         A\n",
            "\n",
            "  inflating: __MACOSX/._newsCorpora.csv  \n",
            "  inflating: readme.txt              \n",
            "  inflating: __MACOSX/._readme.txt   \n"
          ],
          "name": "stdout"
        }
      ]
    },
    {
      "cell_type": "markdown",
      "metadata": {
        "id": "OajpTyLJd29L"
      },
      "source": [
        "## knock50"
      ]
    },
    {
      "cell_type": "code",
      "metadata": {
        "id": "iz5MNiibdots"
      },
      "source": [
        "import pandas as pd\n",
        "from sklearn.model_selection import train_test_split\n",
        "\n",
        "df = pd.read_csv('./newsCorpora.csv', header=None, sep='\\t', names=['ID', 'TITLE', 'URL', 'PUBLISHER', 'CATEGORY', 'STORY', 'HOSTNAME', 'TIMESTAMP'])\n",
        "df = df.loc[df['PUBLISHER'].isin(['Reuters', 'Huffington Post', 'Businessweek', 'Contactmusic.com', 'Daily Mail']), ['TITLE', 'CATEGORY']]\n",
        "\n",
        "train, valid_test = train_test_split(df, test_size=0.2, shuffle=True, random_state=0, stratify=df['CATEGORY'])\n",
        "valid, test = train_test_split(valid_test, test_size=0.5, shuffle=True, random_state=0, stratify=valid_test['CATEGORY'])\n",
        "\n",
        "train.to_csv('./train.txt', sep='\\t', index=False)\n",
        "valid.to_csv('./valid.txt', sep='\\t', index=False)\n",
        "test.to_csv('./test.txt', sep='\\t', index=False)"
      ],
      "execution_count": 2,
      "outputs": []
    },
    {
      "cell_type": "markdown",
      "metadata": {
        "id": "Nv83cYbQd8mV"
      },
      "source": [
        "## knock51"
      ]
    },
    {
      "cell_type": "code",
      "metadata": {
        "id": "Z39sqG5Zd69V"
      },
      "source": [
        "from sklearn.feature_extraction.text import TfidfVectorizer\n",
        "\n",
        "train_valid = df[:len(train) + len(valid)]\n",
        "test = df[len(train) + len(valid):]\n",
        "\n",
        "vec_tfidf = TfidfVectorizer(min_df=10, ngram_range=(1, 2))\n",
        "\n",
        "x_train_valid = vec_tfidf.fit_transform(train_valid['TITLE'])\n",
        "x_test = vec_tfidf.transform(test['TITLE'])\n",
        "\n",
        "x_train_valid = pd.DataFrame(x_train_valid.toarray(), columns=vec_tfidf.get_feature_names())\n",
        "x_test = pd.DataFrame(x_test.toarray(), columns=vec_tfidf.get_feature_names())\n",
        "\n",
        "x_train = x_train_valid[:len(train)]\n",
        "x_valid = x_train_valid[len(train):]\n",
        "\n",
        "x_train.to_csv('./x_train.txt', sep='\\t', index=False)\n",
        "x_valid.to_csv('./x_valid.txt', sep='\\t', index=False)\n",
        "x_test.to_csv('./x_test.txt', sep='\\t', index=False)"
      ],
      "execution_count": 3,
      "outputs": []
    },
    {
      "cell_type": "markdown",
      "metadata": {
        "id": "MbIFPixlfT2X"
      },
      "source": [
        "## knock52"
      ]
    },
    {
      "cell_type": "code",
      "metadata": {
        "colab": {
          "base_uri": "https://localhost:8080/"
        },
        "id": "5e62V_AzfVsU",
        "outputId": "c8b66aba-f38e-4d70-c836-6c884d1525dc"
      },
      "source": [
        "from sklearn.linear_model import LogisticRegression\n",
        "\n",
        "lr = LogisticRegression(random_state=0, max_iter=10000)\n",
        "lr.fit(x_train, train['CATEGORY'])"
      ],
      "execution_count": 4,
      "outputs": [
        {
          "output_type": "execute_result",
          "data": {
            "text/plain": [
              "LogisticRegression(C=1.0, class_weight=None, dual=False, fit_intercept=True,\n",
              "                   intercept_scaling=1, l1_ratio=None, max_iter=10000,\n",
              "                   multi_class='auto', n_jobs=None, penalty='l2',\n",
              "                   random_state=0, solver='lbfgs', tol=0.0001, verbose=0,\n",
              "                   warm_start=False)"
            ]
          },
          "metadata": {
            "tags": []
          },
          "execution_count": 4
        }
      ]
    },
    {
      "cell_type": "markdown",
      "metadata": {
        "id": "bI2cRZrUfYrV"
      },
      "source": [
        "## knock53"
      ]
    },
    {
      "cell_type": "code",
      "metadata": {
        "id": "n4VW_SN_faHS"
      },
      "source": [
        "import numpy as np\n",
        "\n",
        "def eval_lr(x):\n",
        "    return [np.max(lr.predict_proba(x), axis=1), lr.predict(x)]\n",
        "\n",
        "train_pred = eval_lr(x_train)\n",
        "test_pred = eval_lr(x_test)"
      ],
      "execution_count": 5,
      "outputs": []
    },
    {
      "cell_type": "markdown",
      "metadata": {
        "id": "g9nkRGy_gkez"
      },
      "source": [
        "## knock54"
      ]
    },
    {
      "cell_type": "code",
      "metadata": {
        "colab": {
          "base_uri": "https://localhost:8080/"
        },
        "id": "2J_oZzfagmKq",
        "outputId": "d59d2fe7-1283-4a09-f995-6957efc326d6"
      },
      "source": [
        "from sklearn.metrics import accuracy_score\n",
        "\n",
        "train_accuracy = accuracy_score(train['CATEGORY'], train_pred[1])\n",
        "test_accuracy = accuracy_score(test['CATEGORY'], test_pred[1])\n",
        "print(f'学習データ: {train_accuracy}')\n",
        "print(f'評価データ: {test_accuracy}')"
      ],
      "execution_count": 6,
      "outputs": [
        {
          "output_type": "stream",
          "text": [
            "学習データ: 0.5854572713643178\n",
            "評価データ: 0.4070464767616192\n"
          ],
          "name": "stdout"
        }
      ]
    },
    {
      "cell_type": "markdown",
      "metadata": {
        "id": "AZr3odjpgzBj"
      },
      "source": [
        "## knock55"
      ]
    },
    {
      "cell_type": "code",
      "metadata": {
        "id": "dRnO73aug0R8",
        "colab": {
          "base_uri": "https://localhost:8080/",
          "height": 265
        },
        "outputId": "68f22150-bade-445c-cdad-61c0a982dfe7"
      },
      "source": [
        "from sklearn.metrics import confusion_matrix\n",
        "import seaborn as sns\n",
        "import matplotlib.pyplot as plt\n",
        "\n",
        "sns.heatmap(\n",
        "    confusion_matrix(train['CATEGORY'], train_pred[1]),\n",
        "    annot=True,\n",
        "    cmap='Blues'\n",
        ")\n",
        "plt.show()"
      ],
      "execution_count": 7,
      "outputs": [
        {
          "output_type": "display_data",
          "data": {
            "image/png": "[encoded data removed]",
            "text/plain": [
              "<Figure size 432x288 with 2 Axes>"
            ]
          },
          "metadata": {
            "tags": [],
            "needs_background": "light"
          }
        }
      ]
    },
    {
      "cell_type": "markdown",
      "metadata": {
        "id": "TSY-EWHRijFB"
      },
      "source": [
        "## knock56"
      ]
    },
    {
      "cell_type": "code",
      "metadata": {
        "colab": {
          "base_uri": "https://localhost:8080/"
        },
        "id": "OV5apES8ik6z",
        "outputId": "d894c7c5-0e38-4932-f822-e3f8479d32b8"
      },
      "source": [
        "from sklearn.metrics import precision_score, recall_score, f1_score\n",
        "\n",
        "y_true = test['CATEGORY']\n",
        "y_pred = test_pred[1]\n",
        "\n",
        "# 適合率\n",
        "precision = precision_score(test['CATEGORY'], test_pred[1], average=None, labels=['b', 'e', 't', 'm']) \n",
        "precision = np.append(precision, precision_score(y_true, y_pred, average='micro')) \n",
        "precision = np.append(precision, precision_score(y_true, y_pred, average='macro')) \n",
        "\n",
        "# 再現率\n",
        "recall = recall_score(test['CATEGORY'], test_pred[1], average=None, labels=['b', 'e', 't', 'm'])\n",
        "recall = np.append(recall, recall_score(y_true, y_pred, average='micro'))\n",
        "recall = np.append(recall, recall_score(y_true, y_pred, average='macro'))\n",
        "\n",
        "# F1スコア\n",
        "f1 = f1_score(test['CATEGORY'], test_pred[1], average=None, labels=['b', 'e', 't', 'm'])\n",
        "f1 = np.append(f1, f1_score(y_true, y_pred, average='micro'))\n",
        "f1 = np.append(f1, f1_score(y_true, y_pred, average='macro'))\n",
        "\n",
        "scores = pd.DataFrame(\n",
        "    {'適合率': precision, '再現率': recall, 'F1スコア': f1},\n",
        "    index=['b', 'e', 't', 'm', 'マイクロ平均', 'マクロ平均']\n",
        ")\n",
        "print(scores)"
      ],
      "execution_count": 8,
      "outputs": [
        {
          "output_type": "stream",
          "text": [
            "             適合率       再現率     F1スコア\n",
            "b       0.456067  0.544093  0.496206\n",
            "e       0.351792  0.492027  0.410256\n",
            "t       0.000000  0.000000  0.000000\n",
            "m       0.000000  0.000000  0.000000\n",
            "マイクロ平均  0.407046  0.407046  0.407046\n",
            "マクロ平均   0.201965  0.259030  0.226616\n"
          ],
          "name": "stdout"
        },
        {
          "output_type": "stream",
          "text": [
            "/usr/local/lib/python3.7/dist-packages/sklearn/metrics/_classification.py:1272: UndefinedMetricWarning: Precision is ill-defined and being set to 0.0 in labels with no predicted samples. Use `zero_division` parameter to control this behavior.\n",
            "  _warn_prf(average, modifier, msg_start, len(result))\n"
          ],
          "name": "stderr"
        }
      ]
    },
    {
      "cell_type": "markdown",
      "metadata": {
        "id": "4a23i41puVTK"
      },
      "source": [
        "## knock57"
      ]
    },
    {
      "cell_type": "code",
      "metadata": {
        "colab": {
          "base_uri": "https://localhost:8080/",
          "height": 461
        },
        "id": "6A3uRpLIuXWh",
        "outputId": "80e0c044-d7c5-4ca9-b1a1-ba996f708bb4"
      },
      "source": [
        "features = x_train.columns.values\n",
        "index = [i for i in range(1, 11)]\n",
        "\n",
        "for c, coef in zip(lr.classes_, lr.coef_):\n",
        "    print(f'Category: {c}')\n",
        "    best10 = pd.DataFrame(features[np.argsort(coef)[::-1][:10]], columns=['高'], index=index).T\n",
        "    worst10 = pd.DataFrame(features[np.argsort(coef)[:10]], columns=['低'], index=index).T\n",
        "    display(pd.concat([best10, worst10], axis=0))"
      ],
      "execution_count": 9,
      "outputs": [
        {
          "output_type": "stream",
          "text": [
            "Category: b\n"
          ],
          "name": "stdout"
        },
        {
          "output_type": "display_data",
          "data": {
            "text/html": [
              "<div>\n",
              "<style scoped>\n",
              "    .dataframe tbody tr th:only-of-type {\n",
              "        vertical-align: middle;\n",
              "    }\n",
              "\n",
              "    .dataframe tbody tr th {\n",
              "        vertical-align: top;\n",
              "    }\n",
              "\n",
              "    .dataframe thead th {\n",
              "        text-align: right;\n",
              "    }\n",
              "</style>\n",
              "<table border=\"1\" class=\"dataframe\">\n",
              "  <thead>\n",
              "    <tr style=\"text-align: right;\">\n",
              "      <th></th>\n",
              "      <th>1</th>\n",
              "      <th>2</th>\n",
              "      <th>3</th>\n",
              "      <th>4</th>\n",
              "      <th>5</th>\n",
              "      <th>6</th>\n",
              "      <th>7</th>\n",
              "      <th>8</th>\n",
              "      <th>9</th>\n",
              "      <th>10</th>\n",
              "    </tr>\n",
              "  </thead>\n",
              "  <tbody>\n",
              "    <tr>\n",
              "      <th>高</th>\n",
              "      <td>minister</td>\n",
              "      <td>selling</td>\n",
              "      <td>dips</td>\n",
              "      <td>single</td>\n",
              "      <td>report</td>\n",
              "      <td>death of</td>\n",
              "      <td>may</td>\n",
              "      <td>ads</td>\n",
              "      <td>cable</td>\n",
              "      <td>series</td>\n",
              "    </tr>\n",
              "    <tr>\n",
              "      <th>低</th>\n",
              "      <td>hbo</td>\n",
              "      <td>january</td>\n",
              "      <td>yahoo</td>\n",
              "      <td>out of</td>\n",
              "      <td>own</td>\n",
              "      <td>asian</td>\n",
              "      <td>update china</td>\n",
              "      <td>beyond</td>\n",
              "      <td>year high</td>\n",
              "      <td>asian stocks</td>\n",
              "    </tr>\n",
              "  </tbody>\n",
              "</table>\n",
              "</div>"
            ],
            "text/plain": [
              "         1        2      3   ...      8          9             10\n",
              "高  minister  selling   dips  ...     ads      cable        series\n",
              "低       hbo  january  yahoo  ...  beyond  year high  asian stocks\n",
              "\n",
              "[2 rows x 10 columns]"
            ]
          },
          "metadata": {
            "tags": []
          }
        },
        {
          "output_type": "stream",
          "text": [
            "Category: e\n"
          ],
          "name": "stdout"
        },
        {
          "output_type": "display_data",
          "data": {
            "text/html": [
              "<div>\n",
              "<style scoped>\n",
              "    .dataframe tbody tr th:only-of-type {\n",
              "        vertical-align: middle;\n",
              "    }\n",
              "\n",
              "    .dataframe tbody tr th {\n",
              "        vertical-align: top;\n",
              "    }\n",
              "\n",
              "    .dataframe thead th {\n",
              "        text-align: right;\n",
              "    }\n",
              "</style>\n",
              "<table border=\"1\" class=\"dataframe\">\n",
              "  <thead>\n",
              "    <tr style=\"text-align: right;\">\n",
              "      <th></th>\n",
              "      <th>1</th>\n",
              "      <th>2</th>\n",
              "      <th>3</th>\n",
              "      <th>4</th>\n",
              "      <th>5</th>\n",
              "      <th>6</th>\n",
              "      <th>7</th>\n",
              "      <th>8</th>\n",
              "      <th>9</th>\n",
              "      <th>10</th>\n",
              "    </tr>\n",
              "  </thead>\n",
              "  <tbody>\n",
              "    <tr>\n",
              "      <th>高</th>\n",
              "      <td>yuan</td>\n",
              "      <td>boe</td>\n",
              "      <td>time for</td>\n",
              "      <td>cast</td>\n",
              "      <td>arrest</td>\n",
              "      <td>fourth</td>\n",
              "      <td>stay</td>\n",
              "      <td>currency</td>\n",
              "      <td>racist</td>\n",
              "      <td>house</td>\n",
              "    </tr>\n",
              "    <tr>\n",
              "      <th>低</th>\n",
              "      <td>debate</td>\n",
              "      <td>billionaire</td>\n",
              "      <td>pill</td>\n",
              "      <td>on ukraine</td>\n",
              "      <td>cobain</td>\n",
              "      <td>warn</td>\n",
              "      <td>claim</td>\n",
              "      <td>leads</td>\n",
              "      <td>shares fall</td>\n",
              "      <td>today</td>\n",
              "    </tr>\n",
              "  </tbody>\n",
              "</table>\n",
              "</div>"
            ],
            "text/plain": [
              "       1            2         3   ...        8            9      10\n",
              "高    yuan          boe  time for  ...  currency       racist  house\n",
              "低  debate  billionaire      pill  ...     leads  shares fall  today\n",
              "\n",
              "[2 rows x 10 columns]"
            ]
          },
          "metadata": {
            "tags": []
          }
        },
        {
          "output_type": "stream",
          "text": [
            "Category: m\n"
          ],
          "name": "stdout"
        },
        {
          "output_type": "display_data",
          "data": {
            "text/html": [
              "<div>\n",
              "<style scoped>\n",
              "    .dataframe tbody tr th:only-of-type {\n",
              "        vertical-align: middle;\n",
              "    }\n",
              "\n",
              "    .dataframe tbody tr th {\n",
              "        vertical-align: top;\n",
              "    }\n",
              "\n",
              "    .dataframe thead th {\n",
              "        text-align: right;\n",
              "    }\n",
              "</style>\n",
              "<table border=\"1\" class=\"dataframe\">\n",
              "  <thead>\n",
              "    <tr style=\"text-align: right;\">\n",
              "      <th></th>\n",
              "      <th>1</th>\n",
              "      <th>2</th>\n",
              "      <th>3</th>\n",
              "      <th>4</th>\n",
              "      <th>5</th>\n",
              "      <th>6</th>\n",
              "      <th>7</th>\n",
              "      <th>8</th>\n",
              "      <th>9</th>\n",
              "      <th>10</th>\n",
              "    </tr>\n",
              "  </thead>\n",
              "  <tbody>\n",
              "    <tr>\n",
              "      <th>高</th>\n",
              "      <td>size</td>\n",
              "      <td>good</td>\n",
              "      <td>slump</td>\n",
              "      <td>death</td>\n",
              "      <td>phone</td>\n",
              "      <td>sector</td>\n",
              "      <td>model</td>\n",
              "      <td>cap</td>\n",
              "      <td>name</td>\n",
              "      <td>the most</td>\n",
              "    </tr>\n",
              "    <tr>\n",
              "      <th>低</th>\n",
              "      <td>home</td>\n",
              "      <td>now</td>\n",
              "      <td>she</td>\n",
              "      <td>air</td>\n",
              "      <td>us</td>\n",
              "      <td>he</td>\n",
              "      <td>year</td>\n",
              "      <td>voice</td>\n",
              "      <td>barclays</td>\n",
              "      <td>may</td>\n",
              "    </tr>\n",
              "  </tbody>\n",
              "</table>\n",
              "</div>"
            ],
            "text/plain": [
              "     1     2      3      4      5       6      7      8         9         10\n",
              "高  size  good  slump  death  phone  sector  model    cap      name  the most\n",
              "低  home   now    she    air     us      he   year  voice  barclays       may"
            ]
          },
          "metadata": {
            "tags": []
          }
        },
        {
          "output_type": "stream",
          "text": [
            "Category: t\n"
          ],
          "name": "stdout"
        },
        {
          "output_type": "display_data",
          "data": {
            "text/html": [
              "<div>\n",
              "<style scoped>\n",
              "    .dataframe tbody tr th:only-of-type {\n",
              "        vertical-align: middle;\n",
              "    }\n",
              "\n",
              "    .dataframe tbody tr th {\n",
              "        vertical-align: top;\n",
              "    }\n",
              "\n",
              "    .dataframe thead th {\n",
              "        text-align: right;\n",
              "    }\n",
              "</style>\n",
              "<table border=\"1\" class=\"dataframe\">\n",
              "  <thead>\n",
              "    <tr style=\"text-align: right;\">\n",
              "      <th></th>\n",
              "      <th>1</th>\n",
              "      <th>2</th>\n",
              "      <th>3</th>\n",
              "      <th>4</th>\n",
              "      <th>5</th>\n",
              "      <th>6</th>\n",
              "      <th>7</th>\n",
              "      <th>8</th>\n",
              "      <th>9</th>\n",
              "      <th>10</th>\n",
              "    </tr>\n",
              "  </thead>\n",
              "  <tbody>\n",
              "    <tr>\n",
              "      <th>高</th>\n",
              "      <td>girlfriend</td>\n",
              "      <td>set to</td>\n",
              "      <td>celebrity</td>\n",
              "      <td>prompt</td>\n",
              "      <td>release</td>\n",
              "      <td>ny</td>\n",
              "      <td>people</td>\n",
              "      <td>effects</td>\n",
              "      <td>gay</td>\n",
              "      <td>finally</td>\n",
              "    </tr>\n",
              "    <tr>\n",
              "      <th>低</th>\n",
              "      <td>out</td>\n",
              "      <td>mother</td>\n",
              "      <td>tour</td>\n",
              "      <td>costs</td>\n",
              "      <td>boe</td>\n",
              "      <td>forex</td>\n",
              "      <td>key</td>\n",
              "      <td>day</td>\n",
              "      <td>in the</td>\n",
              "      <td>cars</td>\n",
              "    </tr>\n",
              "  </tbody>\n",
              "</table>\n",
              "</div>"
            ],
            "text/plain": [
              "           1       2          3       4   ...      7        8       9        10\n",
              "高  girlfriend  set to  celebrity  prompt  ...  people  effects     gay  finally\n",
              "低         out  mother       tour   costs  ...     key      day  in the     cars\n",
              "\n",
              "[2 rows x 10 columns]"
            ]
          },
          "metadata": {
            "tags": []
          }
        }
      ]
    },
    {
      "cell_type": "markdown",
      "metadata": {
        "id": "GdeFbWmovAlw"
      },
      "source": [
        "## knock58"
      ]
    },
    {
      "cell_type": "code",
      "metadata": {
        "colab": {
          "base_uri": "https://localhost:8080/"
        },
        "id": "KctkH931vCy1",
        "outputId": "3d83303d-f4da-4cd5-f4de-4a0ce7ed37c3"
      },
      "source": [
        "from tqdm import tqdm\n",
        "\n",
        "result = []\n",
        "\n",
        "for C in tqdm(np.logspace(-5, 4, 10, base=10)):\n",
        "    lr = LogisticRegression(random_state=0, max_iter=10000, C=C)\n",
        "    lr.fit(x_train, train['CATEGORY'])\n",
        "\n",
        "    train_accuracy = accuracy_score(train['CATEGORY'], eval_lr(x_train)[1])\n",
        "    valid_accuracy = accuracy_score(valid['CATEGORY'], eval_lr(x_valid)[1])\n",
        "    test_accuracy = accuracy_score(test['CATEGORY'], eval_lr(x_test)[1])\n",
        "\n",
        "    result.append([C, train_accuracy, valid_accuracy, test_accuracy])"
      ],
      "execution_count": 10,
      "outputs": [
        {
          "output_type": "stream",
          "text": [
            "100%|██████████| 10/10 [35:54<00:00, 215.44s/it]\n"
          ],
          "name": "stderr"
        }
      ]
    },
    {
      "cell_type": "code",
      "metadata": {
        "colab": {
          "base_uri": "https://localhost:8080/",
          "height": 269
        },
        "id": "7wTvMrYzwALa",
        "outputId": "39c55110-e51d-451a-c6fb-a2aade5a1c90"
      },
      "source": [
        "result = np.array(result).T\n",
        "plt.plot(result[0], result[1], label='train')\n",
        "plt.plot(result[0], result[2], label='valid')\n",
        "plt.plot(result[0], result[3], label='test')\n",
        "plt.xscale ('log')\n",
        "plt.show()"
      ],
      "execution_count": 11,
      "outputs": [
        {
          "output_type": "display_data",
          "data": {
            "image/png": "[encoded data removed]",
            "text/plain": [
              "<Figure size 432x288 with 1 Axes>"
            ]
          },
          "metadata": {
            "tags": [],
            "needs_background": "light"
          }
        }
      ]
    },
    {
      "cell_type": "markdown",
      "metadata": {
        "id": "uxP7ekziv3h5"
      },
      "source": [
        "## knock59"
      ]
    },
    {
      "cell_type": "code",
      "metadata": {
        "colab": {
          "base_uri": "https://localhost:8080/"
        },
        "id": "-jtV0XtTv6i1",
        "outputId": "dd385457-9fca-4928-8bd7-98f3ade41bb0"
      },
      "source": [
        "!pip install optuna"
      ],
      "execution_count": 12,
      "outputs": [
        {
          "output_type": "stream",
          "text": [
            "Requirement already satisfied: optuna in /usr/local/lib/python3.7/dist-packages (2.8.0)\n",
            "Requirement already satisfied: alembic in /usr/local/lib/python3.7/dist-packages (from optuna) (1.6.5)\n",
            "Requirement already satisfied: numpy in /usr/local/lib/python3.7/dist-packages (from optuna) (1.19.5)\n",
            "Requirement already satisfied: cliff in /usr/local/lib/python3.7/dist-packages (from optuna) (3.8.0)\n",
            "Requirement already satisfied: scipy!=1.4.0 in /usr/local/lib/python3.7/dist-packages (from optuna) (1.4.1)\n",
            "Requirement already satisfied: colorlog in /usr/local/lib/python3.7/dist-packages (from optuna) (5.0.1)\n",
            "Requirement already satisfied: cmaes>=0.8.2 in /usr/local/lib/python3.7/dist-packages (from optuna) (0.8.2)\n",
            "Requirement already satisfied: tqdm in /usr/local/lib/python3.7/dist-packages (from optuna) (4.41.1)\n",
            "Requirement already satisfied: sqlalchemy>=1.1.0 in /usr/local/lib/python3.7/dist-packages (from optuna) (1.4.18)\n",
            "Requirement already satisfied: packaging>=20.0 in /usr/local/lib/python3.7/dist-packages (from optuna) (20.9)\n",
            "Requirement already satisfied: python-dateutil in /usr/local/lib/python3.7/dist-packages (from alembic->optuna) (2.8.1)\n",
            "Requirement already satisfied: Mako in /usr/local/lib/python3.7/dist-packages (from alembic->optuna) (1.1.4)\n",
            "Requirement already satisfied: python-editor>=0.3 in /usr/local/lib/python3.7/dist-packages (from alembic->optuna) (1.0.4)\n",
            "Requirement already satisfied: pyparsing>=2.1.0 in /usr/local/lib/python3.7/dist-packages (from cliff->optuna) (2.4.7)\n",
            "Requirement already satisfied: PyYAML>=3.12 in /usr/local/lib/python3.7/dist-packages (from cliff->optuna) (3.13)\n",
            "Requirement already satisfied: pbr!=2.1.0,>=2.0.0 in /usr/local/lib/python3.7/dist-packages (from cliff->optuna) (5.6.0)\n",
            "Requirement already satisfied: stevedore>=2.0.1 in /usr/local/lib/python3.7/dist-packages (from cliff->optuna) (3.3.0)\n",
            "Requirement already satisfied: cmd2>=1.0.0 in /usr/local/lib/python3.7/dist-packages (from cliff->optuna) (2.1.1)\n",
            "Requirement already satisfied: PrettyTable>=0.7.2 in /usr/local/lib/python3.7/dist-packages (from cliff->optuna) (2.1.0)\n",
            "Requirement already satisfied: greenlet!=0.4.17; python_version >= \"3\" in /usr/local/lib/python3.7/dist-packages (from sqlalchemy>=1.1.0->optuna) (1.1.0)\n",
            "Requirement already satisfied: importlib-metadata; python_version < \"3.8\" in /usr/local/lib/python3.7/dist-packages (from sqlalchemy>=1.1.0->optuna) (4.5.0)\n",
            "Requirement already satisfied: six>=1.5 in /usr/local/lib/python3.7/dist-packages (from python-dateutil->alembic->optuna) (1.15.0)\n",
            "Requirement already satisfied: MarkupSafe>=0.9.2 in /usr/local/lib/python3.7/dist-packages (from Mako->alembic->optuna) (2.0.1)\n",
            "Requirement already satisfied: pyperclip>=1.6 in /usr/local/lib/python3.7/dist-packages (from cmd2>=1.0.0->cliff->optuna) (1.8.2)\n",
            "Requirement already satisfied: wcwidth>=0.1.7 in /usr/local/lib/python3.7/dist-packages (from cmd2>=1.0.0->cliff->optuna) (0.2.5)\n",
            "Requirement already satisfied: attrs>=16.3.0 in /usr/local/lib/python3.7/dist-packages (from cmd2>=1.0.0->cliff->optuna) (21.2.0)\n",
            "Requirement already satisfied: typing-extensions; python_version < \"3.8\" in /usr/local/lib/python3.7/dist-packages (from cmd2>=1.0.0->cliff->optuna) (3.7.4.3)\n",
            "Requirement already satisfied: colorama>=0.3.7 in /usr/local/lib/python3.7/dist-packages (from cmd2>=1.0.0->cliff->optuna) (0.4.4)\n",
            "Requirement already satisfied: zipp>=0.5 in /usr/local/lib/python3.7/dist-packages (from importlib-metadata; python_version < \"3.8\"->sqlalchemy>=1.1.0->optuna) (3.4.1)\n"
          ],
          "name": "stdout"
        }
      ]
    },
    {
      "cell_type": "code",
      "metadata": {
        "colab": {
          "base_uri": "https://localhost:8080/"
        },
        "id": "4y1G6kW3wCBq",
        "outputId": "6e0d8eaa-9d6e-4a63-86f3-1c09e213901f"
      },
      "source": [
        "import optuna\n",
        "\n",
        "def objective_lr(trial):\n",
        "    l1_ratio = trial.suggest_uniform('l1_ratio', 0, 1)\n",
        "    C = trial.suggest_loguniform('C', 1e-4, 1e4)\n",
        "\n",
        "    lr = LogisticRegression(random_state=0, \n",
        "                            max_iter=10000, \n",
        "                            penalty='elasticnet', \n",
        "                            solver='saga', \n",
        "                            l1_ratio=l1_ratio, \n",
        "                            C=C)\n",
        "    lr.fit(x_train, train['CATEGORY'])\n",
        "    valid_pred = eval_lr(x_valid)\n",
        "    valid_accuracy = accuracy_score(valid['CATEGORY'], valid_pred[1])    \n",
        "    return valid_accuracy \n",
        "\n",
        "study = optuna.create_study(direction='maximize')\n",
        "study.optimize(objective_lr, timeout=3600)\n",
        "trial = study.best_trial"
      ],
      "execution_count": 13,
      "outputs": [
        {
          "output_type": "stream",
          "text": [
            "\u001b[32m[I 2021-06-29 01:00:03,085]\u001b[0m A new study created in memory with name: no-name-f58545be-f697-436d-b716-87dc0dc6f57b\u001b[0m\n",
            "\u001b[32m[I 2021-06-29 02:09:03,165]\u001b[0m Trial 0 finished with value: 0.32233883058470764 and parameters: {'l1_ratio': 0.9835073013776175, 'C': 70.52670871864913}. Best is trial 0 with value: 0.32233883058470764.\u001b[0m\n"
          ],
          "name": "stderr"
        }
      ]
    },
    {
      "cell_type": "code",
      "metadata": {
        "colab": {
          "base_uri": "https://localhost:8080/"
        },
        "id": "lDCr6CwJwbEM",
        "outputId": "8c8b8546-6ff5-4b15-eac1-a91db33f7493"
      },
      "source": [
        "l1_ratio = trial.params['l1_ratio']\n",
        "C = trial.params['C']\n",
        "\n",
        "lr = LogisticRegression(random_state=0, \n",
        "                        max_iter=10000, \n",
        "                        penalty='elasticnet', \n",
        "                        solver='saga', \n",
        "                        l1_ratio=l1_ratio, \n",
        "                        C=C)\n",
        "lr.fit(x_train, train['CATEGORY'])\n",
        "\n",
        "train_accuracy = accuracy_score(train['CATEGORY'], eval_lr(x_train)[1]) \n",
        "valid_accuracy = accuracy_score(valid['CATEGORY'], eval_lr(x_valid)[1]) \n",
        "test_accuracy = accuracy_score(test['CATEGORY'], eval_lr(x_test)[1]) \n",
        "\n",
        "print(f'学習データ: {train_accuracy:.3f}')\n",
        "print(f'検証データ: {valid_accuracy:.3f}')\n",
        "print(f'評価データ: {test_accuracy:.3f}')"
      ],
      "execution_count": 14,
      "outputs": [
        {
          "output_type": "stream",
          "text": [
            "学習データ: 0.715\n",
            "検証データ: 0.323\n",
            "評価データ: 0.309\n"
          ],
          "name": "stdout"
        }
      ]
    }
  ]
}