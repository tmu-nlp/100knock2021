{
 "cells": [
  {
   "cell_type": "code",
   "execution_count": 1,
   "id": "d0fa98be-2947-4314-b36d-9e15e220605e",
   "metadata": {},
   "outputs": [
    {
     "name": "stdout",
     "output_type": "stream",
     "text": [
      "パタトクカシーー\n"
     ]
    }
   ],
   "source": [
    "x=\"パトカー\"\n",
    "y=\"タクシー\"\n",
    "xy_word=[]\n",
    "for ch1,ch2 in zip(x,y):\n",
    "    xy=ch1+ch2\n",
    "    xy_word.append(xy)\n",
    "print(\"\".join(xy_word))"
   ]
  },
  {
   "cell_type": "code",
   "execution_count": null,
   "id": "f77e8abe-5caa-4c4d-9c46-7a8a902142ca",
   "metadata": {},
   "outputs": [],
   "source": []
  }
 ],
 "metadata": {
  "kernelspec": {
   "display_name": "Python 3",
   "language": "python",
   "name": "python3"
  },
  "language_info": {
   "codemirror_mode": {
    "name": "ipython",
    "version": 3
   },
   "file_extension": ".py",
   "mimetype": "text/x-python",
   "name": "python",
   "nbconvert_exporter": "python",
   "pygments_lexer": "ipython3",
   "version": "3.9.4"
  }
 },
 "nbformat": 4,
 "nbformat_minor": 5
}
