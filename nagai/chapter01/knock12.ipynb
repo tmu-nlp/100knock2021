{
 "cells": [
  {
   "cell_type": "code",
   "execution_count": 2,
   "id": "9715d0bd-7b8b-4b37-86d4-11fe6474a7f7",
   "metadata": {},
   "outputs": [
    {
     "name": "stdout",
     "output_type": "stream",
     "text": [
      "0            Mary\n",
      "1            Anna\n",
      "2            Emma\n",
      "3       Elizabeth\n",
      "4          Minnie\n",
      "          ...    \n",
      "2775     Benjamin\n",
      "2776       Elijah\n",
      "2777        Lucas\n",
      "2778        Mason\n",
      "2779        Logan\n",
      "Name: 0, Length: 2780, dtype: object\n"
     ]
    }
   ],
   "source": [
    "def savetext(name,text):\n",
    "    with open(name,'w') as file:\n",
    "            file.write(text)\n",
    "\n",
    "import pandas as pd\n",
    "data = pd.read_table('https://nlp100.github.io/data/popular-names.txt', header=None)\n",
    "col1=data.iloc[:,0]\n",
    "col2=data.iloc[:,1]\n",
    "savetext('col1.txt',\"\\n\".join(col1))\n",
    "savetext('col2.txt',\"\\n\".join(col2))\n",
    "\n",
    "#cut -f 1 popular-names.txt > col1.txt\n",
    "#cut -f 2 popular-names.txt > col2.txt"
   ]
  },
  {
   "cell_type": "code",
   "execution_count": null,
   "id": "a5e52412-dbd1-411b-a1fc-97105a48d888",
   "metadata": {},
   "outputs": [],
   "source": []
  }
 ],
 "metadata": {
  "kernelspec": {
   "display_name": "Python 3",
   "language": "python",
   "name": "python3"
  },
  "language_info": {
   "codemirror_mode": {
    "name": "ipython",
    "version": 3
   },
   "file_extension": ".py",
   "mimetype": "text/x-python",
   "name": "python",
   "nbconvert_exporter": "python",
   "pygments_lexer": "ipython3",
   "version": "3.9.4"
  }
 },
 "nbformat": 4,
 "nbformat_minor": 5
}
