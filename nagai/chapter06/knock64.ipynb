{
 "cells": [
  {
   "cell_type": "code",
   "execution_count": 39,
   "id": "97734713-bc27-453d-bc7a-89fe5b306086",
   "metadata": {},
   "outputs": [],
   "source": [
    "import gensim\n",
    "from gensim.models import KeyedVectors\n",
    "model=gensim.models.KeyedVectors.load_word2vec_format(\"GoogleNews-vectors-negative300.bin.gz\",binary=True)\n",
    "#64\n",
    "with open(\"questions-words.txt.crdownload\",\"r\",encoding=\"utf-8\") as q:\n",
    "    result=[]\n",
    "    cate=None\n",
    "    for line in q:\n",
    "        line=line.strip()\n",
    "        words=line.split()\n",
    "        if len(words)==4 and words[0]!=\":\":\n",
    "            tuple1=model.most_similar(positive=[words[1],words[2]], negative=[words[0]],topn=1)\n",
    "            words.append(tuple1[0][0])\n",
    "            words.append(str(tuple1[0][1]))\n",
    "            words.insert(0,cate)\n",
    "            result.append(words)\n",
    "        elif words[0]==\":\":\n",
    "            cate=words[1]\n",
    "\n",
    "with open(\"ans.txt\",\"w\",encoding=\"utf-8\") as a:\n",
    "    for w in result:\n",
    "        a.write(\"{}\\n\".format(\" \".join(w)))\n",
    "                "
   ]
  },
  {
   "cell_type": "code",
   "execution_count": null,
   "id": "01a7f7b8-242a-4b47-9bf9-692ac47d1593",
   "metadata": {},
   "outputs": [],
   "source": []
  },
  {
   "cell_type": "code",
   "execution_count": null,
   "id": "55bc2c12-7485-4acb-a6c2-caddb325edcf",
   "metadata": {},
   "outputs": [],
   "source": []
  }
 ],
 "metadata": {
  "kernelspec": {
   "display_name": "Python 3",
   "language": "python",
   "name": "python3"
  },
  "language_info": {
   "codemirror_mode": {
    "name": "ipython",
    "version": 3
   },
   "file_extension": ".py",
   "mimetype": "text/x-python",
   "name": "python",
   "nbconvert_exporter": "python",
   "pygments_lexer": "ipython3",
   "version": "3.9.4"
  }
 },
 "nbformat": 4,
 "nbformat_minor": 5
}
