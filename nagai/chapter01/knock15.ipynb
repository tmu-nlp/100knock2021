{
 "cells": [
  {
   "cell_type": "code",
   "execution_count": 14,
   "id": "cb6e4b03-74ed-4235-9890-0431b15d6508",
   "metadata": {},
   "outputs": [
    {
     "name": "stdout",
     "output_type": "stream",
     "text": [
      "Liam\tM\t19837\t2018\n",
      "Noah\tM\t18267\t2018\n",
      "William\tM\t14516\t2018\n",
      "James\tM\t13525\t2018\n",
      "Oliver\tM\t13389\t2018\n",
      "Benjamin\tM\t13381\t2018\n",
      "Elijah\tM\t12886\t2018\n",
      "Lucas\tM\t12585\t2018\n",
      "Mason\tM\t12435\t2018\n",
      "Logan\tM\t12352\t2018\n",
      "\n"
     ]
    }
   ],
   "source": [
    "with open(\"kaisu.txt\",\"r\") as num:\n",
    "    N=int(num.read())\n",
    "    N1=N*(-1)\n",
    "    \n",
    "with open(\"popular-names.txt\",\"r\") as name_file:\n",
    "    lines=name_file.readlines()\n",
    "    print(\"\".join(lines[N1:]))\n",
    "    \n",
    "#tail -n 10 popular-names.txt"
   ]
  },
  {
   "cell_type": "code",
   "execution_count": null,
   "id": "9b1c9817-4c8f-43e4-9f06-adeb903c99e1",
   "metadata": {},
   "outputs": [],
   "source": []
  }
 ],
 "metadata": {
  "kernelspec": {
   "display_name": "Python 3",
   "language": "python",
   "name": "python3"
  },
  "language_info": {
   "codemirror_mode": {
    "name": "ipython",
    "version": 3
   },
   "file_extension": ".py",
   "mimetype": "text/x-python",
   "name": "python",
   "nbconvert_exporter": "python",
   "pygments_lexer": "ipython3",
   "version": "3.9.4"
  }
 },
 "nbformat": 4,
 "nbformat_minor": 5
}
