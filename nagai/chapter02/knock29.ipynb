{
 "cells": [
  {
   "cell_type": "code",
   "execution_count": 11,
   "id": "6c95bdad-9764-4078-8452-5889b268b2fb",
   "metadata": {},
   "outputs": [
    {
     "name": "stdout",
     "output_type": "stream",
     "text": [
      "File:Flag of the United Kingdom.svg is uploaded by User:https://upload.wikimedia.org/wikipedia/en/a/ae/Flag_of_the_United_Kingdom.svg\n"
     ]
    }
   ],
   "source": [
    "import json\n",
    "import gzip\n",
    "import re\n",
    "import requests\n",
    "\n",
    "template={}\n",
    "with gzip.open(\"jawiki-country.json.gz\",\"r\") as data_file:\n",
    "    for line in data_file:\n",
    "        data=json.loads(line)\n",
    "        if data[\"title\"]==\"イギリス\":\n",
    "            text=data[\"text\"]\n",
    "            obj1=re.search(\".*基礎情報 国\",text)\n",
    "            obj2=re.search(r\"(.*)\\n}}\\n\",text[obj1.end():])\n",
    "            text2=text[obj1.end():obj2.end()+obj1.end()].split(\"\\n\")\n",
    "            for line2 in text2:\n",
    "                item=re.match(r\"\\|(.+)\\s=(.*)\",line2)\n",
    "                if item!=None:\n",
    "                    item2=re.sub(r\"\\'{2,5}|<br />|<ref(.*)>|\\(\\+.+?\\)\",\"\",item.group(2))\n",
    "                    item2=re.sub(r\"\\{\\{lang\\|(?:[^\\|]+?\\|)([^\\|]+?)\\}\\}\",r\"\\1\",item2)\n",
    "                    item2=re.sub(r\"\\[\\[ファイル:(.+?)\\]\\]\",r\"\\1\",item2)\n",
    "                    item2=re.sub(r\"\\[\\[([^\\|]+?)\\]\\]\",r\"\\1\",item2)\n",
    "                    item2=re.sub(r\"\\[\\[(?:[^\\|]+?\\|)([^\\|]+?)\\]\\]\",r\"\\1\",item2)\n",
    "                    item2=re.sub(r\"\\{\\{[^仮リンク]+?\\}\\}\",\"\",item2)\n",
    "                    item2=re.sub(r\"\\{\\{仮リンク\\|([^\\|]+?)\\|.+?\\}\\}\",r\"\\1\",item2)\n",
    "                    template[item.group(1)]=item2\n",
    "                    \n",
    "                    if item.group(1)==\"国旗画像\":\n",
    "                        S=requests.Session()\n",
    "                        URL=\"https://en.wikipedia.org/w/api.php\"\n",
    "                        PARAMS = {\n",
    "                            \"action\": \"query\",\n",
    "                            \"format\": \"json\",\n",
    "                            \"prop\": \"imageinfo\",\n",
    "                            \"titles\":\"File:\"+template[\"国旗画像\"],\n",
    "                            \"iiprop\":\"url\"\n",
    "                        }\n",
    "                        R=S.get(url=URL,params=PARAMS)\n",
    "                        DATA = R.json()\n",
    "                        PAGES = DATA[\"query\"][\"pages\"]\n",
    "\n",
    "                        for k, v in PAGES.items():\n",
    "                            print(v[\"title\"] + \" is uploaded by User:\" + v[\"imageinfo\"][0][\"url\"] )"
   ]
  },
  {
   "cell_type": "code",
   "execution_count": null,
   "id": "f1791f94-c3bd-4980-8f51-9cc78114f158",
   "metadata": {},
   "outputs": [],
   "source": []
  },
  {
   "cell_type": "code",
   "execution_count": null,
   "id": "f7c91f8c-831f-480d-9d01-4173af08a849",
   "metadata": {},
   "outputs": [],
   "source": []
  }
 ],
 "metadata": {
  "kernelspec": {
   "display_name": "Python 3",
   "language": "python",
   "name": "python3"
  },
  "language_info": {
   "codemirror_mode": {
    "name": "ipython",
    "version": 3
   },
   "file_extension": ".py",
   "mimetype": "text/x-python",
   "name": "python",
   "nbconvert_exporter": "python",
   "pygments_lexer": "ipython3",
   "version": "3.9.4"
  }
 },
 "nbformat": 4,
 "nbformat_minor": 5
}
