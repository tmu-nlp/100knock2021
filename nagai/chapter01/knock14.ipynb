{
 "cells": [
  {
   "cell_type": "code",
   "execution_count": 12,
   "id": "cbd2e59a-9944-4040-b4ec-1996416b6da4",
   "metadata": {},
   "outputs": [
    {
     "name": "stdout",
     "output_type": "stream",
     "text": [
      "Mary\tF\t7065\t1880\n",
      "Anna\tF\t2604\t1880\n",
      "Emma\tF\t2003\t1880\n",
      "Elizabeth\tF\t1939\t1880\n",
      "Minnie\tF\t1746\t1880\n",
      "Margaret\tF\t1578\t1880\n",
      "Ida\tF\t1472\t1880\n",
      "Alice\tF\t1414\t1880\n",
      "Bertha\tF\t1320\t1880\n",
      "Sarah\tF\t1288\t1880\n"
     ]
    }
   ],
   "source": [
    "with open(\"kaisu.txt\",\"r\") as num:\n",
    "    N=int(num.read())\n",
    "    \n",
    "count=0\n",
    "with open(\"popular-names.txt\",\"r\") as name_file:\n",
    "    for line in name_file:\n",
    "        line=line.strip()\n",
    "        words=line.split()\n",
    "        print(\"\\t\".join(words))\n",
    "        count+=1\n",
    "        if count==N:\n",
    "            break\n",
    "            \n",
    "# head -n 10 popular-names.txt"
   ]
  },
  {
   "cell_type": "code",
   "execution_count": null,
   "id": "c40c2760-911c-4800-9c4d-860ec651c2b5",
   "metadata": {},
   "outputs": [],
   "source": []
  },
  {
   "cell_type": "code",
   "execution_count": null,
   "id": "b8c7f494-40d1-4eb2-a60b-fe3c9adbd5e2",
   "metadata": {},
   "outputs": [],
   "source": []
  }
 ],
 "metadata": {
  "kernelspec": {
   "display_name": "Python 3",
   "language": "python",
   "name": "python3"
  },
  "language_info": {
   "codemirror_mode": {
    "name": "ipython",
    "version": 3
   },
   "file_extension": ".py",
   "mimetype": "text/x-python",
   "name": "python",
   "nbconvert_exporter": "python",
   "pygments_lexer": "ipython3",
   "version": "3.9.4"
  }
 },
 "nbformat": 4,
 "nbformat_minor": 5
}
